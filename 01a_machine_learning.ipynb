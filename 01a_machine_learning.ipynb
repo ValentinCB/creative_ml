{
 "cells": [
  {
   "cell_type": "markdown",
   "metadata": {},
   "source": [
    "# Creative machine learning - Machine Learning\n",
    "\n",
    "### Author: Philippe Esling (esling@ircam.fr)\n",
    "\n",
    "In this course we will cover\n",
    "1. A [first definition](#definition) on the concept of machine learning\n",
    "2. An introduction to a simple problem of [linear regression](#regression)\n",
    "4. A detailed implementation of [simple linear regression](#linear)\n",
    "3. An explanation on [model capacity and overfitting](#capacity)\n",
    "4. Two [exercises](#exercises) to explore regression and classification\n",
    "4. An introduction to the [audio datasets](#audio) that we will use"
   ]
  },
  {
   "cell_type": "markdown",
   "metadata": {},
   "source": [
    "<a id=\"definition\"></a>\n",
    "## Defining machine learning\n",
    "\n",
    "In all natural process, there exists complex relations between sets $\\mathcal{X} \\mapsto \\mathcal{Y}$. This can relate some objects with their names, or a cause to a consequence. In most cases, _we do not know the precise relations_ between these sets, all we have is _observations_ such as pairs $(x,y)$, composed of input data $x \\in \\mathcal{X}$, which have a corresponding expected output $y \\in \\mathcal{Y}$. The overarching goal of machine learning is to approximate such _unknown processes_ as a function $\\mathcal{F}_{\\theta}$, which _transforms_ input data $x$ into output data $y$.\n",
    "\n",
    "\n",
    "<center>\n",
    "<img src=\"images/01_machine_learning_basic.png\" align=\"center\"/>\n",
    "</center>\n",
    "\n",
    "Hence, machine learning aims to understand and model the relationship between some (usually complex and high-dimensional) inputs $\\mathbf{x}\\in\\mathcal{X}\\subset\\mathbb{R}^{\\mathcal{X}}$ and outputs $\\mathbf{y}\\in\\mathcal{Y}\\subset\\mathbb{R}^{\\mathcal{Y}}$, given by a set of data examples $\\mathcal{D}=\\left\\{(x_1,y_1),\\cdots,(x_N,y_N)\\right\\}$. This is achieved by defining a parametric model $f_{\\mathbf{\\theta}}\\in\\mathcal{F}$ inside a family of functions $\\mathcal{F}$, which depends on parameters $\\mathbf{\\theta} \\in \\mathbf{\\Theta}$ and that could approximate the underlying relationship. The _learning_ aspect refers to the adjustment of the parameters $\\mathbf{\\theta}$ in order to obtain the best approximation of the given task\n",
    "$$\n",
    "\\begin{equation}\n",
    "f_{\\mathbf{\\theta}}(\\mathbf{x}) = \\bar{\\mathbf{y}}\\approx \\mathbf{y}.\n",
    "\\end{equation}\n",
    "$$\n",
    "\n",
    "Hence, the major elements that we have to define in any machine learning problems are\n",
    "1. **Dataset** : $\\mathcal{D}=\\left\\{(x_1,y_1),\\cdots,(x_N,y_N)\\right\\}$. This dataset has to be representative of the relation $f:\\mathcal{X} \\mapsto \\mathcal{Y}$ that we are looking to model\n",
    "2. **Model** : Our parametric approximation $\\bar{\\mathbf{y}} = f_{\\mathbf{\\theta}}(\\mathbf{x})$, where the choice of family $f_{\\mathbf{\\theta}}\\in\\mathcal{F}$ is critical\n",
    "3. **Loss** : $\\mathcal{L}\\left( \\bar{\\mathbf{y}}, \\mathbf{y} \\mid f_{\\theta}, \\theta \\right)$ allows to measure the amount of errors made by our model\n",
    "4. **Optimization** : Method to find $\\theta^{*}\\in\\Theta$ so that our model minimizes the loss\n",
    "$$\\theta^{*}= \\underset{\\theta}{\\text{argmin }} \\mathcal{L}\\left( \\bar{\\mathbf{y}}, \\mathbf{y} \\mid f_{\\theta}, \\theta \\right)$$\n",
    "\n",
    "\n",
    "To observe this idea in simple setups, we are going to use the `numpy` library and also initialize the homemade course library `cml` and style for future plotting and exercise. We also set the random generator to a fixed point with `rng = np.random.RandomState(1)`, to ensure reproducibility"
   ]
  },
  {
   "cell_type": "code",
   "execution_count": 1,
   "metadata": {},
   "outputs": [
    {
     "data": {
      "text/html": [
       "    <style>\n",
       "        .bk-notebook-logo {\n",
       "            display: block;\n",
       "            width: 20px;\n",
       "            height: 20px;\n",
       "            background-image: url(data:image/png;base64,iVBORw0KGgoAAAANSUhEUgAAABQAAAAUCAYAAACNiR0NAAAABHNCSVQICAgIfAhkiAAAAAlwSFlzAAALEgAACxIB0t1+/AAAABx0RVh0U29mdHdhcmUAQWRvYmUgRmlyZXdvcmtzIENTNui8sowAAAOkSURBVDiNjZRtaJVlGMd/1/08zzln5zjP1LWcU9N0NkN8m2CYjpgQYQXqSs0I84OLIC0hkEKoPtiH3gmKoiJDU7QpLgoLjLIQCpEsNJ1vqUOdO7ppbuec5+V+rj4ctwzd8IIbbi6u+8f1539dt3A78eXC7QizUF7gyV1fD1Yqg4JWz84yffhm0qkFqBogB9rM8tZdtwVsPUhWhGcFJngGeWrPzHm5oaMmkfEg1usvLFyc8jLRqDOMru7AyC8saQr7GG7f5fvDeH7Ej8CM66nIF+8yngt6HWaKh7k49Soy9nXurCi1o3qUbS3zWfrYeQDTB/Qj6kX6Ybhw4B+bOYoLKCC9H3Nu/leUTZ1JdRWkkn2ldcCamzrcf47KKXdAJllSlxAOkRgyHsGC/zRday5Qld9DyoM4/q/rUoy/CXh3jzOu3bHUVZeU+DEn8FInkPBFlu3+nW3Nw0mk6vCDiWg8CeJaxEwuHS3+z5RgY+YBR6V1Z1nxSOfoaPa4LASWxxdNp+VWTk7+4vzaou8v8PN+xo+KY2xsw6une2frhw05CTYOmQvsEhjhWjn0bmXPjpE1+kplmmkP3suftwTubK9Vq22qKmrBhpY4jvd5afdRA3wGjFAgcnTK2s4hY0/GPNIb0nErGMCRxWOOX64Z8RAC4oCXdklmEvcL8o0BfkNK4lUg9HTl+oPlQxdNo3Mg4Nv175e/1LDGzZen30MEjRUtmXSfiTVu1kK8W4txyV6BMKlbgk3lMwYCiusNy9fVfvvwMxv8Ynl6vxoByANLTWplvuj/nF9m2+PDtt1eiHPBr1oIfhCChQMBw6Aw0UulqTKZdfVvfG7VcfIqLG9bcldL/+pdWTLxLUy8Qq38heUIjh4XlzZxzQm19lLFlr8vdQ97rjZVOLf8nclzckbcD4wxXMidpX30sFd37Fv/GtwwhzhxGVAprjbg0gCAEeIgwCZyTV2Z1REEW8O4py0wsjeloKoMr6iCY6dP92H6Vw/oTyICIthibxjm/DfN9lVz8IqtqKYLUXfoKVMVQVVJOElGjrnnUt9T9wbgp8AyYKaGlqingHZU/uG2NTZSVqwHQTWkx9hxjkpWDaCg6Ckj5qebgBVbT3V3NNXMSiWSDdGV3hrtzla7J+duwPOToIg42ChPQOQjspnSlp1V+Gjdged7+8UN5CRAV7a5EdFNwCjEaBR27b3W890TE7g24NAP/mMDXRWrGoFPQI9ls/MWO2dWFAar/xcOIImbbpA3zgAAAABJRU5ErkJggg==);\n",
       "        }\n",
       "    </style>\n",
       "    <div>\n",
       "        <a href=\"https://bokeh.org\" target=\"_blank\" class=\"bk-notebook-logo\"></a>\n",
       "        <span id=\"c866ee80-9001-4491-9f01-a2f8c9ad6a31\">Loading BokehJS ...</span>\n",
       "    </div>\n"
      ]
     },
     "metadata": {},
     "output_type": "display_data"
    },
    {
     "data": {
      "application/javascript": "'use strict';\n(function(root) {\n  function now() {\n    return new Date();\n  }\n\n  const force = true;\n\n  if (typeof root._bokeh_onload_callbacks === \"undefined\" || force === true) {\n    root._bokeh_onload_callbacks = [];\n    root._bokeh_is_loading = undefined;\n  }\n\nconst JS_MIME_TYPE = 'application/javascript';\n  const HTML_MIME_TYPE = 'text/html';\n  const EXEC_MIME_TYPE = 'application/vnd.bokehjs_exec.v0+json';\n  const CLASS_NAME = 'output_bokeh rendered_html';\n\n  /**\n   * Render data to the DOM node\n   */\n  function render(props, node) {\n    const script = document.createElement(\"script\");\n    node.appendChild(script);\n  }\n\n  /**\n   * Handle when an output is cleared or removed\n   */\n  function handleClearOutput(event, handle) {\n    function drop(id) {\n      const view = Bokeh.index.get_by_id(id)\n      if (view != null) {\n        view.model.document.clear()\n        Bokeh.index.delete(view)\n      }\n    }\n\n    const cell = handle.cell;\n\n    const id = cell.output_area._bokeh_element_id;\n    const server_id = cell.output_area._bokeh_server_id;\n\n    // Clean up Bokeh references\n    if (id != null) {\n      drop(id)\n    }\n\n    if (server_id !== undefined) {\n      // Clean up Bokeh references\n      const cmd_clean = \"from bokeh.io.state import curstate; print(curstate().uuid_to_server['\" + server_id + \"'].get_sessions()[0].document.roots[0]._id)\";\n      cell.notebook.kernel.execute(cmd_clean, {\n        iopub: {\n          output: function(msg) {\n            const id = msg.content.text.trim()\n            drop(id)\n          }\n        }\n      });\n      // Destroy server and session\n      const cmd_destroy = \"import bokeh.io.notebook as ion; ion.destroy_server('\" + server_id + \"')\";\n      cell.notebook.kernel.execute(cmd_destroy);\n    }\n  }\n\n  /**\n   * Handle when a new output is added\n   */\n  function handleAddOutput(event, handle) {\n    const output_area = handle.output_area;\n    const output = handle.output;\n\n    // limit handleAddOutput to display_data with EXEC_MIME_TYPE content only\n    if ((output.output_type != \"display_data\") || (!Object.prototype.hasOwnProperty.call(output.data, EXEC_MIME_TYPE))) {\n      return\n    }\n\n    const toinsert = output_area.element.find(\".\" + CLASS_NAME.split(' ')[0]);\n\n    if (output.metadata[EXEC_MIME_TYPE][\"id\"] !== undefined) {\n      toinsert[toinsert.length - 1].firstChild.textContent = output.data[JS_MIME_TYPE];\n      // store reference to embed id on output_area\n      output_area._bokeh_element_id = output.metadata[EXEC_MIME_TYPE][\"id\"];\n    }\n    if (output.metadata[EXEC_MIME_TYPE][\"server_id\"] !== undefined) {\n      const bk_div = document.createElement(\"div\");\n      bk_div.innerHTML = output.data[HTML_MIME_TYPE];\n      const script_attrs = bk_div.children[0].attributes;\n      for (let i = 0; i < script_attrs.length; i++) {\n        toinsert[toinsert.length - 1].firstChild.setAttribute(script_attrs[i].name, script_attrs[i].value);\n        toinsert[toinsert.length - 1].firstChild.textContent = bk_div.children[0].textContent\n      }\n      // store reference to server id on output_area\n      output_area._bokeh_server_id = output.metadata[EXEC_MIME_TYPE][\"server_id\"];\n    }\n  }\n\n  function register_renderer(events, OutputArea) {\n\n    function append_mime(data, metadata, element) {\n      // create a DOM node to render to\n      const toinsert = this.create_output_subarea(\n        metadata,\n        CLASS_NAME,\n        EXEC_MIME_TYPE\n      );\n      this.keyboard_manager.register_events(toinsert);\n      // Render to node\n      const props = {data: data, metadata: metadata[EXEC_MIME_TYPE]};\n      render(props, toinsert[toinsert.length - 1]);\n      element.append(toinsert);\n      return toinsert\n    }\n\n    /* Handle when an output is cleared or removed */\n    events.on('clear_output.CodeCell', handleClearOutput);\n    events.on('delete.Cell', handleClearOutput);\n\n    /* Handle when a new output is added */\n    events.on('output_added.OutputArea', handleAddOutput);\n\n    /**\n     * Register the mime type and append_mime function with output_area\n     */\n    OutputArea.prototype.register_mime_type(EXEC_MIME_TYPE, append_mime, {\n      /* Is output safe? */\n      safe: true,\n      /* Index of renderer in `output_area.display_order` */\n      index: 0\n    });\n  }\n\n  // register the mime type if in Jupyter Notebook environment and previously unregistered\n  if (root.Jupyter !== undefined) {\n    const events = require('base/js/events');\n    const OutputArea = require('notebook/js/outputarea').OutputArea;\n\n    if (OutputArea.prototype.mime_types().indexOf(EXEC_MIME_TYPE) == -1) {\n      register_renderer(events, OutputArea);\n    }\n  }\n  if (typeof (root._bokeh_timeout) === \"undefined\" || force === true) {\n    root._bokeh_timeout = Date.now() + 5000;\n    root._bokeh_failed_load = false;\n  }\n\n  const NB_LOAD_WARNING = {'data': {'text/html':\n     \"<div style='background-color: #fdd'>\\n\"+\n     \"<p>\\n\"+\n     \"BokehJS does not appear to have successfully loaded. If loading BokehJS from CDN, this \\n\"+\n     \"may be due to a slow or bad network connection. Possible fixes:\\n\"+\n     \"</p>\\n\"+\n     \"<ul>\\n\"+\n     \"<li>re-rerun `output_notebook()` to attempt to load from CDN again, or</li>\\n\"+\n     \"<li>use INLINE resources instead, as so:</li>\\n\"+\n     \"</ul>\\n\"+\n     \"<code>\\n\"+\n     \"from bokeh.resources import INLINE\\n\"+\n     \"output_notebook(resources=INLINE)\\n\"+\n     \"</code>\\n\"+\n     \"</div>\"}};\n\n  function display_loaded(error = null) {\n    const el = document.getElementById(\"c866ee80-9001-4491-9f01-a2f8c9ad6a31\");\n    if (el != null) {\n      const html = (() => {\n        if (typeof root.Bokeh === \"undefined\") {\n          if (error == null) {\n            return \"BokehJS is loading ...\";\n          } else {\n            return \"BokehJS failed to load.\";\n          }\n        } else {\n          const prefix = `BokehJS ${root.Bokeh.version}`;\n          if (error == null) {\n            return `${prefix} successfully loaded.`;\n          } else {\n            return `${prefix} <b>encountered errors</b> while loading and may not function as expected.`;\n          }\n        }\n      })();\n      el.innerHTML = html;\n\n      if (error != null) {\n        const wrapper = document.createElement(\"div\");\n        wrapper.style.overflow = \"auto\";\n        wrapper.style.height = \"5em\";\n        wrapper.style.resize = \"vertical\";\n        const content = document.createElement(\"div\");\n        content.style.fontFamily = \"monospace\";\n        content.style.whiteSpace = \"pre-wrap\";\n        content.style.backgroundColor = \"rgb(255, 221, 221)\";\n        content.textContent = error.stack ?? error.toString();\n        wrapper.append(content);\n        el.append(wrapper);\n      }\n    } else if (Date.now() < root._bokeh_timeout) {\n      setTimeout(() => display_loaded(error), 100);\n    }\n  }\n\n  function run_callbacks() {\n    try {\n      root._bokeh_onload_callbacks.forEach(function(callback) {\n        if (callback != null)\n          callback();\n      });\n    } finally {\n      delete root._bokeh_onload_callbacks\n    }\n    console.debug(\"Bokeh: all callbacks have finished\");\n  }\n\n  function load_libs(css_urls, js_urls, callback) {\n    if (css_urls == null) css_urls = [];\n    if (js_urls == null) js_urls = [];\n\n    root._bokeh_onload_callbacks.push(callback);\n    if (root._bokeh_is_loading > 0) {\n      console.debug(\"Bokeh: BokehJS is being loaded, scheduling callback at\", now());\n      return null;\n    }\n    if (js_urls == null || js_urls.length === 0) {\n      run_callbacks();\n      return null;\n    }\n    console.debug(\"Bokeh: BokehJS not loaded, scheduling load and callback at\", now());\n    root._bokeh_is_loading = css_urls.length + js_urls.length;\n\n    function on_load() {\n      root._bokeh_is_loading--;\n      if (root._bokeh_is_loading === 0) {\n        console.debug(\"Bokeh: all BokehJS libraries/stylesheets loaded\");\n        run_callbacks()\n      }\n    }\n\n    function on_error(url) {\n      console.error(\"failed to load \" + url);\n    }\n\n    for (let i = 0; i < css_urls.length; i++) {\n      const url = css_urls[i];\n      const element = document.createElement(\"link\");\n      element.onload = on_load;\n      element.onerror = on_error.bind(null, url);\n      element.rel = \"stylesheet\";\n      element.type = \"text/css\";\n      element.href = url;\n      console.debug(\"Bokeh: injecting link tag for BokehJS stylesheet: \", url);\n      document.body.appendChild(element);\n    }\n\n    for (let i = 0; i < js_urls.length; i++) {\n      const url = js_urls[i];\n      const element = document.createElement('script');\n      element.onload = on_load;\n      element.onerror = on_error.bind(null, url);\n      element.async = false;\n      element.src = url;\n      console.debug(\"Bokeh: injecting script tag for BokehJS library: \", url);\n      document.head.appendChild(element);\n    }\n  };\n\n  function inject_raw_css(css) {\n    const element = document.createElement(\"style\");\n    element.appendChild(document.createTextNode(css));\n    document.body.appendChild(element);\n  }\n\n  const js_urls = [\"https://cdn.bokeh.org/bokeh/release/bokeh-3.4.1.min.js\", \"https://cdn.bokeh.org/bokeh/release/bokeh-gl-3.4.1.min.js\", \"https://cdn.bokeh.org/bokeh/release/bokeh-widgets-3.4.1.min.js\", \"https://cdn.bokeh.org/bokeh/release/bokeh-tables-3.4.1.min.js\", \"https://cdn.bokeh.org/bokeh/release/bokeh-mathjax-3.4.1.min.js\", \"https://unpkg.com/@holoviz/panel@1.4.1/dist/panel.min.js\"];\n  const css_urls = [];\n\n  const inline_js = [    function(Bokeh) {\n      Bokeh.set_log_level(\"info\");\n    },\nfunction(Bokeh) {\n    }\n  ];\n\n  function run_inline_js() {\n    if (root.Bokeh !== undefined || force === true) {\n      try {\n            for (let i = 0; i < inline_js.length; i++) {\n      inline_js[i].call(root, root.Bokeh);\n    }\n\n      } catch (error) {display_loaded(error);throw error;\n      }if (force === true) {\n        display_loaded();\n      }} else if (Date.now() < root._bokeh_timeout) {\n      setTimeout(run_inline_js, 100);\n    } else if (!root._bokeh_failed_load) {\n      console.log(\"Bokeh: BokehJS failed to load within specified timeout.\");\n      root._bokeh_failed_load = true;\n    } else if (force !== true) {\n      const cell = $(document.getElementById(\"c866ee80-9001-4491-9f01-a2f8c9ad6a31\")).parents('.cell').data().cell;\n      cell.output_area.append_execute_result(NB_LOAD_WARNING)\n    }\n  }\n\n  if (root._bokeh_is_loading === 0) {\n    console.debug(\"Bokeh: BokehJS loaded, going straight to plotting\");\n    run_inline_js();\n  } else {\n    load_libs(css_urls, js_urls, function() {\n      console.debug(\"Bokeh: BokehJS plotting callback run at\", now());\n      run_inline_js();\n    });\n  }\n}(window));",
      "application/vnd.bokehjs_load.v0+json": ""
     },
     "metadata": {},
     "output_type": "display_data"
    },
    {
     "data": {
      "application/javascript": "(function(root) {\n  function now() {\n    return new Date();\n  }\n\n  var force = true;\n  var py_version = '3.4.1'.replace('rc', '-rc.').replace('.dev', '-dev.');\n  var reloading = false;\n  var Bokeh = root.Bokeh;\n\n  if (typeof (root._bokeh_timeout) === \"undefined\" || force) {\n    root._bokeh_timeout = Date.now() + 5000;\n    root._bokeh_failed_load = false;\n  }\n\n  function run_callbacks() {\n    try {\n      root._bokeh_onload_callbacks.forEach(function(callback) {\n        if (callback != null)\n          callback();\n      });\n    } finally {\n      delete root._bokeh_onload_callbacks;\n    }\n    console.debug(\"Bokeh: all callbacks have finished\");\n  }\n\n  function load_libs(css_urls, js_urls, js_modules, js_exports, callback) {\n    if (css_urls == null) css_urls = [];\n    if (js_urls == null) js_urls = [];\n    if (js_modules == null) js_modules = [];\n    if (js_exports == null) js_exports = {};\n\n    root._bokeh_onload_callbacks.push(callback);\n\n    if (root._bokeh_is_loading > 0) {\n      console.debug(\"Bokeh: BokehJS is being loaded, scheduling callback at\", now());\n      return null;\n    }\n    if (js_urls.length === 0 && js_modules.length === 0 && Object.keys(js_exports).length === 0) {\n      run_callbacks();\n      return null;\n    }\n    if (!reloading) {\n      console.debug(\"Bokeh: BokehJS not loaded, scheduling load and callback at\", now());\n    }\n\n    function on_load() {\n      root._bokeh_is_loading--;\n      if (root._bokeh_is_loading === 0) {\n        console.debug(\"Bokeh: all BokehJS libraries/stylesheets loaded\");\n        run_callbacks()\n      }\n    }\n    window._bokeh_on_load = on_load\n\n    function on_error() {\n      console.error(\"failed to load \" + url);\n    }\n\n    var skip = [];\n    if (window.requirejs) {\n      window.requirejs.config({'packages': {}, 'paths': {'ace': '//cdnjs.cloudflare.com/ajax/libs/ace/1.4.7'}, 'shim': {'ace/ext-language_tools': {'deps': ['ace/ace']}, 'ace/ext-modelist': {'deps': ['ace/ace']}}});\n      require([\"ace/ace\"], function(ace) {\n\twindow.ace = ace\n\ton_load()\n      })\n      require([\"ace/ext-language_tools\"], function() {\n\ton_load()\n      })\n      require([\"ace/ext-modelist\"], function() {\n\ton_load()\n      })\n      root._bokeh_is_loading = css_urls.length + 3;\n    } else {\n      root._bokeh_is_loading = css_urls.length + js_urls.length + js_modules.length + Object.keys(js_exports).length;\n    }\n\n    var existing_stylesheets = []\n    var links = document.getElementsByTagName('link')\n    for (var i = 0; i < links.length; i++) {\n      var link = links[i]\n      if (link.href != null) {\n\texisting_stylesheets.push(link.href)\n      }\n    }\n    for (var i = 0; i < css_urls.length; i++) {\n      var url = css_urls[i];\n      if (existing_stylesheets.indexOf(url) !== -1) {\n\ton_load()\n\tcontinue;\n      }\n      const element = document.createElement(\"link\");\n      element.onload = on_load;\n      element.onerror = on_error;\n      element.rel = \"stylesheet\";\n      element.type = \"text/css\";\n      element.href = url;\n      console.debug(\"Bokeh: injecting link tag for BokehJS stylesheet: \", url);\n      document.body.appendChild(element);\n    }    if (((window.ace !== undefined) && (!(window.ace instanceof HTMLElement))) || window.requirejs) {\n      var urls = ['https://cdnjs.cloudflare.com/ajax/libs/ace/1.4.11/ace.js', 'https://cdnjs.cloudflare.com/ajax/libs/ace/1.4.11/ext-language_tools.js', 'https://cdnjs.cloudflare.com/ajax/libs/ace/1.4.11/ext-modelist.js'];\n      for (var i = 0; i < urls.length; i++) {\n        skip.push(urls[i])\n      }\n    }    var existing_scripts = []\n    var scripts = document.getElementsByTagName('script')\n    for (var i = 0; i < scripts.length; i++) {\n      var script = scripts[i]\n      if (script.src != null) {\n\texisting_scripts.push(script.src)\n      }\n    }\n    for (var i = 0; i < js_urls.length; i++) {\n      var url = js_urls[i];\n      if (skip.indexOf(url) !== -1 || existing_scripts.indexOf(url) !== -1) {\n\tif (!window.requirejs) {\n\t  on_load();\n\t}\n\tcontinue;\n      }\n      var element = document.createElement('script');\n      element.onload = on_load;\n      element.onerror = on_error;\n      element.async = false;\n      element.src = url;\n      console.debug(\"Bokeh: injecting script tag for BokehJS library: \", url);\n      document.head.appendChild(element);\n    }\n    for (var i = 0; i < js_modules.length; i++) {\n      var url = js_modules[i];\n      if (skip.indexOf(url) !== -1 || existing_scripts.indexOf(url) !== -1) {\n\tif (!window.requirejs) {\n\t  on_load();\n\t}\n\tcontinue;\n      }\n      var element = document.createElement('script');\n      element.onload = on_load;\n      element.onerror = on_error;\n      element.async = false;\n      element.src = url;\n      element.type = \"module\";\n      console.debug(\"Bokeh: injecting script tag for BokehJS library: \", url);\n      document.head.appendChild(element);\n    }\n    for (const name in js_exports) {\n      var url = js_exports[name];\n      if (skip.indexOf(url) >= 0 || root[name] != null) {\n\tif (!window.requirejs) {\n\t  on_load();\n\t}\n\tcontinue;\n      }\n      var element = document.createElement('script');\n      element.onerror = on_error;\n      element.async = false;\n      element.type = \"module\";\n      console.debug(\"Bokeh: injecting script tag for BokehJS library: \", url);\n      element.textContent = `\n      import ${name} from \"${url}\"\n      window.${name} = ${name}\n      window._bokeh_on_load()\n      `\n      document.head.appendChild(element);\n    }\n    if (!js_urls.length && !js_modules.length) {\n      on_load()\n    }\n  };\n\n  function inject_raw_css(css) {\n    const element = document.createElement(\"style\");\n    element.appendChild(document.createTextNode(css));\n    document.body.appendChild(element);\n  }\n\n  var js_urls = [\"https://cdnjs.cloudflare.com/ajax/libs/ace/1.4.11/ace.js\", \"https://cdnjs.cloudflare.com/ajax/libs/ace/1.4.11/ext-language_tools.js\", \"https://cdnjs.cloudflare.com/ajax/libs/ace/1.4.11/ext-modelist.js\", \"https://cdn.bokeh.org/bokeh/release/bokeh-3.4.1.min.js\", \"https://cdn.bokeh.org/bokeh/release/bokeh-gl-3.4.1.min.js\", \"https://cdn.bokeh.org/bokeh/release/bokeh-widgets-3.4.1.min.js\", \"https://cdn.bokeh.org/bokeh/release/bokeh-tables-3.4.1.min.js\", \"https://cdn.holoviz.org/panel/1.4.1/dist/panel.min.js\"];\n  var js_modules = [];\n  var js_exports = {};\n  var css_urls = [];\n  var inline_js = [    function(Bokeh) {\n      inject_raw_css(\"/*\\n ~ CML // Creative Machine Learning ~\\n mml.css : CSS styling information for Panel and Bokeh\\n \\n This file defines the main CSS styling information for the CML course\\n \\n Author               :  Philippe Esling\\n                        <esling@ircam.fr>\\n*/\\n\\nbody {\\n  display: flex;\\n  height: 100vh;\\n  margin: 0px;\\n  overflow-x: hidden;\\n  overflow-y: hidden;\\n}\\n\\n.bk-root .bk, .bk-root .bk:before, .bk-root .bk:after {\\n  font-family: \\\"Josefin Sans\\\";\\n}\\n\\nimg {\\n  max-width: 100%;\\n}\\n\\n#container {\\n  padding:0px;\\n  height:100vh;\\n  width: 100vw;\\n  max-width: 100vw;\\n}\\n\\n#sidebar .mdc-list {\\n  padding-left: 5px;\\n  padding-right: 5px;\\n}\\n\\n.mdc-drawer-app-content {\\n  flex: auto;\\n  position: relative;\\n  overflow: hidden;\\n}\\n\\n.mdc-drawer {\\n  background: #FAFAFA; /* GRAY 50 */\\n}\\n\\n.mdc-drawer-app-content {\\n  margin-left: 0 !important;\\n}\\n\\n.title-bar {\\n  display: contents;\\n  justify-content: center;\\n  align-content: center;\\n  width: 100%;\\n}\\n\\n.mdc-top-app-bar .bk-menu {\\n  color: black\\n}\\n\\n.app-header {\\n  display: contents;\\n  padding-left: 10px;\\n  font-size: 1.25em;\\n}\\n\\nimg.app-logo {\\n  padding-right: 10px;\\n  font-size: 28px;\\n  height: 30px;\\n  max-width: inherit;\\n  padding-top: 12px;\\n  padding-bottom: 6px;\\n}\\n\\n#app-title {\\n  padding-right: 12px;\\n  padding-left: 12px;\\n}\\n\\n.title {\\n  font-family: \\\"Josefin Sans\\\";\\n  color: #fff;\\n  text-decoration: none;\\n  text-decoration-line: none;\\n  text-decoration-style: initial;\\n  text-decoration-color: initial;\\n  font-weight: 400;\\n  font-size: 2em;\\n  line-height: 2em;\\n  white-space: nowrap;\\n}\\n\\n.main-content {\\n  overflow-y: scroll;\\n  overflow-x: auto;\\n}\\n\\n#header {\\n  position: absolute;\\n  z-index: 7;\\n}\\n\\n#header-items {\\n  width: 100%;\\n  margin-left:15px;\\n}\\n\\n.pn-busy-container {\\n  align-items: center;\\n  justify-content: center;\\n  display: flex;\\n}\\n\\n.mdc-drawer__content {\\n  overflow-x: hidden;\\n}\\n.mdc-drawer__content, .main-content {\\n  padding: 12px;\\n}\\n\\n.main-content {\\n  height: calc(100vh - 88px);\\n  max-height: calc(100vh - 88px);\\n  padding-right: 32px;\\n}\\n\\nbutton.mdc-button.mdc-card-button {\\n  color: transparent;\\n  height: 50px;\\n}\\n\\np.mdc-button {\\n  display: none;\\n}\\n\\ndiv.mdc-card {\\n  border-radius: 0px\\n}\\n\\n.mdc-card .card-header {\\n  display: flex;\\n}\\n\\n.mdc-card-title {\\n  font-family: \\\"Josefin Sans\\\";\\n  font-weight: bold;\\n  align-items: center;\\n  display: flex !important;\\n  position: relative !important;\\n}\\n\\n.mdc-card-title:nth-child(2) {\\n  margin-left: -1.4em;\\n}\\n\\n.pn-modal {\\n  overflow-y: scroll;\\n  width: 100%;\\n  display: none;\\n  position: absolute;\\n  top: 0;\\n  left: 0;\\n}\\n\\n.pn-modal-content {\\n  font-family: \\\"Josefin Sans\\\";\\n  background-color: #0e0e0e;\\n  margin: auto;\\n  margin-top: 25px;\\n  margin-bottom: 25px;\\n  padding: 15px 20px 20px 20px;\\n  border: 1px solid #888;\\n  width: 80% !important;\\n}\\n\\n.pn-modal-close {\\n  position: absolute;\\n  right: 25px;\\n  z-index: 100;\\n}\\n\\n.pn-modal-close:hover,\\n.pn-modal-close:focus {\\n  color: #000;\\n  text-decoration: none;\\n  cursor: pointer;\\n}\\n\\n.custom_button_bokeh button.bk-btn.bk-btn-default {\\n    font-size:48pt;\\n    background-color: #05b7ff;\\n    border-color: #05b7ff;\\n}\");\n    },    function(Bokeh) {\n      Bokeh.set_log_level(\"info\");\n    },\nfunction(Bokeh) {} // ensure no trailing comma for IE\n  ];\n\n  function run_inline_js() {\n    if ((root.Bokeh !== undefined) || (force === true)) {\n      for (var i = 0; i < inline_js.length; i++) {\n\ttry {\n          inline_js[i].call(root, root.Bokeh);\n\t} catch(e) {\n\t  if (!reloading) {\n\t    throw e;\n\t  }\n\t}\n      }\n      // Cache old bokeh versions\n      if (Bokeh != undefined && !reloading) {\n\tvar NewBokeh = root.Bokeh;\n\tif (Bokeh.versions === undefined) {\n\t  Bokeh.versions = new Map();\n\t}\n\tif (NewBokeh.version !== Bokeh.version) {\n\t  Bokeh.versions.set(NewBokeh.version, NewBokeh)\n\t}\n\troot.Bokeh = Bokeh;\n      }} else if (Date.now() < root._bokeh_timeout) {\n      setTimeout(run_inline_js, 100);\n    } else if (!root._bokeh_failed_load) {\n      console.log(\"Bokeh: BokehJS failed to load within specified timeout.\");\n      root._bokeh_failed_load = true;\n    }\n    root._bokeh_is_initializing = false\n  }\n\n  function load_or_wait() {\n    // Implement a backoff loop that tries to ensure we do not load multiple\n    // versions of Bokeh and its dependencies at the same time.\n    // In recent versions we use the root._bokeh_is_initializing flag\n    // to determine whether there is an ongoing attempt to initialize\n    // bokeh, however for backward compatibility we also try to ensure\n    // that we do not start loading a newer (Panel>=1.0 and Bokeh>3) version\n    // before older versions are fully initialized.\n    if (root._bokeh_is_initializing && Date.now() > root._bokeh_timeout) {\n      root._bokeh_is_initializing = false;\n      root._bokeh_onload_callbacks = undefined;\n      console.log(\"Bokeh: BokehJS was loaded multiple times but one version failed to initialize.\");\n      load_or_wait();\n    } else if (root._bokeh_is_initializing || (typeof root._bokeh_is_initializing === \"undefined\" && root._bokeh_onload_callbacks !== undefined)) {\n      setTimeout(load_or_wait, 100);\n    } else {\n      root._bokeh_is_initializing = true\n      root._bokeh_onload_callbacks = []\n      var bokeh_loaded = Bokeh != null && (Bokeh.version === py_version || (Bokeh.versions !== undefined && Bokeh.versions.has(py_version)));\n      if (!reloading && !bokeh_loaded) {\n\troot.Bokeh = undefined;\n      }\n      load_libs(css_urls, js_urls, js_modules, js_exports, function() {\n\tconsole.debug(\"Bokeh: BokehJS plotting callback run at\", now());\n\trun_inline_js();\n      });\n    }\n  }\n  // Give older versions of the autoload script a head-start to ensure\n  // they initialize before we start loading newer version.\n  setTimeout(load_or_wait, 100)\n}(window));",
      "application/vnd.holoviews_load.v0+json": ""
     },
     "metadata": {},
     "output_type": "display_data"
    },
    {
     "data": {
      "application/javascript": "\nif ((window.PyViz === undefined) || (window.PyViz instanceof HTMLElement)) {\n  window.PyViz = {comms: {}, comm_status:{}, kernels:{}, receivers: {}, plot_index: []}\n}\n\n\n    function JupyterCommManager() {\n    }\n\n    JupyterCommManager.prototype.register_target = function(plot_id, comm_id, msg_handler) {\n      if (window.comm_manager || ((window.Jupyter !== undefined) && (Jupyter.notebook.kernel != null))) {\n        var comm_manager = window.comm_manager || Jupyter.notebook.kernel.comm_manager;\n        comm_manager.register_target(comm_id, function(comm) {\n          comm.on_msg(msg_handler);\n        });\n      } else if ((plot_id in window.PyViz.kernels) && (window.PyViz.kernels[plot_id])) {\n        window.PyViz.kernels[plot_id].registerCommTarget(comm_id, function(comm) {\n          comm.onMsg = msg_handler;\n        });\n      } else if (typeof google != 'undefined' && google.colab.kernel != null) {\n        google.colab.kernel.comms.registerTarget(comm_id, (comm) => {\n          var messages = comm.messages[Symbol.asyncIterator]();\n          function processIteratorResult(result) {\n            var message = result.value;\n            console.log(message)\n            var content = {data: message.data, comm_id};\n            var buffers = []\n            for (var buffer of message.buffers || []) {\n              buffers.push(new DataView(buffer))\n            }\n            var metadata = message.metadata || {};\n            var msg = {content, buffers, metadata}\n            msg_handler(msg);\n            return messages.next().then(processIteratorResult);\n          }\n          return messages.next().then(processIteratorResult);\n        })\n      }\n    }\n\n    JupyterCommManager.prototype.get_client_comm = function(plot_id, comm_id, msg_handler) {\n      if (comm_id in window.PyViz.comms) {\n        return window.PyViz.comms[comm_id];\n      } else if (window.comm_manager || ((window.Jupyter !== undefined) && (Jupyter.notebook.kernel != null))) {\n        var comm_manager = window.comm_manager || Jupyter.notebook.kernel.comm_manager;\n        var comm = comm_manager.new_comm(comm_id, {}, {}, {}, comm_id);\n        if (msg_handler) {\n          comm.on_msg(msg_handler);\n        }\n      } else if ((plot_id in window.PyViz.kernels) && (window.PyViz.kernels[plot_id])) {\n        var comm = window.PyViz.kernels[plot_id].connectToComm(comm_id);\n        comm.open();\n        if (msg_handler) {\n          comm.onMsg = msg_handler;\n        }\n      } else if (typeof google != 'undefined' && google.colab.kernel != null) {\n        var comm_promise = google.colab.kernel.comms.open(comm_id)\n        comm_promise.then((comm) => {\n          window.PyViz.comms[comm_id] = comm;\n          if (msg_handler) {\n            var messages = comm.messages[Symbol.asyncIterator]();\n            function processIteratorResult(result) {\n              var message = result.value;\n              var content = {data: message.data};\n              var metadata = message.metadata || {comm_id};\n              var msg = {content, metadata}\n              msg_handler(msg);\n              return messages.next().then(processIteratorResult);\n            }\n            return messages.next().then(processIteratorResult);\n          }\n        }) \n        var sendClosure = (data, metadata, buffers, disposeOnDone) => {\n          return comm_promise.then((comm) => {\n            comm.send(data, metadata, buffers, disposeOnDone);\n          });\n        };\n        var comm = {\n          send: sendClosure\n        };\n      }\n      window.PyViz.comms[comm_id] = comm;\n      return comm;\n    }\n    window.PyViz.comm_manager = new JupyterCommManager();\n    \n\n\nvar JS_MIME_TYPE = 'application/javascript';\nvar HTML_MIME_TYPE = 'text/html';\nvar EXEC_MIME_TYPE = 'application/vnd.holoviews_exec.v0+json';\nvar CLASS_NAME = 'output';\n\n/**\n * Render data to the DOM node\n */\nfunction render(props, node) {\n  var div = document.createElement(\"div\");\n  var script = document.createElement(\"script\");\n  node.appendChild(div);\n  node.appendChild(script);\n}\n\n/**\n * Handle when a new output is added\n */\nfunction handle_add_output(event, handle) {\n  var output_area = handle.output_area;\n  var output = handle.output;\n  if ((output.data == undefined) || (!output.data.hasOwnProperty(EXEC_MIME_TYPE))) {\n    return\n  }\n  var id = output.metadata[EXEC_MIME_TYPE][\"id\"];\n  var toinsert = output_area.element.find(\".\" + CLASS_NAME.split(' ')[0]);\n  if (id !== undefined) {\n    var nchildren = toinsert.length;\n    var html_node = toinsert[nchildren-1].children[0];\n    html_node.innerHTML = output.data[HTML_MIME_TYPE];\n    var scripts = [];\n    var nodelist = html_node.querySelectorAll(\"script\");\n    for (var i in nodelist) {\n      if (nodelist.hasOwnProperty(i)) {\n        scripts.push(nodelist[i])\n      }\n    }\n\n    scripts.forEach( function (oldScript) {\n      var newScript = document.createElement(\"script\");\n      var attrs = [];\n      var nodemap = oldScript.attributes;\n      for (var j in nodemap) {\n        if (nodemap.hasOwnProperty(j)) {\n          attrs.push(nodemap[j])\n        }\n      }\n      attrs.forEach(function(attr) { newScript.setAttribute(attr.name, attr.value) });\n      newScript.appendChild(document.createTextNode(oldScript.innerHTML));\n      oldScript.parentNode.replaceChild(newScript, oldScript);\n    });\n    if (JS_MIME_TYPE in output.data) {\n      toinsert[nchildren-1].children[1].textContent = output.data[JS_MIME_TYPE];\n    }\n    output_area._hv_plot_id = id;\n    if ((window.Bokeh !== undefined) && (id in Bokeh.index)) {\n      window.PyViz.plot_index[id] = Bokeh.index[id];\n    } else {\n      window.PyViz.plot_index[id] = null;\n    }\n  } else if (output.metadata[EXEC_MIME_TYPE][\"server_id\"] !== undefined) {\n    var bk_div = document.createElement(\"div\");\n    bk_div.innerHTML = output.data[HTML_MIME_TYPE];\n    var script_attrs = bk_div.children[0].attributes;\n    for (var i = 0; i < script_attrs.length; i++) {\n      toinsert[toinsert.length - 1].childNodes[1].setAttribute(script_attrs[i].name, script_attrs[i].value);\n    }\n    // store reference to server id on output_area\n    output_area._bokeh_server_id = output.metadata[EXEC_MIME_TYPE][\"server_id\"];\n  }\n}\n\n/**\n * Handle when an output is cleared or removed\n */\nfunction handle_clear_output(event, handle) {\n  var id = handle.cell.output_area._hv_plot_id;\n  var server_id = handle.cell.output_area._bokeh_server_id;\n  if (((id === undefined) || !(id in PyViz.plot_index)) && (server_id !== undefined)) { return; }\n  var comm = window.PyViz.comm_manager.get_client_comm(\"hv-extension-comm\", \"hv-extension-comm\", function () {});\n  if (server_id !== null) {\n    comm.send({event_type: 'server_delete', 'id': server_id});\n    return;\n  } else if (comm !== null) {\n    comm.send({event_type: 'delete', 'id': id});\n  }\n  delete PyViz.plot_index[id];\n  if ((window.Bokeh !== undefined) & (id in window.Bokeh.index)) {\n    var doc = window.Bokeh.index[id].model.document\n    doc.clear();\n    const i = window.Bokeh.documents.indexOf(doc);\n    if (i > -1) {\n      window.Bokeh.documents.splice(i, 1);\n    }\n  }\n}\n\n/**\n * Handle kernel restart event\n */\nfunction handle_kernel_cleanup(event, handle) {\n  delete PyViz.comms[\"hv-extension-comm\"];\n  window.PyViz.plot_index = {}\n}\n\n/**\n * Handle update_display_data messages\n */\nfunction handle_update_output(event, handle) {\n  handle_clear_output(event, {cell: {output_area: handle.output_area}})\n  handle_add_output(event, handle)\n}\n\nfunction register_renderer(events, OutputArea) {\n  function append_mime(data, metadata, element) {\n    // create a DOM node to render to\n    var toinsert = this.create_output_subarea(\n    metadata,\n    CLASS_NAME,\n    EXEC_MIME_TYPE\n    );\n    this.keyboard_manager.register_events(toinsert);\n    // Render to node\n    var props = {data: data, metadata: metadata[EXEC_MIME_TYPE]};\n    render(props, toinsert[0]);\n    element.append(toinsert);\n    return toinsert\n  }\n\n  events.on('output_added.OutputArea', handle_add_output);\n  events.on('output_updated.OutputArea', handle_update_output);\n  events.on('clear_output.CodeCell', handle_clear_output);\n  events.on('delete.Cell', handle_clear_output);\n  events.on('kernel_ready.Kernel', handle_kernel_cleanup);\n\n  OutputArea.prototype.register_mime_type(EXEC_MIME_TYPE, append_mime, {\n    safe: true,\n    index: 0\n  });\n}\n\nif (window.Jupyter !== undefined) {\n  try {\n    var events = require('base/js/events');\n    var OutputArea = require('notebook/js/outputarea').OutputArea;\n    if (OutputArea.prototype.mime_types().indexOf(EXEC_MIME_TYPE) == -1) {\n      register_renderer(events, OutputArea);\n    }\n  } catch(err) {\n  }\n}\n",
      "application/vnd.holoviews_load.v0+json": ""
     },
     "metadata": {},
     "output_type": "display_data"
    },
    {
     "data": {
      "text/html": [
       "<style>*[data-root-id],\n",
       "*[data-root-id] > * {\n",
       "  box-sizing: border-box;\n",
       "  font-family: var(--jp-ui-font-family);\n",
       "  font-size: var(--jp-ui-font-size1);\n",
       "  color: var(--vscode-editor-foreground, var(--jp-ui-font-color1));\n",
       "}\n",
       "\n",
       "/* Override VSCode background color */\n",
       ".cell-output-ipywidget-background:has(\n",
       "    > .cell-output-ipywidget-background > .lm-Widget > *[data-root-id]\n",
       "  ),\n",
       ".cell-output-ipywidget-background:has(> .lm-Widget > *[data-root-id]) {\n",
       "  background-color: transparent !important;\n",
       "}\n",
       "</style>"
      ]
     },
     "metadata": {},
     "output_type": "display_data"
    },
    {
     "data": {
      "application/vnd.holoviews_exec.v0+json": "",
      "text/html": [
       "<div id='8c6728b5-88ff-440d-aeb4-4e04c0e00c3e'>\n",
       "  <div id=\"c32ac05e-468c-44bd-b71d-cf955da1fad5\" data-root-id=\"8c6728b5-88ff-440d-aeb4-4e04c0e00c3e\" style=\"display: contents;\"></div>\n",
       "</div>\n",
       "<script type=\"application/javascript\">(function(root) {\n",
       "  var docs_json = {\"3c761c28-6c9d-4109-9638-3bd213e64bb5\":{\"version\":\"3.4.1\",\"title\":\"Bokeh Application\",\"roots\":[{\"type\":\"object\",\"name\":\"panel.models.browser.BrowserInfo\",\"id\":\"8c6728b5-88ff-440d-aeb4-4e04c0e00c3e\"},{\"type\":\"object\",\"name\":\"panel.models.comm_manager.CommManager\",\"id\":\"6298b64b-04b7-4d1b-adb8-b0c7a21021dc\",\"attributes\":{\"plot_id\":\"8c6728b5-88ff-440d-aeb4-4e04c0e00c3e\",\"comm_id\":\"f4a2b0e3ead74f43a992b9e018c6cd94\",\"client_comm_id\":\"6aac2ae5cd504738985da53b55bf8d70\"}}],\"defs\":[{\"type\":\"model\",\"name\":\"ReactiveHTML1\"},{\"type\":\"model\",\"name\":\"FlexBox1\",\"properties\":[{\"name\":\"align_content\",\"kind\":\"Any\",\"default\":\"flex-start\"},{\"name\":\"align_items\",\"kind\":\"Any\",\"default\":\"flex-start\"},{\"name\":\"flex_direction\",\"kind\":\"Any\",\"default\":\"row\"},{\"name\":\"flex_wrap\",\"kind\":\"Any\",\"default\":\"wrap\"},{\"name\":\"gap\",\"kind\":\"Any\",\"default\":\"\"},{\"name\":\"justify_content\",\"kind\":\"Any\",\"default\":\"flex-start\"}]},{\"type\":\"model\",\"name\":\"FloatPanel1\",\"properties\":[{\"name\":\"config\",\"kind\":\"Any\",\"default\":{\"type\":\"map\"}},{\"name\":\"contained\",\"kind\":\"Any\",\"default\":true},{\"name\":\"position\",\"kind\":\"Any\",\"default\":\"right-top\"},{\"name\":\"offsetx\",\"kind\":\"Any\",\"default\":null},{\"name\":\"offsety\",\"kind\":\"Any\",\"default\":null},{\"name\":\"theme\",\"kind\":\"Any\",\"default\":\"primary\"},{\"name\":\"status\",\"kind\":\"Any\",\"default\":\"normalized\"}]},{\"type\":\"model\",\"name\":\"GridStack1\",\"properties\":[{\"name\":\"mode\",\"kind\":\"Any\",\"default\":\"warn\"},{\"name\":\"ncols\",\"kind\":\"Any\",\"default\":null},{\"name\":\"nrows\",\"kind\":\"Any\",\"default\":null},{\"name\":\"allow_resize\",\"kind\":\"Any\",\"default\":true},{\"name\":\"allow_drag\",\"kind\":\"Any\",\"default\":true},{\"name\":\"state\",\"kind\":\"Any\",\"default\":[]}]},{\"type\":\"model\",\"name\":\"drag1\",\"properties\":[{\"name\":\"slider_width\",\"kind\":\"Any\",\"default\":5},{\"name\":\"slider_color\",\"kind\":\"Any\",\"default\":\"black\"},{\"name\":\"value\",\"kind\":\"Any\",\"default\":50}]},{\"type\":\"model\",\"name\":\"click1\",\"properties\":[{\"name\":\"terminal_output\",\"kind\":\"Any\",\"default\":\"\"},{\"name\":\"debug_name\",\"kind\":\"Any\",\"default\":\"\"},{\"name\":\"clears\",\"kind\":\"Any\",\"default\":0}]},{\"type\":\"model\",\"name\":\"FastWrapper1\",\"properties\":[{\"name\":\"object\",\"kind\":\"Any\",\"default\":null},{\"name\":\"style\",\"kind\":\"Any\",\"default\":null}]},{\"type\":\"model\",\"name\":\"NotificationAreaBase1\",\"properties\":[{\"name\":\"js_events\",\"kind\":\"Any\",\"default\":{\"type\":\"map\"}},{\"name\":\"position\",\"kind\":\"Any\",\"default\":\"bottom-right\"},{\"name\":\"_clear\",\"kind\":\"Any\",\"default\":0}]},{\"type\":\"model\",\"name\":\"NotificationArea1\",\"properties\":[{\"name\":\"js_events\",\"kind\":\"Any\",\"default\":{\"type\":\"map\"}},{\"name\":\"notifications\",\"kind\":\"Any\",\"default\":[]},{\"name\":\"position\",\"kind\":\"Any\",\"default\":\"bottom-right\"},{\"name\":\"_clear\",\"kind\":\"Any\",\"default\":0},{\"name\":\"types\",\"kind\":\"Any\",\"default\":[{\"type\":\"map\",\"entries\":[[\"type\",\"warning\"],[\"background\",\"#ffc107\"],[\"icon\",{\"type\":\"map\",\"entries\":[[\"className\",\"fas fa-exclamation-triangle\"],[\"tagName\",\"i\"],[\"color\",\"white\"]]}]]},{\"type\":\"map\",\"entries\":[[\"type\",\"info\"],[\"background\",\"#007bff\"],[\"icon\",{\"type\":\"map\",\"entries\":[[\"className\",\"fas fa-info-circle\"],[\"tagName\",\"i\"],[\"color\",\"white\"]]}]]}]}]},{\"type\":\"model\",\"name\":\"Notification\",\"properties\":[{\"name\":\"background\",\"kind\":\"Any\",\"default\":null},{\"name\":\"duration\",\"kind\":\"Any\",\"default\":3000},{\"name\":\"icon\",\"kind\":\"Any\",\"default\":null},{\"name\":\"message\",\"kind\":\"Any\",\"default\":\"\"},{\"name\":\"notification_type\",\"kind\":\"Any\",\"default\":null},{\"name\":\"_destroyed\",\"kind\":\"Any\",\"default\":false}]},{\"type\":\"model\",\"name\":\"TemplateActions1\",\"properties\":[{\"name\":\"open_modal\",\"kind\":\"Any\",\"default\":0},{\"name\":\"close_modal\",\"kind\":\"Any\",\"default\":0}]},{\"type\":\"model\",\"name\":\"BootstrapTemplateActions1\",\"properties\":[{\"name\":\"open_modal\",\"kind\":\"Any\",\"default\":0},{\"name\":\"close_modal\",\"kind\":\"Any\",\"default\":0}]},{\"type\":\"model\",\"name\":\"TemplateEditor1\",\"properties\":[{\"name\":\"layout\",\"kind\":\"Any\",\"default\":[]}]},{\"type\":\"model\",\"name\":\"MaterialTemplateActions1\",\"properties\":[{\"name\":\"open_modal\",\"kind\":\"Any\",\"default\":0},{\"name\":\"close_modal\",\"kind\":\"Any\",\"default\":0}]},{\"type\":\"model\",\"name\":\"copy_to_clipboard1\",\"properties\":[{\"name\":\"fill\",\"kind\":\"Any\",\"default\":\"none\"},{\"name\":\"value\",\"kind\":\"Any\",\"default\":null}]}]}};\n",
       "  var render_items = [{\"docid\":\"3c761c28-6c9d-4109-9638-3bd213e64bb5\",\"roots\":{\"8c6728b5-88ff-440d-aeb4-4e04c0e00c3e\":\"c32ac05e-468c-44bd-b71d-cf955da1fad5\"},\"root_ids\":[\"8c6728b5-88ff-440d-aeb4-4e04c0e00c3e\"]}];\n",
       "  var docs = Object.values(docs_json)\n",
       "  if (!docs) {\n",
       "    return\n",
       "  }\n",
       "  const py_version = docs[0].version.replace('rc', '-rc.').replace('.dev', '-dev.')\n",
       "  function embed_document(root) {\n",
       "    var Bokeh = get_bokeh(root)\n",
       "    Bokeh.embed.embed_items_notebook(docs_json, render_items);\n",
       "    for (const render_item of render_items) {\n",
       "      for (const root_id of render_item.root_ids) {\n",
       "\tconst id_el = document.getElementById(root_id)\n",
       "\tif (id_el.children.length && (id_el.children[0].className === 'bk-root')) {\n",
       "\t  const root_el = id_el.children[0]\n",
       "\t  root_el.id = root_el.id + '-rendered'\n",
       "\t}\n",
       "      }\n",
       "    }\n",
       "  }\n",
       "  function get_bokeh(root) {\n",
       "    if (root.Bokeh === undefined) {\n",
       "      return null\n",
       "    } else if (root.Bokeh.version !== py_version) {\n",
       "      if (root.Bokeh.versions === undefined || !root.Bokeh.versions.has(py_version)) {\n",
       "\treturn null\n",
       "      }\n",
       "      return root.Bokeh.versions.get(py_version);\n",
       "    } else if (root.Bokeh.version === py_version) {\n",
       "      return root.Bokeh\n",
       "    }\n",
       "    return null\n",
       "  }\n",
       "  function is_loaded(root) {\n",
       "    var Bokeh = get_bokeh(root)\n",
       "    return (Bokeh != null && Bokeh.Panel !== undefined)\n",
       "  }\n",
       "  if (is_loaded(root)) {\n",
       "    embed_document(root);\n",
       "  } else {\n",
       "    var attempts = 0;\n",
       "    var timer = setInterval(function(root) {\n",
       "      if (is_loaded(root)) {\n",
       "        clearInterval(timer);\n",
       "        embed_document(root);\n",
       "      } else if (document.readyState == \"complete\") {\n",
       "        attempts++;\n",
       "        if (attempts > 200) {\n",
       "          clearInterval(timer);\n",
       "\t  var Bokeh = get_bokeh(root)\n",
       "\t  if (Bokeh == null || Bokeh.Panel == null) {\n",
       "            console.warn(\"Panel: ERROR: Unable to run Panel code because Bokeh or Panel library is missing\");\n",
       "\t  } else {\n",
       "\t    console.warn(\"Panel: WARNING: Attempting to render but not all required libraries could be resolved.\")\n",
       "\t    embed_document(root)\n",
       "\t  }\n",
       "        }\n",
       "      }\n",
       "    }, 25, root)\n",
       "  }\n",
       "})(window);</script>"
      ]
     },
     "metadata": {
      "application/vnd.holoviews_exec.v0+json": {
       "id": "8c6728b5-88ff-440d-aeb4-4e04c0e00c3e"
      }
     },
     "output_type": "display_data"
    }
   ],
   "source": [
    "# Base imports\n",
    "import numpy as np\n",
    "import matplotlib.pyplot as plt\n",
    "from cml.plot import initialize_bokeh\n",
    "from cml.panel import initialize_panel\n",
    "from jupyterthemes.stylefx import set_nb_theme\n",
    "from bokeh.io import show\n",
    "initialize_bokeh()\n",
    "initialize_panel()\n",
    "set_nb_theme(\"onedork\")\n",
    "rng = np.random.RandomState(1)"
   ]
  },
  {
   "cell_type": "markdown",
   "metadata": {},
   "source": [
    "<a id=\"regression\"></a>\n",
    "## Simple learning problem\n",
    "\n",
    "Imagine that a certain process somewhere follows the form of a quadratic relationship\n",
    "\n",
    "$$\n",
    " y = a x^{2} + bx + c \n",
    "$$\n",
    "\n",
    "In this case, all the **unknown parameters** are that of a polynomial model, therefore we have $\\theta = \\{a, b, c\\}$. However, this is clearly an ideal (clean) case, whereas in natural observations, there might be some noise in our observations\n",
    "$$\n",
    " y = a x^{2} + bx + c +\\epsilon \\quad \\mbox{with} \\quad \\epsilon \\in [-0.1, 0.1]\n",
    "$$\n",
    "\n",
    "An example of such noisy observations for different parameters is given below"
   ]
  },
  {
   "cell_type": "code",
   "execution_count": 13,
   "metadata": {},
   "outputs": [],
   "source": [
    "# Parameters to our function\n",
    "eps = 0.1\n",
    "a, b, c = 5, 2, 0\n",
    "# Generating the corresponding data\n",
    "x = np.linspace(0, 1, 100)\n",
    "poly = np.poly1d([a, b, c])\n",
    "epsilon = np.random.uniform(-eps, eps, x.shape)\n",
    "y = poly(x) + epsilon"
   ]
  },
  {
   "cell_type": "code",
   "execution_count": 14,
   "metadata": {},
   "outputs": [
    {
     "name": "stdout",
     "output_type": "stream",
     "text": [
      "Launching server at http://localhost:51040\n"
     ]
    },
    {
     "name": "stderr",
     "output_type": "stream",
     "text": [
      "BokehDeprecationWarning: 'circle() method with size value' was deprecated in Bokeh 3.4.0 and will be removed, use 'scatter(size=...) instead' instead.\n"
     ]
    },
    {
     "data": {
      "text/plain": [
       "<panel.io.server.Server at 0x300872c10>"
      ]
     },
     "execution_count": 14,
     "metadata": {},
     "output_type": "execute_result"
    },
    {
     "name": "stderr",
     "output_type": "stream",
     "text": [
      "WARNING:tornado.access:404 GET /cml/cml.css (::1) 0.17ms\n"
     ]
    }
   ],
   "source": [
    "from cml.plot import center_plot, scatter\n",
    "plot = (center_plot(scatter(x, y, title=\"Simple quadratic problem\", toolbar_location=\"left\")))\n",
    "plot.show()"
   ]
  },
  {
   "cell_type": "markdown",
   "metadata": {},
   "source": [
    "Now our main problem is that this function can follow different types of parameters"
   ]
  },
  {
   "cell_type": "code",
   "execution_count": 15,
   "metadata": {},
   "outputs": [
    {
     "name": "stderr",
     "output_type": "stream",
     "text": [
      "BokehDeprecationWarning: 'circle() method with size value' was deprecated in Bokeh 3.4.0 and will be removed, use 'scatter(size=...) instead' instead.\n",
      "BokehDeprecationWarning: 'circle() method with size value' was deprecated in Bokeh 3.4.0 and will be removed, use 'scatter(size=...) instead' instead.\n",
      "BokehDeprecationWarning: 'circle() method with size value' was deprecated in Bokeh 3.4.0 and will be removed, use 'scatter(size=...) instead' instead.\n"
     ]
    }
   ],
   "source": [
    "params = [[5, -5, 4], [-2, 1, 0], [0.1, 1, 1]]\n",
    "# Generating the x axis\n",
    "x = np.linspace(0, 1, 100)\n",
    "plots = []\n",
    "for p in range(len(params)):\n",
    "    poly = np.poly1d(params[p])\n",
    "    epsilon = np.random.uniform(-eps, eps, x.shape)\n",
    "    y = poly(x) + epsilon\n",
    "    plots.append(scatter(x, y, title=\"Problem \"+(str(p+1))))"
   ]
  },
  {
   "cell_type": "code",
   "execution_count": 16,
   "metadata": {},
   "outputs": [
    {
     "name": "stdout",
     "output_type": "stream",
     "text": [
      "Launching server at http://localhost:51046\n"
     ]
    },
    {
     "data": {
      "text/plain": [
       "<panel.io.server.Server at 0x300f15a90>"
      ]
     },
     "execution_count": 16,
     "metadata": {},
     "output_type": "execute_result"
    },
    {
     "name": "stderr",
     "output_type": "stream",
     "text": [
      "WARNING:tornado.access:404 GET /cml/cml.css (::1) 0.12ms\n"
     ]
    }
   ],
   "source": [
    "from bokeh.models import Div\n",
    "from bokeh.layouts import column, row\n",
    "plot = center_plot(column(Div(text = \"Observing different problems\", styles={'font-size': '250%'}), row(*plots)))\n",
    "plot.show()"
   ]
  },
  {
   "cell_type": "markdown",
   "metadata": {},
   "source": [
    "In real-life settings, this function can also have different levels of noise, as exemplified in the following code."
   ]
  },
  {
   "cell_type": "code",
   "execution_count": 17,
   "metadata": {},
   "outputs": [
    {
     "name": "stderr",
     "output_type": "stream",
     "text": [
      "BokehDeprecationWarning: 'circle() method with size value' was deprecated in Bokeh 3.4.0 and will be removed, use 'scatter(size=...) instead' instead.\n",
      "BokehDeprecationWarning: 'circle() method with size value' was deprecated in Bokeh 3.4.0 and will be removed, use 'scatter(size=...) instead' instead.\n",
      "BokehDeprecationWarning: 'circle() method with size value' was deprecated in Bokeh 3.4.0 and will be removed, use 'scatter(size=...) instead' instead.\n"
     ]
    }
   ],
   "source": [
    "params = [3, 0, 1]\n",
    "noise_levels = [0.1, 1.0, 8.0]\n",
    "# Generating the x axis\n",
    "x = np.linspace(0, 1, 100)\n",
    "plots = []\n",
    "for p in range(len(noise_levels)):\n",
    "    poly = np.poly1d(params)\n",
    "    epsilon = np.random.uniform(-noise_levels[p],noise_levels[p],x.shape)\n",
    "    y = poly(x) + epsilon\n",
    "    plots.append(scatter(x, y, title=\"Problem \"+(str(p+1))))"
   ]
  },
  {
   "cell_type": "code",
   "execution_count": 18,
   "metadata": {},
   "outputs": [
    {
     "name": "stdout",
     "output_type": "stream",
     "text": [
      "Launching server at http://localhost:51052\n"
     ]
    },
    {
     "data": {
      "text/plain": [
       "<panel.io.server.Server at 0x300fddb90>"
      ]
     },
     "execution_count": 18,
     "metadata": {},
     "output_type": "execute_result"
    },
    {
     "name": "stderr",
     "output_type": "stream",
     "text": [
      "WARNING:tornado.access:404 GET /cml/cml.css (::1) 0.12ms\n"
     ]
    }
   ],
   "source": [
    "plot = center_plot(column(Div(text = \"Different amounts of noise\", styles={'font-size': '250%'}), row(*plots)))\n",
    "plot.show()"
   ]
  },
  {
   "cell_type": "markdown",
   "metadata": {},
   "source": [
    "To summarize, we will have some observations of a function, and we would like to optimize a function that gets as close as possible to the real function that generated this data. Here, we plot the real function and also _subsample_ our number of observations (having only a few points to find the corresponding function)"
   ]
  },
  {
   "cell_type": "code",
   "execution_count": 19,
   "metadata": {},
   "outputs": [
    {
     "name": "stdout",
     "output_type": "stream",
     "text": [
      "Launching server at http://localhost:51056\n"
     ]
    },
    {
     "name": "stderr",
     "output_type": "stream",
     "text": [
      "BokehDeprecationWarning: 'circle() method with size value' was deprecated in Bokeh 3.4.0 and will be removed, use 'scatter(size=...) instead' instead.\n"
     ]
    },
    {
     "data": {
      "text/plain": [
       "<panel.io.server.Server at 0x30185f010>"
      ]
     },
     "execution_count": 19,
     "metadata": {},
     "output_type": "execute_result"
    },
    {
     "name": "stderr",
     "output_type": "stream",
     "text": [
      "WARNING:tornado.access:404 GET /cml/cml.css (::1) 0.12ms\n"
     ]
    }
   ],
   "source": [
    "# Generating the data and subsampling\n",
    "x_all = np.linspace(0, 1, 100); x_plot = np.linspace(0, 1, 100)\n",
    "rng.shuffle(x_all); x = np.sort(x_all[:50])\n",
    "poly = np.poly1d([3,0,1])\n",
    "# Adding some external noise\n",
    "epsilon = np.random.uniform(-0.2,0.2,x.shape)\n",
    "y = poly(x)+ epsilon\n",
    "p = scatter(x, y, title=\"Learning problem with groundtruth\")\n",
    "p.line(x_plot, poly(x_plot), line_width=6, line_alpha=0.6, color=\"green\", legend_label=r\"True function\")\n",
    "plot = (center_plot(p))\n",
    "plot.show()"
   ]
  },
  {
   "cell_type": "markdown",
   "metadata": {},
   "source": [
    "### Summarizing our observations (interactive)\n",
    "\n"
   ]
  },
  {
   "cell_type": "code",
   "execution_count": 20,
   "metadata": {},
   "outputs": [
    {
     "name": "stdout",
     "output_type": "stream",
     "text": [
      "Creating the object\n",
      "Launching server at http://localhost:51061\n"
     ]
    },
    {
     "name": "stderr",
     "output_type": "stream",
     "text": [
      "BokehDeprecationWarning: 'circle() method with size value' was deprecated in Bokeh 3.4.0 and will be removed, use 'scatter(size=...) instead' instead.\n"
     ]
    },
    {
     "data": {
      "text/plain": [
       "<panel.io.server.Server at 0x301a45090>"
      ]
     },
     "execution_count": 20,
     "metadata": {},
     "output_type": "execute_result"
    },
    {
     "name": "stderr",
     "output_type": "stream",
     "text": [
      "WARNING:tornado.access:404 GET /cml/cml.css (::1) 0.14ms\n"
     ]
    }
   ],
   "source": [
    "from cml.tasks import RegressionPolynomial\n",
    "explorer = RegressionPolynomial()\n",
    "explorer.render().show()"
   ]
  },
  {
   "cell_type": "markdown",
   "metadata": {},
   "source": [
    "## Using learning libraries (`scikit-learn`)"
   ]
  },
  {
   "cell_type": "markdown",
   "metadata": {},
   "source": [
    "To get a first grip on what machine learning does, we will rely on the `scikit-learn` library. This contains already coded models and learning procedure, that will allow us to _learn_ the parameters of this unknown function.\n",
    "\n",
    "Here we already know that we want to use a `PolynomialFeatures` model to perfom `LinearRegression` and that this polynomial should be of degree 2."
   ]
  },
  {
   "cell_type": "code",
   "execution_count": 21,
   "metadata": {},
   "outputs": [],
   "source": [
    "from sklearn.linear_model import LinearRegression\n",
    "from sklearn.preprocessing import PolynomialFeatures\n",
    "from sklearn.pipeline import make_pipeline\n",
    "# Our data to fit\n",
    "X = x[:, np.newaxis]\n",
    "# Degree of our polynomial\n",
    "degree = 30;\n",
    "# Create our polynomial model for regression\n",
    "model = make_pipeline(PolynomialFeatures(degree), LinearRegression())\n",
    "# Fit the parameters of this model\n",
    "model.fit(X, y);"
   ]
  },
  {
   "cell_type": "markdown",
   "metadata": {},
   "source": [
    "Now that we have trained the model, we can perform _predictions_ from it, meaning that we can infer the output of the function at values that we did not observe originally."
   ]
  },
  {
   "cell_type": "code",
   "execution_count": 22,
   "metadata": {},
   "outputs": [
    {
     "name": "stdout",
     "output_type": "stream",
     "text": [
      "Model error : 0.09247131578569329\n",
      "Launching server at http://localhost:51067\n"
     ]
    },
    {
     "name": "stderr",
     "output_type": "stream",
     "text": [
      "BokehDeprecationWarning: 'circle() method with size value' was deprecated in Bokeh 3.4.0 and will be removed, use 'scatter(size=...) instead' instead.\n"
     ]
    },
    {
     "data": {
      "text/plain": [
       "<panel.io.server.Server at 0x301d32f50>"
      ]
     },
     "execution_count": 22,
     "metadata": {},
     "output_type": "execute_result"
    },
    {
     "name": "stderr",
     "output_type": "stream",
     "text": [
      "WARNING:tornado.access:404 GET /cml/cml.css (::1) 0.16ms\n"
     ]
    }
   ],
   "source": [
    "# Inference points (not observed)\n",
    "X_plot = x_plot[:, np.newaxis]\n",
    "# Predict the values\n",
    "y_plot = model.predict(X_plot)\n",
    "# Compute the error of our model at observed points\n",
    "Y_model_err = np.sqrt(np.mean(np.square(y-model.predict(X))))\n",
    "print(f'Model error : {Y_model_err}')\n",
    "# Plot the result\n",
    "p = scatter(x, y, title=\"Training a scikit-learn model\")\n",
    "p.line(x_plot, poly(x_plot), line_width=6, line_alpha=0.6, color=\"red\", legend_label=r\"Trained model\")\n",
    "plot = (center_plot(p))\n",
    "plot.show()"
   ]
  },
  {
   "cell_type": "code",
   "execution_count": 23,
   "metadata": {},
   "outputs": [],
   "source": [
    "from cml.tasks import RegressionPolynomialSolver\n",
    "explorer = RegressionPolynomialSolver()"
   ]
  },
  {
   "cell_type": "code",
   "execution_count": 24,
   "metadata": {},
   "outputs": [
    {
     "name": "stdout",
     "output_type": "stream",
     "text": [
      "Launching server at http://localhost:51072\n"
     ]
    },
    {
     "name": "stderr",
     "output_type": "stream",
     "text": [
      "BokehDeprecationWarning: 'circle() method with size value' was deprecated in Bokeh 3.4.0 and will be removed, use 'scatter(size=...) instead' instead.\n"
     ]
    },
    {
     "data": {
      "text/plain": [
       "<panel.io.server.Server at 0x301de4350>"
      ]
     },
     "execution_count": 24,
     "metadata": {},
     "output_type": "execute_result"
    },
    {
     "name": "stderr",
     "output_type": "stream",
     "text": [
      "WARNING:tornado.access:404 GET /cml/cml.css (::1) 0.15ms\n"
     ]
    }
   ],
   "source": [
    "def solve(x, y, degree):\n",
    "    X = x[:, np.newaxis]\n",
    "    # Create our polynomial model for regression\n",
    "    model = make_pipeline(PolynomialFeatures(degree), LinearRegression())\n",
    "    # Fit the parameters of this model\n",
    "    model.fit(X, y)\n",
    "    # Predict the values\n",
    "    x_predict = np.linspace(np.min(x), np.max(x), 200)[:, np.newaxis]\n",
    "    y_model = model.predict(x_predict)\n",
    "    return x_predict[:, 0], y_model #np.array(jnp.zeros(y_model.shape))\n",
    "\n",
    "explorer.solve = solve\n",
    "explorer.render().show()"
   ]
  },
  {
   "cell_type": "markdown",
   "metadata": {},
   "source": [
    "<a id=\"linear\"></a>\n",
    "# Simple linear regression \n",
    "\n",
    "As discussed previously, regression allows to model the relationships that exist between inputs $\\mathbf{x}\\in\\mathbb{R}^{n}$ and a continuous output $y\\in\\mathbb{R}$. In the case of **linear** regression, we assume that the data that we observe comes from a linear relationship in the input, so that\n",
    "$$y = w_0 + w_1x_1 + w_2x_2 + ... + w_nx_n + \\epsilon$$\n",
    "with $\\epsilon$ exhibiting the *observation noise* (also called *residual error*) that is always present in measurements.\n",
    "\n",
    "To understand how we could learn a model approximating this relationship, we start with the case of *simple* linear regression, where $\\mathbf{x}\\in\\mathbb{R}$. This implies that our model will follow\n",
    "$$\\bar{y} = w_0 + w_1 x$$\n",
    "\n",
    "We will measure the errors made by our model by using the Mean Squared Error (MSE) loss, defined as \n",
    "$$\\mathcal{L}_{MSE}\\left( \\bar{\\mathbf{y}},\\theta \\right) = \\sum_{i=1}^{n} \\left| y_{i} - \\bar{y}_{i} \\right|^{2} = \\sum_{i=1}^{n} \\left| y_{i} - (w_{0} + w_{1} x_{i}) \\right|^{2}$$\n",
    "\n",
    "Then our goal is to find the most adequate set of parameters $\\theta = \\{w_{0}, w_{1}\\}$, which are those that minimize the MSE loss defined previously. Therefore, we aim to obtain\n",
    "$$\\theta^{*}= \\underset{\\theta}{\\text{argmin }} \\mathcal{L}\\left( \\bar{\\mathbf{y}}, \\mathbf{y} \\mid f_{\\theta}, \\theta \\right)$$\n",
    "\n",
    "To do so, we will implement the **gradient descent** algorithm discussed in the course.\n",
    "\n",
    "## Manual implementation - `NumPy`\n",
    "\n",
    "We start by performing a *full manual implementation*, in the sense that we need to manually derive the gradient in order to apply the gradient descent updates. To do so, we will rely on [NumPy](https://numpy.org/), which is a fundamental library for numerical computing offering support for N-dimensional arrays and scientific computing tasks, such as linear algebra, statistical analysis, and matrix manipulation. We strongly encourage you to learn NumPy through the set of [tutorials](https://numpy.org/learn/). For the sake of this introductory tutorial, we will provide the explanation for all of the functions that we will use in this first exercise. After that exercise, we will assume for the rest of the course that knowledge of Numpy should be found online. \n",
    "\n",
    "We start by import libraries (`NumPy`) and set a random seed to ensure that the random number generator produces always a reproducible series of random numbers.\n",
    "\n",
    "**Used functions**\n",
    "- `np.random.seed`: sets the seed for the NumPy random number generator. [Documentation](https://numpy.org/doc/stable/reference/random/generated/numpy.random.seed.html)"
   ]
  },
  {
   "cell_type": "code",
   "execution_count": 25,
   "metadata": {},
   "outputs": [],
   "source": [
    "import numpy as np\n",
    "np.random.seed(42)"
   ]
  },
  {
   "cell_type": "code",
   "execution_count": 48,
   "metadata": {},
   "outputs": [
    {
     "name": "stdout",
     "output_type": "stream",
     "text": [
      "\u001b[0;31mDocstring:\u001b[0m\n",
      "seed(seed=None)\n",
      "\n",
      "Reseed the singleton RandomState instance.\n",
      "\n",
      "Notes\n",
      "-----\n",
      "This is a convenience, legacy function that exists to support\n",
      "older code that uses the singleton RandomState. Best practice\n",
      "is to use a dedicated ``Generator`` instance rather than\n",
      "the random variate generation methods exposed directly in\n",
      "the random module.\n",
      "\n",
      "See Also\n",
      "--------\n",
      "numpy.random.Generator\n",
      "\u001b[0;31mType:\u001b[0m      builtin_function_or_method"
     ]
    }
   ],
   "source": [
    "?np.random.seed"
   ]
  },
  {
   "cell_type": "markdown",
   "metadata": {},
   "source": [
    "### Generate a synthetic dataset.\n",
    "\n",
    "For the sake of this exercise, we will generate the data ourselves, so that we know the true values that we are looking for in advance. Hence, we define a linear relationship following\n",
    "$$y = w^{t}_0 + w^{t}_1 x + \\epsilon$$\n",
    "\n",
    "**Used functions**\n",
    "- `np.random.rand`: generates an array of random numbers uniformly distributed over [0, 1). [Documentation](https://numpy.org/doc/stable/reference/random/generated/numpy.random.rand.html)\n",
    "- `np.random.randn`: generates an array of random numbers from the standard normal distribution (mean 0, variance 1). [Documentation](https://numpy.org/doc/stable/reference/random/generated/numpy.random.randn.html)\n",
    "- `np.ones`: generates an array of ones with a specified shape. [Documentation](https://numpy.org/doc/stable/reference/generated/numpy.ones.html)\n",
    "- `np.c_`: concatenates arrays along the second axis. [Documentation](https://numpy.org/doc/stable/reference/generated/numpy.c_.html)"
   ]
  },
  {
   "cell_type": "code",
   "execution_count": 26,
   "metadata": {},
   "outputs": [],
   "source": [
    "import numpy as np\n",
    "true_w0 = 2\n",
    "true_w1 = 3\n",
    "n_obs = 100\n",
    "x = [0, 1]\n",
    "# Input to model\n",
    "x = np.linspace(x[0], x[1], n_obs + 1)\n",
    "# Output (target)\n",
    "y = true_w1 * x + true_w0"
   ]
  },
  {
   "cell_type": "code",
   "execution_count": 27,
   "metadata": {},
   "outputs": [],
   "source": [
    "def mse_loss(y_bar, y_true):\n",
    "    return np.sum((y_true - y_bar) ** 2)"
   ]
  },
  {
   "cell_type": "code",
   "execution_count": 28,
   "metadata": {},
   "outputs": [],
   "source": [
    "true_w0 = 2\n",
    "true_w1 = 3\n",
    "x_min = 0\n",
    "x_max = 1\n",
    "n_obs = 100\n",
    "x = np.linspace(x_min, x_max, n_obs)\n",
    "y = true_w1 * x + true_w0 + eps"
   ]
  },
  {
   "cell_type": "code",
   "execution_count": 29,
   "metadata": {},
   "outputs": [],
   "source": [
    "def mse_loss(y, y_bar):\n",
    "    return np.sum((y - y_bar) ** 2)"
   ]
  },
  {
   "cell_type": "markdown",
   "metadata": {},
   "source": [
    "### Computing the MSE loss\n",
    "\n",
    "We will measure the errors made by our model by using the Mean Squared Error (MSE) loss, defined as \n",
    "$$\\mathcal{L}_{MSE}\\left( \\bar{\\mathbf{y}},\\theta \\right) = \\sum_{i=1}^{n} \\left| y_{i} - \\bar{y}_{i} \\right|^{2} = \\sum_{i=1}^{n} \\left| y_{i} - (w_{0} + w_{1} x_{i}) \\right|^{2}$$\n",
    "\n",
    "This will allow us to evaluate the performances of our model, but is also the basis for the following gradient descent algorithm.\n",
    "\n",
    "**Used functions**\n",
    "- `np.sum`: computes the sum of the provided array (optionally across a provided `axis`). [Documentation](https://numpy.org/doc/stable/reference/generated/numpy.mean.html)"
   ]
  },
  {
   "cell_type": "code",
   "execution_count": 30,
   "metadata": {},
   "outputs": [],
   "source": [
    "def mse_loss(y, y_bar):\n",
    "    return np.sum((y - y_bar) ** 2)"
   ]
  },
  {
   "cell_type": "markdown",
   "metadata": {},
   "source": [
    "### Implement the gradient descent algorithm.\n",
    "\n",
    "As seen in the course Initialize the weight $w_1$ and bias $w_0$ to small random values\n",
    "1. Evaluate the predictions made by our model \n",
    "$$\\hat{y} = w_{1}x + w_0$$\n",
    "2. Compute the mean squared error (MSE) loss between the predicted values and the ground truth labels: \n",
    "$$\\mathcal{L}_{MSE} = \\frac{1}{n} \\sum_{i=1}^n (\\bar{y_i} - y_i)^2$$\n",
    "3. Compute the gradients of the loss with respect to the weight and bias (see derivation in the course)\n",
    "$$\\frac{\\partial \\mathcal{L}}{\\partial w_1} = \\sum_{i} 2 * (\\bar{y}_{i} - y_{i})*x_{i}$$\n",
    "$$\\frac{\\partial \\mathcal{L}}{\\partial w_0} = \\sum_{i} 2 * (\\bar{y}_{i} - y_{i})$$\n",
    "4. Update the weights and bias using the gradients and a learning rate $\\eta$: \n",
    "$$w_1 \\leftarrow w_1 - \\eta \\frac{\\partial \\mathcal{L}}{\\partial w_1}$$ \n",
    "$$w_0 \\leftarrow w_0 - \\eta \\frac{\\partial \\mathcal{L}}{\\partial w_0}$$"
   ]
  },
  {
   "cell_type": "code",
   "execution_count": 31,
   "metadata": {},
   "outputs": [
    {
     "name": "stdout",
     "output_type": "stream",
     "text": [
      "2.100001299981006\n",
      "2.999997574364702\n"
     ]
    }
   ],
   "source": [
    "n_iter = 1000\n",
    "loss = np.zeros(n_iter)\n",
    "eta = 1e-3\n",
    "def model(x, w0, w1):\n",
    "    return x * w1 + w0\n",
    "w0 = np.random.randn()\n",
    "w1 = np.random.randn()\n",
    "for i in range(n_iter):\n",
    "    y_bar = model(x, w0, w1)\n",
    "    l_mse = mse_loss(y, y_bar)\n",
    "    #print(f'w0 = {w0}, w1 = {w1}, loss = {l_mse}')\n",
    "    dldw0 = np.sum(2 * (y_bar - y))\n",
    "    w0 = w0 - eta * dldw0\n",
    "    dldw1 = np.sum(2 * (y_bar - y) * x)\n",
    "    w1 = w1 - eta * dldw1\n",
    "    loss[i] = l_mse\n",
    "import matplotlib.pyplot as plt\n",
    "print(w0)\n",
    "print(w1)"
   ]
  },
  {
   "cell_type": "code",
   "execution_count": 32,
   "metadata": {},
   "outputs": [
    {
     "name": "stdout",
     "output_type": "stream",
     "text": [
      "2.9999978254581143\n",
      "2.1000011654114497\n"
     ]
    }
   ],
   "source": [
    "# Parameters\n",
    "n_iter = 1000\n",
    "lr = 0.001\n",
    "def gradient_descent(x, y, n_iter, lr):\n",
    "    # Initialize the parameters\n",
    "    w_1 = np.random.randn()\n",
    "    w_0 = np.random.randn()\n",
    "    # Perform gradient descent\n",
    "    for i in range(n_iter):\n",
    "        # 1. Calculate the predictions\n",
    "        y_bar = w_1 * x + w_0\n",
    "        # 2. Compute the loss\n",
    "        loss = mse_loss(y, y_bar)\n",
    "        # 3. Calculate the gradients\n",
    "        dw_1 = 2 * np.sum((y_bar - y) * x)\n",
    "        dw_0 = 2 * np.sum((y_bar - y))\n",
    "        # 4. Update the parameters\n",
    "        w_1 -= lr * dw_1\n",
    "        w_0 -= lr * dw_0\n",
    "    return w_1, w_0\n",
    "w_1, w_0 = gradient_descent(x, y, n_iter, lr)\n",
    "print(w_1)\n",
    "print(w_0)"
   ]
  },
  {
   "cell_type": "markdown",
   "metadata": {},
   "source": [
    "### Visualize the results.\n",
    "\n",
    "We can see how well our model fits to the observed data by plotting it against the observed samples."
   ]
  },
  {
   "cell_type": "code",
   "execution_count": 33,
   "metadata": {},
   "outputs": [
    {
     "name": "stdout",
     "output_type": "stream",
     "text": [
      "Launching server at http://localhost:51084\n"
     ]
    },
    {
     "name": "stderr",
     "output_type": "stream",
     "text": [
      "BokehDeprecationWarning: 'circle() method with size value' was deprecated in Bokeh 3.4.0 and will be removed, use 'scatter(size=...) instead' instead.\n"
     ]
    },
    {
     "data": {
      "text/plain": [
       "<panel.io.server.Server at 0x301f69b50>"
      ]
     },
     "execution_count": 33,
     "metadata": {},
     "output_type": "execute_result"
    },
    {
     "name": "stderr",
     "output_type": "stream",
     "text": [
      "WARNING:tornado.access:404 GET /cml/cml.css (::1) 0.14ms\n"
     ]
    }
   ],
   "source": [
    "p = scatter(x, y, title=\"Simple linear regression\")\n",
    "p.line(x, w_1 * x + w_0, line_width=6, line_alpha=0.6, color=\"red\", legend_label=r\"Learned model\")\n",
    "plot = (center_plot(p))\n",
    "plot.show()"
   ]
  },
  {
   "cell_type": "markdown",
   "metadata": {},
   "source": [
    "### Observing our solution interactively\n",
    "\n",
    "In the following code, you can observe the behavior of the model by playing interactively with the properties of the original problem. \n",
    "\n",
    "<div class=\"alert alert-success\" markdown=\"1\" style=\"color:white; background-color: #192841; border-color: #779ecb\">\n",
    "\n",
    "> Note that each change in the properties of the original problem requires to run the gradient descent algorithm entirely each time.\n",
    "\n",
    "</div>"
   ]
  },
  {
   "cell_type": "code",
   "execution_count": 34,
   "metadata": {},
   "outputs": [
    {
     "name": "stderr",
     "output_type": "stream",
     "text": [
      "BokehDeprecationWarning: 'circle() method with size value' was deprecated in Bokeh 3.4.0 and will be removed, use 'scatter(size=...) instead' instead.\n"
     ]
    },
    {
     "name": "stdout",
     "output_type": "stream",
     "text": [
      "Launching server at http://localhost:51088\n"
     ]
    },
    {
     "data": {
      "text/plain": [
       "<panel.io.server.Server at 0x301ff4b10>"
      ]
     },
     "execution_count": 34,
     "metadata": {},
     "output_type": "execute_result"
    },
    {
     "name": "stderr",
     "output_type": "stream",
     "text": [
      "WARNING:tornado.access:404 GET /cml/cml.css (::1) 0.13ms\n"
     ]
    }
   ],
   "source": [
    "from cml.tasks import RegressionLinearSolver\n",
    "explorer = RegressionLinearSolver()\n",
    "def solve(x, y):\n",
    "    w_1, w_0 = gradient_descent(x, y, n_iter, lr)\n",
    "    x_predict = np.linspace(np.min(x), np.max(x), 200)\n",
    "    y_model = w_1 * x_predict + w_0\n",
    "    return np.array(x_predict), np.array(y_model) #np.array(np.zeros(y_model.shape))\n",
    "\n",
    "explorer.solve = solve\n",
    "explorer.render().show()"
   ]
  },
  {
   "cell_type": "markdown",
   "metadata": {},
   "source": [
    "<div class=\"alert alert-success\" markdown=\"1\" style=\"color:white; background-color: #192841; border-color: #779ecb\">\n",
    "\n",
    "> ### Going further\n",
    "> **Exercise 1 \\[Learning rate\\]**: Experiment with different learning rates (e.g., 0.001, 0.01, 0.1, 1) and observe how they affect the convergence of the gradient descent algorithm. Plot the convergence history (cost function value vs. iteration) for each learning rate.\n",
    "\n",
    "> **Exercise 2 \\[Initialization\\]**: Experiment with different initializations of the coefficients (zeros, random values, etc.) and observe their impact on the convergence of the gradient descent algorithm.\n",
    "\n",
    "> **Exercise 3 \\[Variants\\]**: Implement and compare different variants of gradient descent, such as stochastic gradient descent (SGD) and mini-batch gradient descent. Analyze their convergence properties and computational efficiency.\n",
    "\n",
    "> **Exercise 4 \\[Regularization\\]**: Implement Lasso and Ridge regression with gradient descent by incorporating the regularization terms into the cost function and gradient calculations. Compare their performance with the standard linear regression implementation and analyze their impact on the learned coefficients.\n",
    "\n",
    "\n",
    "</div>"
   ]
  },
  {
   "cell_type": "code",
   "execution_count": null,
   "metadata": {},
   "outputs": [],
   "source": [
    "######################\n",
    "# YOUR CODE GOES HERE\n",
    "######################"
   ]
  },
  {
   "cell_type": "markdown",
   "metadata": {
    "tags": []
   },
   "source": [
    "## Discovering automatic differentiation - `JAX`\n",
    "\n",
    "The previous implementation required us to perform manual differentiation of our loss function to understand how to update the parameters. However, large developments have been made in the field of **automatic differentiation**. \n",
    "\n",
    "The recent library [JAX](https://github.com/google/jax) extends NumPy with this automatic differentiation feature (*autograd*), while providing a functional approach to numerical computing, allowing for easy gradient computation and just-in-time (JIT) compilation. Its ability to handle complex and custom gradients makes JAX particularly well-suited for advanced research projects. Similar to NumPy, we strongly encourage you to learn JAX through the set of [tutorials](https://jax.readthedocs.io/en/latest/), but we will also provide here the explanation for all of the functions that we will use in this first exercise. After that, we will assume that knowledge of JAX should be found online. \n",
    "\n",
    "Note that `JAX` has been thought as an extension of `NumPy`, therefore an extremely large portion of its API simply mirrors the `NumPy` functions by adding automatic differentiation features to it.\n",
    "\n",
    "**Used functions**\n",
    "- `random.PRNGKey`: function to generate a key for the pseudorandom number generator. [Documentation](https://jax.readthedocs.io/en/latest/_autosummary/jax.random.PRNGKey.html)"
   ]
  },
  {
   "cell_type": "code",
   "execution_count": 35,
   "metadata": {},
   "outputs": [],
   "source": [
    "import jax.numpy as jnp\n",
    "from jax import grad, jit, random\n",
    "key = random.PRNGKey(42)"
   ]
  },
  {
   "cell_type": "markdown",
   "metadata": {},
   "source": [
    "### Dataset.\n",
    "\n",
    "We can simply keep our previous approach to generating the dataset but we will rely on `jnp.ndarray` instead of `np.ndarray`. We also provide the code for splitting the dataset between a `training` and `validation` dataset, as discussed in the course\n",
    "\n",
    "**Used functions**\n",
    "- `random.split`: function to split a PRNGKey into a list of subkeys [Documentation](https://jax.readthedocs.io/en/latest/_autosummary/jax.random.split.html)\n",
    "- `random.uniform`: function to generate an array of uniformly distributed random numbers [Documentation](https://jax.readthedocs.io/en/latest/_autosummary/jax.random.uniform.html)\n",
    "- `random.normal`: function to generate an array of normally distributed random numbers [Documentation](https://jax.readthedocs.io/en/latest/_autosummary/jax.random.normal.html)"
   ]
  },
  {
   "cell_type": "code",
   "execution_count": 36,
   "metadata": {},
   "outputs": [],
   "source": [
    "true_w0 = 2\n",
    "true_w1 = 3\n",
    "key_0, key_1, key = random.split(key, 3)\n",
    "x = random.uniform(key_0, (100,))\n",
    "y = true_w0 + true_w1 * x + (random.normal(key_1, (100,)) * 0.2)"
   ]
  },
  {
   "cell_type": "code",
   "execution_count": 38,
   "metadata": {},
   "outputs": [],
   "source": [
    "# Splitting our dataset\n",
    "train_size = int(0.8 * len(x))\n",
    "x_train, x_valid = x[:train_size], x[train_size:]\n",
    "y_train, y_valid = y[:train_size], y[train_size:]"
   ]
  },
  {
   "cell_type": "markdown",
   "metadata": {},
   "source": [
    "### Loss function\n",
    "\n",
    "Similarly Define the cost function and its gradient.\n",
    "\n",
    "**Used functions**\n",
    "- `jnp.mean`: function to compute the mean of an array [Documentation](https://jax.readthedocs.io/en/latest/_autosummary/jax.numpy.mean.html)"
   ]
  },
  {
   "cell_type": "code",
   "execution_count": 39,
   "metadata": {},
   "outputs": [],
   "source": [
    "def model_loss(x, y, w_1, w_0):\n",
    "    y_bar = x * w_1 + w_0\n",
    "    return jnp.sum((y - y_bar) ** 2)"
   ]
  },
  {
   "cell_type": "code",
   "execution_count": 40,
   "metadata": {},
   "outputs": [
    {
     "data": {
      "text/plain": [
       "Array([ 0.07664532,  3.2133913 ,  0.41728562,  0.17407167,  2.0413198 ,\n",
       "       -1.318686  ,  0.7363295 ,  3.594091  , -0.69072914,  0.67042017,\n",
       "        1.7122381 ,  1.3086796 ,  1.9366794 ,  0.64892817,  1.0304654 ,\n",
       "        0.44981256,  0.9112194 ,  0.41049498,  0.37822983,  1.7054946 ,\n",
       "        2.2790163 ,  0.1979998 ,  2.499345  ,  0.02668474,  0.5007688 ,\n",
       "        0.17375124,  0.925546  ,  2.5196667 ,  0.18028723,  0.30225256,\n",
       "        0.25311166,  1.3472219 , -0.13031378,  0.7468738 ,  0.4357478 ,\n",
       "       -1.5069984 ,  2.2028286 ,  1.5836565 ,  0.30808046,  0.79100364,\n",
       "       -0.76923555,  1.1914178 , -1.4918951 ,  1.4690527 ,  0.46171728,\n",
       "        0.85715044, -0.73214096,  1.393333  ,  1.6693428 , -0.41422576,\n",
       "        0.25774938, -1.5529622 , -0.20669016,  2.1523733 ,  0.96379924,\n",
       "        2.0191884 , -1.8885113 , -1.5548476 ,  0.64798117,  1.3082905 ,\n",
       "        1.1080405 ,  0.41580933, -0.2702406 ,  0.11823455,  0.7001748 ,\n",
       "        1.1937996 ,  0.40484875, -1.6919734 ,  0.9679034 ,  1.6170447 ,\n",
       "       -1.2771225 , -0.22169049,  1.1338183 , -0.41759747,  0.84285104,\n",
       "        1.3229761 ,  0.79795873,  0.1615876 , -0.19462095,  1.669553  ,\n",
       "       -0.21906836,  0.36596748, -0.14214696, -0.95502454,  0.87026966,\n",
       "       -0.9085372 ,  0.6755271 , -1.2791867 ,  1.002476  ,  1.9326367 ,\n",
       "        0.91674834,  2.4583137 ,  0.1360587 , -1.2257587 , -2.017017  ,\n",
       "        1.0532806 ,  0.24964982,  0.2954276 , -0.11037389,  0.5171553 ],      dtype=float32)"
      ]
     },
     "execution_count": 40,
     "metadata": {},
     "output_type": "execute_result"
    }
   ],
   "source": [
    "grad(model_loss)(x, y, w_1, w_0)"
   ]
  },
  {
   "cell_type": "code",
   "execution_count": 41,
   "metadata": {},
   "outputs": [],
   "source": [
    "def loss_function(x, y, w_1, w_0):\n",
    "    y_pred = x * w_1 + w_0\n",
    "    residuals = y_pred - y\n",
    "    return jnp.mean(residuals**2)"
   ]
  },
  {
   "cell_type": "markdown",
   "metadata": {},
   "source": [
    "\n",
    "**Used functions**\n",
    "- `jit`: function to compile a function for faster execution [Documentation](https://jax.readthedocs.io/en/latest/jit.html)\n",
    "- `grad`: function to compute the gradient of a function [Documentation](https://jax.readthedocs.io/en/latest/jax.html#jax.grad)"
   ]
  },
  {
   "cell_type": "code",
   "execution_count": 42,
   "metadata": {},
   "outputs": [],
   "source": [
    "grad_loss_function = jit(grad(loss_function, argnums=[2, 3]))"
   ]
  },
  {
   "cell_type": "markdown",
   "metadata": {},
   "source": [
    "### Implement the gradient descent algorithm.\n",
    "\n",
    "Note that nowhere in the code do we need to explicitly define the gradients of the different variables. Yet, the optimization will be performed adequately."
   ]
  },
  {
   "cell_type": "code",
   "execution_count": 43,
   "metadata": {},
   "outputs": [
    {
     "name": "stdout",
     "output_type": "stream",
     "text": [
      "Gradient Descent coefficients: [3.0639799] [1.9661584]\n"
     ]
    }
   ],
   "source": [
    "def gradient_descent(key, x, y, lr=0.05, n_iter=1000):\n",
    "    m = x.shape\n",
    "    k_0, k_1 = random.split(key, 2)\n",
    "    w_0 = random.normal(k_0, (1,))\n",
    "    w_1 = random.normal(k_1, (1,))\n",
    "    loss_history = []\n",
    "    for _ in range(n_iter):\n",
    "        gradients = grad_loss_function(x, y, w_1, w_0)\n",
    "        #print(gradients[0])\n",
    "        w_1 -= lr * gradients[0]\n",
    "        w_0 -= lr * gradients[1]\n",
    "        loss_history.append(loss_function(x, y, w_1, w_0))\n",
    "    return w_1, w_0, loss_history\n",
    "\n",
    "key_gd, key = random.split(key, 2)\n",
    "w_1, w_0, loss_history = gradient_descent(key_gd, x_train, y_train)\n",
    "print(\"Gradient Descent coefficients:\", w_1, w_0)"
   ]
  },
  {
   "cell_type": "markdown",
   "metadata": {},
   "source": [
    "### Evaluate our performances\n",
    "\n",
    "Thanks to our previous split of the dataset, we are now able to evaluate the performances of our model on *unseen data*, which is the overarching goal of building such machine learning models."
   ]
  },
  {
   "cell_type": "code",
   "execution_count": 44,
   "metadata": {},
   "outputs": [
    {
     "name": "stdout",
     "output_type": "stream",
     "text": [
      "MSE for Gradient Descent: 0.03851323\n"
     ]
    }
   ],
   "source": [
    "def mean_squared_error(y_true, y_pred):\n",
    "    return np.mean((y_true - y_pred)**2)\n",
    "\n",
    "y_valid_gd = w_1 * x_valid + w_0\n",
    "mse_gd = mean_squared_error(y_valid, y_valid_gd)\n",
    "print(\"MSE for Gradient Descent:\", mse_gd)"
   ]
  },
  {
   "cell_type": "markdown",
   "metadata": {},
   "source": [
    "### Visualize the results.\n",
    "\n",
    "As previously we can witness our results, and also evaluate our solution with our interactive solver."
   ]
  },
  {
   "cell_type": "code",
   "execution_count": 45,
   "metadata": {},
   "outputs": [
    {
     "name": "stdout",
     "output_type": "stream",
     "text": [
      "Launching server at http://localhost:51101\n"
     ]
    },
    {
     "name": "stderr",
     "output_type": "stream",
     "text": [
      "BokehDeprecationWarning: 'circle() method with size value' was deprecated in Bokeh 3.4.0 and will be removed, use 'scatter(size=...) instead' instead.\n"
     ]
    },
    {
     "data": {
      "text/plain": [
       "<panel.io.server.Server at 0x303094b10>"
      ]
     },
     "execution_count": 45,
     "metadata": {},
     "output_type": "execute_result"
    },
    {
     "name": "stderr",
     "output_type": "stream",
     "text": [
      "WARNING:tornado.access:404 GET /cml/cml.css (::1) 0.13ms\n"
     ]
    }
   ],
   "source": [
    "p = scatter(np.array(x), np.array(y), title=\"Linear regression\")\n",
    "p.line(np.array(x), np.array(w_1 * x + w_0), line_width=6, line_alpha=0.6, color=\"red\", legend_label=r\"Learned model\")\n",
    "plot = (center_plot(p))\n",
    "plot.show()"
   ]
  },
  {
   "cell_type": "code",
   "execution_count": 46,
   "metadata": {},
   "outputs": [
    {
     "name": "stderr",
     "output_type": "stream",
     "text": [
      "BokehDeprecationWarning: 'circle() method with size value' was deprecated in Bokeh 3.4.0 and will be removed, use 'scatter(size=...) instead' instead.\n"
     ]
    },
    {
     "data": {
      "application/vnd.jupyter.widget-view+json": {
       "model_id": "1fd4a594ee524235bcdceea8c7ca3f39",
       "version_major": 2,
       "version_minor": 0
      },
      "text/plain": [
       "BokehModel(combine_events=True, render_bundle={'docs_json': {'9bcf2990-1e09-44b8-8596-a9ceb736fe6c': {'version…"
      ]
     },
     "execution_count": 46,
     "metadata": {},
     "output_type": "execute_result"
    }
   ],
   "source": [
    "from cml.tasks import RegressionLinearSolver\n",
    "explorer = RegressionLinearSolver()\n",
    "global key\n",
    "key = random.PRNGKey(23)\n",
    "def solve(x, y):\n",
    "    global key\n",
    "    key_gd, key = random.split(key, 2)\n",
    "    w_1, w_0, loss_history = gradient_descent(key_gd, x, y)\n",
    "    x_predict = np.linspace(np.min(x), np.max(x), 200)\n",
    "    y_model = w_1 * x_predict + w_0\n",
    "    return np.array(x_predict), np.array(y_model) #np.array(jnp.zeros(y_model.shape))\n",
    "\n",
    "explorer.solve = solve\n",
    "explorer.render()"
   ]
  },
  {
   "cell_type": "markdown",
   "metadata": {},
   "source": [
    "<div class=\"alert alert-success\" markdown=\"1\" style=\"color:white; background-color: #192841; border-color: #779ecb\">\n",
    "\n",
    "> ### Going further\n",
    "\n",
    "> You are encouraged to experiment in a similar way as outlined for NumPy with different learning rates, maximum number of iterations, and regularization techniques, as well as compare the performance (both accuracy and speed) of the implemented algorithms with `scikit-learn` built-in linear regression functions.\n",
    "\n",
    "</div>"
   ]
  },
  {
   "cell_type": "code",
   "execution_count": 47,
   "metadata": {},
   "outputs": [],
   "source": [
    "######################\n",
    "# YOUR CODE GOES HERE\n",
    "######################"
   ]
  },
  {
   "cell_type": "markdown",
   "metadata": {},
   "source": [
    "<a id=\"capacity\"></a>\n",
    "## Understanding model capacity and selection\n",
    "\n",
    "\n",
    "In real-life problem, we are aiming to find the parameters of a model, but we do not really know what is the _real_ function underlying this process. So what we can decide to select _any_ function of _any_ **capacity** (complexity of the function). One of the problem with that, is that if we have a too simple function, it will _underfit_ (it is not complex enough for our observations). On the opposite end, if we have a function which is too complex, it might be able to _fit through all training points exactly_ ... even though there is noise in our observations ! This is examplified in the following\n",
    "\n",
    "<img src=\"images/01_soa_function_families.png\" align=\"center\"/>\n",
    "\n",
    "We can observe this idea and play with it directly by trying to find a function approximating our previous observations with a polynomial function chosen to have a degree inside \\([1,2,8]\\).\n"
   ]
  },
  {
   "cell_type": "markdown",
   "metadata": {},
   "source": [
    "\n",
    "Depending on the _capacity_ of the model, what we can observe is that\n",
    "\n",
    "- `capacity too low   -> underfitting   : prediction variance >  noise variance`\n",
    "- `adequate capacity  -> good fit       : prediction variance == noise variance`\n",
    "- `capacity too high  -> overfitting    : prediction variance <  noise variance`\n"
   ]
  },
  {
   "cell_type": "markdown",
   "metadata": {},
   "source": [
    "A similar example can be given for a classification problem in two dimensions as follows\n",
    "\n",
    "<img src=\"images/01_underfit.png\" align=\"center\"/>\n"
   ]
  },
  {
   "cell_type": "markdown",
   "metadata": {},
   "source": [
    "# Exercises\n",
    "\n",
    "In the following, we define the exercises that you should fill for this session. These go further than what we have seen together in the course, but they are based on the exact same principles, simply with slightly more complex definitions. We provide an overall guideline for successfully implementing each of the exercise."
   ]
  },
  {
   "cell_type": "markdown",
   "metadata": {},
   "source": [
    "## Exercise 1 - Linear classification"
   ]
  },
  {
   "cell_type": "markdown",
   "metadata": {},
   "source": [
    "<div class=\"alert alert-success\" markdown=\"1\" style=\"color:white; background-color: #013220; border-color: #03C03C\">\n",
    "\n",
    "> In this exercise, we will implement linear classification using NumPy and JAX. The goal of this exercise is to gain a better understanding of how linear classification works and how to implement it ourselves using our two first libraries of choice, namely NumPy and JAX. To complete this exercise, you will need to have a basic understanding of NumPy and JAX. You can use the resources provided in the previous exercises to learn more about these libraries.\n",
    "\n",
    "We help you out by first defining a simple linear classification problem to solve\n",
    "\n",
    "</div>"
   ]
  },
  {
   "cell_type": "code",
   "execution_count": 48,
   "metadata": {},
   "outputs": [],
   "source": [
    "import numpy as np\n",
    "from sklearn.datasets import make_blobs\n",
    "# Properties of the problem\n",
    "n_observations = 200\n",
    "noise = 0.2\n",
    "c1_center = [-2, -1]\n",
    "c2_center = [2, 1]\n",
    "# Create points\n",
    "x_coords, y_class = make_blobs(n_samples=n_observations, centers=[c1_center, c2_center], n_features=2, cluster_std=0.55)\n",
    "x_data = x_coords + (noise * np.random.randn(n_observations, 2))\n",
    "#x_data = x_coords\n",
    "y_classes = y_class\n",
    "y_classes[y_classes == 0] = -1"
   ]
  },
  {
   "cell_type": "markdown",
   "metadata": {},
   "source": [
    "<div class=\"alert alert-success\" markdown=\"1\" style=\"color:white; background-color: #013220; border-color: #03C03C\">\n",
    "\n",
    "> ### Question 1.1 - Implement linear classification with NumPy\n",
    "\n",
    "> 1. Check the training data with two classes that are linearly separable.\n",
    "> 2. Initialize weights and bias.\n",
    "> 3. Implement the forward pass of the linear classifier.\n",
    "> 4. Implement the hinge loss for classification.\n",
    "> 5. Derive the gradients (backward pass) of the linear classifier.\n",
    "> 6. Implement gradient descent to optimize the weights and bias.\n",
    "\n",
    "</div>"
   ]
  },
  {
   "cell_type": "code",
   "execution_count": 49,
   "metadata": {},
   "outputs": [
    {
     "name": "stdout",
     "output_type": "stream",
     "text": [
      "Launching server at http://localhost:51113\n"
     ]
    },
    {
     "name": "stderr",
     "output_type": "stream",
     "text": [
      "BokehDeprecationWarning: 'circle() method with size value' was deprecated in Bokeh 3.4.0 and will be removed, use 'scatter(size=...) instead' instead.\n"
     ]
    },
    {
     "data": {
      "text/plain": [
       "<panel.io.server.Server at 0x304201950>"
      ]
     },
     "execution_count": 49,
     "metadata": {},
     "output_type": "execute_result"
    },
    {
     "name": "stderr",
     "output_type": "stream",
     "text": [
      "WARNING:tornado.access:404 GET /cml/cml.css (::1) 0.15ms\n"
     ]
    }
   ],
   "source": [
    "# 1. Dataset visualisatoin\n",
    "from cml.plot import center_plot, scatter\n",
    "plot = (center_plot(scatter(np.transpose(x_data)[0], np.transpose(x_data)[1], title=\"Simple quadratic problem\", toolbar_location=\"left\")))\n",
    "plot.show()"
   ]
  },
  {
   "cell_type": "code",
   "execution_count": 50,
   "metadata": {},
   "outputs": [
    {
     "name": "stdout",
     "output_type": "stream",
     "text": [
      "[2.36883788 1.69800694 0.0673506 ]\n"
     ]
    }
   ],
   "source": [
    "lr = 0.01\n",
    "epochs = 100\n",
    "x = np.c_[x_data, np.ones(len(x_data))]\n",
    "losses = []\n",
    "# 2. Initialize w = (w1, w2, b)\n",
    "w = np.random.rand(3)\n",
    "\n",
    "# 3. Forward pass\n",
    "def linear(x, w):\n",
    "    return np.squeeze(x @ w[np.newaxis].T)\n",
    "# 4. Hinge loss\n",
    "def hinge_loss(y_bar, y):\n",
    "    return np.mean(np.fmax(0, 1-y * y_bar))\n",
    "# 5 Backward pass\n",
    "def update_weights(x, y, w, lr):\n",
    "    dLdw1 = - y * x[:, 0]\n",
    "    dLdw2 = - y * x[:, 1]\n",
    "    dLdb = - y\n",
    "\n",
    "    w[0] -= lr * np.mean(dLdw1)\n",
    "    w[1] -= lr * np.mean(dLdw2)\n",
    "    w[2] -= lr * np.mean(dLdb)\n",
    "\n",
    "for i in range(epochs):\n",
    "    y_bar = linear(x, w)\n",
    "    loss = hinge_loss(y_bar, y_classes)\n",
    "    losses.append(loss)\n",
    "    update_weights(x, y_classes, w, lr)\n",
    "\n",
    "print(w)"
   ]
  },
  {
   "cell_type": "markdown",
   "metadata": {},
   "source": [
    "<div class=\"alert alert-success\" markdown=\"1\" style=\"color:white; background-color: #192841; border-color: #779ecb\">\n",
    "\n",
    "> ### Going further (optional)\n",
    "> Try to replace the Hinge loss by the cross-entropy loss in your implementation\n",
    "\n",
    "</div>"
   ]
  },
  {
   "cell_type": "code",
   "execution_count": 51,
   "metadata": {},
   "outputs": [],
   "source": [
    "######################\n",
    "# YOUR CODE GOES HERE\n",
    "######################"
   ]
  },
  {
   "cell_type": "markdown",
   "metadata": {},
   "source": [
    "<div class=\"alert alert-success\" markdown=\"1\" style=\"color:white; background-color: #013220; border-color: #03C03C\">\n",
    "\n",
    "> ### Question 1.2 - Implement linear classification with JAX\n",
    "\n",
    "> 1. Initialize weights and bias.\n",
    "> 2. Define the loss function using the jax.nn.softmax_cross_entropy_with_logits function.\n",
    "> 3. Implement gradient descent to optimize the weights and bias.\n",
    "\n",
    "</div>"
   ]
  },
  {
   "cell_type": "code",
   "execution_count": 52,
   "metadata": {},
   "outputs": [
    {
     "name": "stdout",
     "output_type": "stream",
     "text": [
      "[ 2.0177727   1.1342887  -0.22265422]\n"
     ]
    }
   ],
   "source": [
    "from jax import random, jit, grad\n",
    "import jax.numpy as jnp\n",
    "import tensorflow as tf\n",
    "\n",
    "key = random.PRNGKey(42)\n",
    "\n",
    "# Convert np data to jnp\n",
    "x_j = jnp.c_[x_data, jnp.ones(len(x_data))]\n",
    "y_j = np.array(y_classes, dtype=\"float32\")\n",
    "\n",
    "lr = 0.01\n",
    "epochs = 100\n",
    "\n",
    "losses = []\n",
    "# 2. Initialize w = (w1, w2, b)\n",
    "k_0, k_1, k_2 = random.split(key, 3)\n",
    "w1 = random.normal(k_0, (1,))\n",
    "w2 = random.normal(k_1, (1,))\n",
    "b = random.normal(k_2, (1,))\n",
    "\n",
    "# 3. Forward pass\n",
    "def linear(x, w):\n",
    "    return jnp.squeeze(x @ w[jnp.newaxis].T)\n",
    "\n",
    "# 4. Creating a loss funcion\n",
    "def binary_perceptron_loss(x, y, w1, w2, b):\n",
    "  w = jnp.concatenate([w1, w2, b])\n",
    "  y_bar_j = linear(x, w)\n",
    "  signed_label = 2.0 * y - 1.0\n",
    "  return jnp.sum(jnp.maximum(0, - y_bar_j * signed_label))\n",
    "grad_loss_function = jit(grad(binary_perceptron_loss, argnums=[2, 3, 4]))\n",
    "\n",
    "\n",
    "\n",
    "for i in range(epochs):\n",
    "    gradients = grad_loss_function(x_j, y_j, w1, w2, b)\n",
    "\n",
    "    w1 -= lr * gradients[0]\n",
    "    w2 -= lr * gradients[1]\n",
    "    b -= lr * gradients[2]\n",
    "\n",
    "print(jnp.concatenate([w1, w2, b]))"
   ]
  },
  {
   "cell_type": "markdown",
   "metadata": {},
   "source": [
    "<div class=\"alert alert-success\" markdown=\"1\" style=\"color:white; background-color: #013220; border-color: #03C03C\">\n",
    "\n",
    "> ### Question 1.3 - Compare the results of the NumPy and JAX implementations.\n",
    "> 1. Plot the decision boundary for each implementation.\n",
    "> 2. Compare the training time and accuracy of each implementation.\n",
    "\n",
    "</div>"
   ]
  },
  {
   "cell_type": "code",
   "execution_count": 53,
   "metadata": {},
   "outputs": [
    {
     "name": "stderr",
     "output_type": "stream",
     "text": [
      "BokehDeprecationWarning: 'circle() method with size value' was deprecated in Bokeh 3.4.0 and will be removed, use 'scatter(size=...) instead' instead.\n",
      "BokehDeprecationWarning: 'circle() method with size value' was deprecated in Bokeh 3.4.0 and will be removed, use 'scatter(size=...) instead' instead.\n"
     ]
    },
    {
     "data": {
      "text/html": [
       "\n",
       "  <div id=\"eb15fd04-76a7-4e7c-b93e-49f8c5b5fcf8\" data-root-id=\"7bc795c8-2b38-4b2d-bbba-d749dbf3ea24\" style=\"display: contents;\"></div>\n"
      ]
     },
     "metadata": {},
     "output_type": "display_data"
    },
    {
     "data": {
      "application/javascript": "(function(root) {\n  function embed_document(root) {\n  const docs_json = {\"c48a09c2-f868-4ee3-9426-115785ac55d7\":{\"version\":\"3.4.1\",\"title\":\"Bokeh Application\",\"roots\":[{\"type\":\"object\",\"name\":\"Row\",\"id\":\"7bc795c8-2b38-4b2d-bbba-d749dbf3ea24\",\"attributes\":{\"children\":[{\"type\":\"object\",\"name\":\"Figure\",\"id\":\"a8069122-f6e6-4730-a4df-72d2047efc77\",\"attributes\":{\"height\":450,\"x_range\":{\"type\":\"object\",\"name\":\"DataRange1d\",\"id\":\"4dae46ad-d6e0-4ebc-bf90-f9295d236e7c\"},\"y_range\":{\"type\":\"object\",\"name\":\"DataRange1d\",\"id\":\"c3987774-c4ba-42d0-bb6a-31789241c492\"},\"x_scale\":{\"type\":\"object\",\"name\":\"LinearScale\",\"id\":\"97bd64b9-3bc1-4c4e-8964-5bb34ecca487\"},\"y_scale\":{\"type\":\"object\",\"name\":\"LinearScale\",\"id\":\"79ee490c-b3b9-4cf5-b028-cbfd4d6f427e\"},\"title\":{\"type\":\"object\",\"name\":\"Title\",\"id\":\"a30d1719-00e0-4697-b324-c257425e1866\",\"attributes\":{\"text\":\"Ex1.1 - Linear Classification With Numpy\",\"text_color\":\"#E0E0E0\",\"text_font\":\"Josefin Sans\",\"text_font_size\":\"2.1em\"}},\"outline_line_color\":\"#E0E0E0\",\"outline_line_alpha\":0.25,\"outline_line_width\":3,\"renderers\":[{\"type\":\"object\",\"name\":\"GlyphRenderer\",\"id\":\"b4ee96f4-f0a0-4c86-9fe0-ce8955a32acb\",\"attributes\":{\"data_source\":{\"type\":\"object\",\"name\":\"ColumnDataSource\",\"id\":\"fca944bd-0ea7-4c98-aa8e-eaf7d5e23b36\",\"attributes\":{\"selected\":{\"type\":\"object\",\"name\":\"Selection\",\"id\":\"68785a49-4a96-40ea-bba1-a08fd5bfe2a6\",\"attributes\":{\"indices\":[],\"line_indices\":[]}},\"selection_policy\":{\"type\":\"object\",\"name\":\"UnionRenderers\",\"id\":\"3760b220-f0b5-49db-8029-1e1ea3bc0bcb\"},\"data\":{\"type\":\"map\",\"entries\":[[\"x\",{\"type\":\"ndarray\",\"array\":{\"type\":\"bytes\",\"data\":\"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\"},\"shape\":[200],\"dtype\":\"float64\",\"order\":\"little\"}],[\"y\",{\"type\":\"ndarray\",\"array\":{\"type\":\"bytes\",\"data\":\"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\"},\"shape\":[200],\"dtype\":\"float64\",\"order\":\"little\"}]]}}},\"view\":{\"type\":\"object\",\"name\":\"CDSView\",\"id\":\"e11a5dfc-aa21-4b11-975c-77a80390813d\",\"attributes\":{\"filter\":{\"type\":\"object\",\"name\":\"AllIndices\",\"id\":\"835f5313-15f8-4855-91cf-45d505e3bfc2\"}}},\"glyph\":{\"type\":\"object\",\"name\":\"Scatter\",\"id\":\"1c95daa6-ee99-4720-b268-b69e1908af77\",\"attributes\":{\"x\":{\"type\":\"field\",\"field\":\"x\"},\"y\":{\"type\":\"field\",\"field\":\"y\"},\"size\":{\"type\":\"value\",\"value\":10},\"line_color\":{\"type\":\"value\",\"value\":\"white\"},\"line_alpha\":{\"type\":\"value\",\"value\":0.25},\"fill_color\":{\"type\":\"value\",\"value\":\"midnightblue\"},\"fill_alpha\":{\"type\":\"value\",\"value\":0.25},\"hatch_alpha\":{\"type\":\"value\",\"value\":0.25}}},\"selection_glyph\":{\"type\":\"object\",\"name\":\"Circle\",\"id\":\"c0c43168-c3c7-4c2f-9ba0-f528487921ed\",\"attributes\":{\"line_color\":{\"type\":\"value\",\"value\":\"white\"},\"fill_color\":{\"type\":\"value\",\"value\":\"red\"},\"fill_alpha\":{\"type\":\"value\",\"value\":0.8}}},\"nonselection_glyph\":{\"type\":\"object\",\"name\":\"Circle\",\"id\":\"a8569b8f-81c4-49f7-911b-2bf7332afc19\",\"attributes\":{\"line_color\":{\"type\":\"value\",\"value\":\"white\"},\"fill_color\":{\"type\":\"value\",\"value\":\"midnightblue\"},\"fill_alpha\":{\"type\":\"value\",\"value\":0.5}}},\"hover_glyph\":{\"type\":\"object\",\"name\":\"Scatter\",\"id\":\"7b2e9398-f3cf-42e8-8003-4aec943d0554\",\"attributes\":{\"x\":{\"type\":\"field\",\"field\":\"x\"},\"y\":{\"type\":\"field\",\"field\":\"y\"},\"size\":{\"type\":\"value\",\"value\":10},\"line_color\":{\"type\":\"value\",\"value\":\"white\"},\"line_alpha\":{\"type\":\"value\",\"value\":0.5},\"fill_color\":{\"type\":\"value\",\"value\":\"red\"},\"fill_alpha\":{\"type\":\"value\",\"value\":0.5},\"hatch_alpha\":{\"type\":\"value\",\"value\":0.5}}},\"muted_glyph\":{\"type\":\"object\",\"name\":\"Scatter\",\"id\":\"c66a1340-44c0-40dc-aa75-6d2eba40f986\",\"attributes\":{\"x\":{\"type\":\"field\",\"field\":\"x\"},\"y\":{\"type\":\"field\",\"field\":\"y\"},\"size\":{\"type\":\"value\",\"value\":10},\"line_color\":{\"type\":\"value\",\"value\":\"white\"},\"line_alpha\":{\"type\":\"value\",\"value\":0.2},\"fill_color\":{\"type\":\"value\",\"value\":\"midnightblue\"},\"fill_alpha\":{\"type\":\"value\",\"value\":0.2},\"hatch_alpha\":{\"type\":\"value\",\"value\":0.2}}}}},{\"type\":\"object\",\"name\":\"GlyphRenderer\",\"id\":\"15352810-19b1-4d5e-9827-44700cd35d40\",\"attributes\":{\"data_source\":{\"type\":\"object\",\"name\":\"ColumnDataSource\",\"id\":\"1ec52b5c-4967-4448-928b-55f28bdf72a8\",\"attributes\":{\"selected\":{\"type\":\"object\",\"name\":\"Selection\",\"id\":\"d19189a3-f641-4f4b-bee9-d30051a010e3\",\"attributes\":{\"indices\":[],\"line_indices\":[]}},\"selection_policy\":{\"type\":\"object\",\"name\":\"UnionRenderers\",\"id\":\"b3e096cf-b735-4b6c-a212-5e3ce67351c4\"},\"data\":{\"type\":\"map\",\"entries\":[[\"x\",{\"type\":\"ndarray\",\"array\":{\"type\":\"bytes\",\"data\":\"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\"},\"shape\":[200],\"dtype\":\"float64\",\"order\":\"little\"}],[\"y\",{\"type\":\"ndarray\",\"array\":{\"type\":\"bytes\",\"data\":\"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\"},\"shape\":[200],\"dtype\":\"float64\",\"order\":\"little\"}]]}}},\"view\":{\"type\":\"object\",\"name\":\"CDSView\",\"id\":\"5dd0497e-990f-480e-bcd9-5166fb7d27eb\",\"attributes\":{\"filter\":{\"type\":\"object\",\"name\":\"AllIndices\",\"id\":\"47c62acf-1d82-4358-afa1-21b2e0a69aeb\"}}},\"glyph\":{\"type\":\"object\",\"name\":\"Line\",\"id\":\"3e51cc7d-7ffd-4767-b4a2-1999ca61f988\",\"attributes\":{\"x\":{\"type\":\"field\",\"field\":\"x\"},\"y\":{\"type\":\"field\",\"field\":\"y\"},\"line_color\":\"green\",\"line_alpha\":0.6,\"line_width\":6}},\"nonselection_glyph\":{\"type\":\"object\",\"name\":\"Line\",\"id\":\"ae82f9f7-aefa-4cf0-9e4f-529c7ddfdf64\",\"attributes\":{\"x\":{\"type\":\"field\",\"field\":\"x\"},\"y\":{\"type\":\"field\",\"field\":\"y\"},\"line_color\":\"green\",\"line_alpha\":0.1,\"line_width\":6}},\"muted_glyph\":{\"type\":\"object\",\"name\":\"Line\",\"id\":\"0a54eac5-3ed5-49cb-807a-be0ff81b4c5e\",\"attributes\":{\"x\":{\"type\":\"field\",\"field\":\"x\"},\"y\":{\"type\":\"field\",\"field\":\"y\"},\"line_color\":\"green\",\"line_alpha\":0.2,\"line_width\":6}}}}],\"toolbar\":{\"type\":\"object\",\"name\":\"Toolbar\",\"id\":\"975314e0-5fde-4b68-b666-1b1f5c6f5668\",\"attributes\":{\"tools\":[{\"type\":\"object\",\"name\":\"PanTool\",\"id\":\"4780c670-28bb-4b4f-9ba6-b8a789c3a4ad\"},{\"type\":\"object\",\"name\":\"WheelZoomTool\",\"id\":\"3fce4692-7836-4406-bfb4-6ae03ed3e7f1\",\"attributes\":{\"renderers\":\"auto\"}},{\"type\":\"object\",\"name\":\"BoxZoomTool\",\"id\":\"081baf02-6d64-49da-83df-5c5bca169655\",\"attributes\":{\"overlay\":{\"type\":\"object\",\"name\":\"BoxAnnotation\",\"id\":\"44279183-c3ec-496b-abda-57bdebd80d77\",\"attributes\":{\"syncable\":false,\"level\":\"overlay\",\"visible\":false,\"left\":{\"type\":\"number\",\"value\":\"nan\"},\"right\":{\"type\":\"number\",\"value\":\"nan\"},\"top\":{\"type\":\"number\",\"value\":\"nan\"},\"bottom\":{\"type\":\"number\",\"value\":\"nan\"},\"left_units\":\"canvas\",\"right_units\":\"canvas\",\"top_units\":\"canvas\",\"bottom_units\":\"canvas\",\"line_color\":\"black\",\"line_alpha\":1.0,\"line_width\":2,\"line_dash\":[4,4],\"fill_color\":\"lightgrey\",\"fill_alpha\":0.5}}}},{\"type\":\"object\",\"name\":\"SaveTool\",\"id\":\"155f0568-3b15-4f53-9798-9f01a0171bb5\"},{\"type\":\"object\",\"name\":\"ResetTool\",\"id\":\"aa222c05-f49e-4280-8801-c04bc64e746c\"},{\"type\":\"object\",\"name\":\"HelpTool\",\"id\":\"76cf2081-bd91-4acd-b61b-31979dd34cf3\"},{\"type\":\"object\",\"name\":\"HoverTool\",\"id\":\"0da243aa-28fe-4cea-b05a-910558502cd2\",\"attributes\":{\"renderers\":[{\"id\":\"b4ee96f4-f0a0-4c86-9fe0-ce8955a32acb\"}],\"tooltips\":null,\"mode\":\"vline\"}},{\"type\":\"object\",\"name\":\"BoxSelectTool\",\"id\":\"f6bd4cc4-0f7a-4640-a865-987ee1a52be8\",\"attributes\":{\"renderers\":[{\"id\":\"b4ee96f4-f0a0-4c86-9fe0-ce8955a32acb\"}],\"mode\":\"append\",\"overlay\":{\"type\":\"object\",\"name\":\"BoxAnnotation\",\"id\":\"3cf67722-43c3-4b66-a51b-74fc4e3889a7\",\"attributes\":{\"syncable\":false,\"level\":\"overlay\",\"visible\":false,\"left\":{\"type\":\"number\",\"value\":\"nan\"},\"right\":{\"type\":\"number\",\"value\":\"nan\"},\"top\":{\"type\":\"number\",\"value\":\"nan\"},\"bottom\":{\"type\":\"number\",\"value\":\"nan\"},\"editable\":true,\"line_color\":\"black\",\"line_alpha\":1.0,\"line_width\":2,\"line_dash\":[4,4],\"fill_color\":\"lightgrey\",\"fill_alpha\":0.5}}}}]}},\"toolbar_location\":null,\"left\":[{\"type\":\"object\",\"name\":\"LinearAxis\",\"id\":\"1d7e1eed-dde9-419a-abd7-bd164721f3d4\",\"attributes\":{\"ticker\":{\"type\":\"object\",\"name\":\"BasicTicker\",\"id\":\"96306547-54b0-4908-a678-5e4d9d28e89e\",\"attributes\":{\"mantissas\":[1,2,5]}},\"formatter\":{\"type\":\"object\",\"name\":\"BasicTickFormatter\",\"id\":\"bc13f856-f12f-4673-ab41-a65f58c89ef0\"},\"axis_label\":\"y\",\"axis_label_standoff\":10,\"axis_label_text_color\":\"#FFFFFF\",\"axis_label_text_font\":\"Josefin Sans\",\"axis_label_text_font_size\":\"1.9em\",\"axis_label_text_font_style\":\"bold\",\"major_label_policy\":{\"type\":\"object\",\"name\":\"AllLabels\",\"id\":\"3391bff9-cd93-494e-81b4-0efb911360d5\"},\"major_label_text_color\":\"#E0E0E0\",\"major_label_text_font\":\"Josefin Sans\",\"major_label_text_font_size\":\"1.15em\",\"axis_line_color\":\"#E0E0E0\",\"axis_line_alpha\":0.4,\"major_tick_line_color\":\"#E0E0E0\",\"major_tick_line_alpha\":0.4,\"minor_tick_line_color\":\"#E0E0E0\",\"minor_tick_line_alpha\":0.4}}],\"below\":[{\"type\":\"object\",\"name\":\"LinearAxis\",\"id\":\"906a0559-6974-4d39-8b77-ced035266456\",\"attributes\":{\"ticker\":{\"type\":\"object\",\"name\":\"BasicTicker\",\"id\":\"ebeae11d-c1c6-43a5-96dc-55723ce6ed37\",\"attributes\":{\"mantissas\":[1,2,5]}},\"formatter\":{\"type\":\"object\",\"name\":\"BasicTickFormatter\",\"id\":\"407f7be1-c4ec-488e-9329-d2d0178caabb\"},\"axis_label\":\"x\",\"axis_label_standoff\":10,\"axis_label_text_color\":\"#FFFFFF\",\"axis_label_text_font\":\"Josefin Sans\",\"axis_label_text_font_size\":\"1.9em\",\"axis_label_text_font_style\":\"bold\",\"major_label_policy\":{\"type\":\"object\",\"name\":\"AllLabels\",\"id\":\"0862c7c7-4c21-4a92-a72c-ecdb7b2bfb1e\"},\"major_label_text_color\":\"#E0E0E0\",\"major_label_text_font\":\"Josefin Sans\",\"major_label_text_font_size\":\"1.15em\",\"axis_line_color\":\"#E0E0E0\",\"axis_line_alpha\":0.4,\"major_tick_line_color\":\"#E0E0E0\",\"major_tick_line_alpha\":0.4,\"minor_tick_line_color\":\"#E0E0E0\",\"minor_tick_line_alpha\":0.4}}],\"center\":[{\"type\":\"object\",\"name\":\"Grid\",\"id\":\"42474dcf-9bc2-4a87-95b3-09289b9a5461\",\"attributes\":{\"axis\":{\"id\":\"906a0559-6974-4d39-8b77-ced035266456\"},\"grid_line_color\":\"#E0E0E0\",\"grid_line_alpha\":0.15}},{\"type\":\"object\",\"name\":\"Grid\",\"id\":\"a588d57f-aa94-4da3-8093-dd9942c05bd6\",\"attributes\":{\"dimension\":1,\"axis\":{\"id\":\"1d7e1eed-dde9-419a-abd7-bd164721f3d4\"},\"grid_line_color\":\"#E0E0E0\",\"grid_line_alpha\":0.15}},{\"type\":\"object\",\"name\":\"Legend\",\"id\":\"e73318ce-4363-4c24-9890-f2a97bfd9af3\",\"attributes\":{\"border_line_alpha\":0.25,\"background_fill_color\":\"#505050\",\"background_fill_alpha\":0.25,\"label_text_color\":\"#E0E0E0\",\"label_text_font\":\"Josefin Sans\",\"label_text_font_size\":\"1.15em\",\"label_standoff\":8,\"glyph_width\":15,\"spacing\":8,\"items\":[{\"type\":\"object\",\"name\":\"LegendItem\",\"id\":\"194016a9-e930-45c4-a0c6-0c2e877116d0\",\"attributes\":{\"label\":{\"type\":\"value\",\"value\":\"Observations\"},\"renderers\":[{\"id\":\"b4ee96f4-f0a0-4c86-9fe0-ce8955a32acb\"}]}},{\"type\":\"object\",\"name\":\"LegendItem\",\"id\":\"523a6f52-8946-4eef-a291-5f3915acf4ed\",\"attributes\":{\"label\":{\"type\":\"value\",\"value\":\"Classification curve\"},\"renderers\":[{\"id\":\"15352810-19b1-4d5e-9827-44700cd35d40\"}]}}]}}],\"background_fill_color\":\"#0f0f0f\",\"background_fill_alpha\":0.9,\"border_fill_color\":\"#111111\",\"border_fill_alpha\":0.8}},{\"type\":\"object\",\"name\":\"Spacer\",\"id\":\"db57f791-2822-4c00-853c-976a02bcd792\",\"attributes\":{\"width\":20,\"height\":600}},{\"type\":\"object\",\"name\":\"Figure\",\"id\":\"41e11c9d-6466-4192-908a-82b9a65185a8\",\"attributes\":{\"height\":450,\"x_range\":{\"type\":\"object\",\"name\":\"DataRange1d\",\"id\":\"83e456ff-07e6-430d-aca8-c75cc4a076d3\"},\"y_range\":{\"type\":\"object\",\"name\":\"DataRange1d\",\"id\":\"8dd3ba56-f0f2-4898-b96c-4cae22db3afb\"},\"x_scale\":{\"type\":\"object\",\"name\":\"LinearScale\",\"id\":\"61962bf5-bc79-4938-b539-7d439a180e09\"},\"y_scale\":{\"type\":\"object\",\"name\":\"LinearScale\",\"id\":\"dd4eb8a3-e198-4ebe-8977-331e3393587b\"},\"title\":{\"type\":\"object\",\"name\":\"Title\",\"id\":\"5bba6554-d8fe-4871-8c5f-86134e8d5ed4\",\"attributes\":{\"text\":\"Ex1.2 - Linear Classification With Jax\",\"text_color\":\"#E0E0E0\",\"text_font\":\"Josefin Sans\",\"text_font_size\":\"2.1em\"}},\"outline_line_color\":\"#E0E0E0\",\"outline_line_alpha\":0.25,\"outline_line_width\":3,\"renderers\":[{\"type\":\"object\",\"name\":\"GlyphRenderer\",\"id\":\"fa885ed3-8f1b-4a02-b039-8c717d1cece9\",\"attributes\":{\"data_source\":{\"type\":\"object\",\"name\":\"ColumnDataSource\",\"id\":\"ccbfcc81-37f4-4efe-96cf-fa2c1b1b3c0a\",\"attributes\":{\"selected\":{\"type\":\"object\",\"name\":\"Selection\",\"id\":\"4d116d67-d7b4-43f6-a7cd-09d3d75fc186\",\"attributes\":{\"indices\":[],\"line_indices\":[]}},\"selection_policy\":{\"type\":\"object\",\"name\":\"UnionRenderers\",\"id\":\"523aec29-6a5b-4e88-b54d-541075570b47\"},\"data\":{\"type\":\"map\",\"entries\":[[\"x\",{\"type\":\"ndarray\",\"array\":{\"type\":\"bytes\",\"data\":\"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\"},\"shape\":[200],\"dtype\":\"float64\",\"order\":\"little\"}],[\"y\",{\"type\":\"ndarray\",\"array\":{\"type\":\"bytes\",\"data\":\"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\"},\"shape\":[200],\"dtype\":\"float64\",\"order\":\"little\"}]]}}},\"view\":{\"type\":\"object\",\"name\":\"CDSView\",\"id\":\"eebe51b3-6ea8-4a4a-99d0-47d3debec86b\",\"attributes\":{\"filter\":{\"type\":\"object\",\"name\":\"AllIndices\",\"id\":\"ff218bce-90d0-4d90-8fce-dfb8a6961a39\"}}},\"glyph\":{\"type\":\"object\",\"name\":\"Scatter\",\"id\":\"bd57988a-354f-44a0-912f-6df64c5ea889\",\"attributes\":{\"x\":{\"type\":\"field\",\"field\":\"x\"},\"y\":{\"type\":\"field\",\"field\":\"y\"},\"size\":{\"type\":\"value\",\"value\":10},\"line_color\":{\"type\":\"value\",\"value\":\"white\"},\"line_alpha\":{\"type\":\"value\",\"value\":0.25},\"fill_color\":{\"type\":\"value\",\"value\":\"midnightblue\"},\"fill_alpha\":{\"type\":\"value\",\"value\":0.25},\"hatch_alpha\":{\"type\":\"value\",\"value\":0.25}}},\"selection_glyph\":{\"type\":\"object\",\"name\":\"Circle\",\"id\":\"4100a5bd-0d47-4eb1-b27f-14d3d59e6613\",\"attributes\":{\"line_color\":{\"type\":\"value\",\"value\":\"white\"},\"fill_color\":{\"type\":\"value\",\"value\":\"red\"},\"fill_alpha\":{\"type\":\"value\",\"value\":0.8}}},\"nonselection_glyph\":{\"type\":\"object\",\"name\":\"Circle\",\"id\":\"2b5b1b68-45e7-4d8d-bce6-330489efd3e6\",\"attributes\":{\"line_color\":{\"type\":\"value\",\"value\":\"white\"},\"fill_color\":{\"type\":\"value\",\"value\":\"midnightblue\"},\"fill_alpha\":{\"type\":\"value\",\"value\":0.5}}},\"hover_glyph\":{\"type\":\"object\",\"name\":\"Scatter\",\"id\":\"312c6f9e-da55-4502-9773-622f1df33c35\",\"attributes\":{\"x\":{\"type\":\"field\",\"field\":\"x\"},\"y\":{\"type\":\"field\",\"field\":\"y\"},\"size\":{\"type\":\"value\",\"value\":10},\"line_color\":{\"type\":\"value\",\"value\":\"white\"},\"line_alpha\":{\"type\":\"value\",\"value\":0.5},\"fill_color\":{\"type\":\"value\",\"value\":\"red\"},\"fill_alpha\":{\"type\":\"value\",\"value\":0.5},\"hatch_alpha\":{\"type\":\"value\",\"value\":0.5}}},\"muted_glyph\":{\"type\":\"object\",\"name\":\"Scatter\",\"id\":\"7177e72a-25b7-4da2-b6a5-ad89d6b1f38d\",\"attributes\":{\"x\":{\"type\":\"field\",\"field\":\"x\"},\"y\":{\"type\":\"field\",\"field\":\"y\"},\"size\":{\"type\":\"value\",\"value\":10},\"line_color\":{\"type\":\"value\",\"value\":\"white\"},\"line_alpha\":{\"type\":\"value\",\"value\":0.2},\"fill_color\":{\"type\":\"value\",\"value\":\"midnightblue\"},\"fill_alpha\":{\"type\":\"value\",\"value\":0.2},\"hatch_alpha\":{\"type\":\"value\",\"value\":0.2}}}}},{\"type\":\"object\",\"name\":\"GlyphRenderer\",\"id\":\"84e17861-ccca-459a-ab9d-ee7e9c36f3cf\",\"attributes\":{\"data_source\":{\"type\":\"object\",\"name\":\"ColumnDataSource\",\"id\":\"1b496443-d6bc-4835-92f1-87135872efae\",\"attributes\":{\"selected\":{\"type\":\"object\",\"name\":\"Selection\",\"id\":\"41dbad3d-421e-4efd-a49f-6da167ad359a\",\"attributes\":{\"indices\":[],\"line_indices\":[]}},\"selection_policy\":{\"type\":\"object\",\"name\":\"UnionRenderers\",\"id\":\"d93bc061-fd4b-491a-bcbb-ab6a94f6135c\"},\"data\":{\"type\":\"map\",\"entries\":[[\"x\",{\"type\":\"ndarray\",\"array\":{\"type\":\"bytes\",\"data\":\"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\"},\"shape\":[200],\"dtype\":\"float64\",\"order\":\"little\"}],[\"y\",{\"type\":\"ndarray\",\"array\":{\"type\":\"bytes\",\"data\":\"i3EhQLux0UAh/UTAns2uvwAlOMD8O4rAaM99QDvMKsBCNopAMXmQwDUfMMBF9FVA1rhkQPnhRcAtjsG/ijIlwO8tWkBOVivA7QB3wMO2ocDPTrHABztNwNBYg8BJOI1ANj1XwCsdjUCscZhAE4RgwDbRXUDXsK9AiWj/v2s9u8B0AuC/OvwYwHm5RkAgZGhAx+V7wInjM0AzVGDAlqF0QGc2HcDliodA9hYjwL3dlcB/zPa/9i46QMvKkEDxmInAeQSiQAr9K0CVIKfAqn5nQNGhosD7QlVAOsmlQL08nkDqjKzAQkYwwB+9hEA6HaxAN4CFwBXfl0BL74TAYIkYwM8/hMCO2YbAWnOcQBkpAkBmQYrAfII9QI8HaUDJa2TAu6ycQN3jJ8CuyFRAAOGJwEePnUBm2pZAFRlewLD1eEBirGBAQMxuQEVpej4D9mXAlmVtwFosccD/2D7AHU5dQI8wZUBSi17ADRZOwFF2rECyZrpAaMuHQPtsj0D08y7A05uYQLBuYUDChnXA1ouIQLfxl8BbQRzAM+qAQMuFSsAzAmpAMMt5QKt5gMDL01rALuaSwCM4GcCu84RAUodowA31TkATTYPApK2PQEd8dL/n443Ai/G4QI/vgED5hYVAN22owL/8v8DcDopAtxVbwDdCXsDDGnxAOR5NQIMpL0CxFJxAu2UxQHZ1i8Cse17AaL0HQGaoa8Da9CDAlScqQPlXYcAcYqLAHhVrQAmOk8CQhalAAL+WQDAl9b/Y7adAvn5YQFjXo0Dq5HlAtSqSwNlSZMBIdD3AO6igQBYphcD/7UZA4u1zwOgsHcAIhYDA80YBwFzsYEDFUi9A00wRQEyCPkBUmIxAIBFWQLDoVsC4RIZAhrFswCJsbED8eoBA88ZVwE6Ca0Ad4ZXAObRMQElkHMDI/3PApLQZQEmtlsCs8oVA/k+LQKQSg0DuzgfAmL1TQINdGsAMx2zAb8GFwGwijMCJCQFATEo3QO3xRUBvi5RAKghXQK04UUBcDirA8TojwAGjCMB+aVJASJhjwDrz6D+Fiw9A9mxHwIa6m0A=\"},\"shape\":[200],\"dtype\":\"float32\",\"order\":\"little\"}]]}}},\"view\":{\"type\":\"object\",\"name\":\"CDSView\",\"id\":\"5a29bdc6-ae2a-443f-855b-ac0474b9782d\",\"attributes\":{\"filter\":{\"type\":\"object\",\"name\":\"AllIndices\",\"id\":\"93c91024-209c-45bf-bf9d-92ca6d969931\"}}},\"glyph\":{\"type\":\"object\",\"name\":\"Line\",\"id\":\"233d7796-c37f-4606-b64c-eb2837f68450\",\"attributes\":{\"x\":{\"type\":\"field\",\"field\":\"x\"},\"y\":{\"type\":\"field\",\"field\":\"y\"},\"line_color\":\"green\",\"line_alpha\":0.6,\"line_width\":6}},\"nonselection_glyph\":{\"type\":\"object\",\"name\":\"Line\",\"id\":\"0921d49d-7540-474f-ac94-2a407fc9a18b\",\"attributes\":{\"x\":{\"type\":\"field\",\"field\":\"x\"},\"y\":{\"type\":\"field\",\"field\":\"y\"},\"line_color\":\"green\",\"line_alpha\":0.1,\"line_width\":6}},\"muted_glyph\":{\"type\":\"object\",\"name\":\"Line\",\"id\":\"c1eb6d21-f87c-4f79-9754-67c35c499879\",\"attributes\":{\"x\":{\"type\":\"field\",\"field\":\"x\"},\"y\":{\"type\":\"field\",\"field\":\"y\"},\"line_color\":\"green\",\"line_alpha\":0.2,\"line_width\":6}}}}],\"toolbar\":{\"type\":\"object\",\"name\":\"Toolbar\",\"id\":\"9ea2cf4f-e62d-4f51-8332-23e084628e4e\",\"attributes\":{\"tools\":[{\"type\":\"object\",\"name\":\"PanTool\",\"id\":\"2992379d-4c35-4870-95a8-2967e1fc0e68\"},{\"type\":\"object\",\"name\":\"WheelZoomTool\",\"id\":\"7715c771-086d-46a0-8efd-852ea4d71f35\",\"attributes\":{\"renderers\":\"auto\"}},{\"type\":\"object\",\"name\":\"BoxZoomTool\",\"id\":\"2a651b31-c0ce-4087-8490-6d62d47b62dd\",\"attributes\":{\"overlay\":{\"type\":\"object\",\"name\":\"BoxAnnotation\",\"id\":\"d848d5a7-06d5-46fd-b9a9-7eb0d3d00ad5\",\"attributes\":{\"syncable\":false,\"level\":\"overlay\",\"visible\":false,\"left\":{\"type\":\"number\",\"value\":\"nan\"},\"right\":{\"type\":\"number\",\"value\":\"nan\"},\"top\":{\"type\":\"number\",\"value\":\"nan\"},\"bottom\":{\"type\":\"number\",\"value\":\"nan\"},\"left_units\":\"canvas\",\"right_units\":\"canvas\",\"top_units\":\"canvas\",\"bottom_units\":\"canvas\",\"line_color\":\"black\",\"line_alpha\":1.0,\"line_width\":2,\"line_dash\":[4,4],\"fill_color\":\"lightgrey\",\"fill_alpha\":0.5}}}},{\"type\":\"object\",\"name\":\"SaveTool\",\"id\":\"ae822b66-f23f-439c-aa7a-805ff9053549\"},{\"type\":\"object\",\"name\":\"ResetTool\",\"id\":\"1e5a5c84-1693-42e2-bdf1-5e00f898c151\"},{\"type\":\"object\",\"name\":\"HelpTool\",\"id\":\"ea6dc9fd-1de9-4129-b2b1-54ad6a7e827d\"},{\"type\":\"object\",\"name\":\"HoverTool\",\"id\":\"f35b7c32-4f7b-4768-a9f3-1986918ca6e2\",\"attributes\":{\"renderers\":[{\"id\":\"fa885ed3-8f1b-4a02-b039-8c717d1cece9\"}],\"tooltips\":null,\"mode\":\"vline\"}},{\"type\":\"object\",\"name\":\"BoxSelectTool\",\"id\":\"379a50c3-fb87-48f5-996b-515f844268ce\",\"attributes\":{\"renderers\":[{\"id\":\"fa885ed3-8f1b-4a02-b039-8c717d1cece9\"}],\"mode\":\"append\",\"overlay\":{\"type\":\"object\",\"name\":\"BoxAnnotation\",\"id\":\"99ea4d32-3f38-48f1-a2f4-f2f9c839003f\",\"attributes\":{\"syncable\":false,\"level\":\"overlay\",\"visible\":false,\"left\":{\"type\":\"number\",\"value\":\"nan\"},\"right\":{\"type\":\"number\",\"value\":\"nan\"},\"top\":{\"type\":\"number\",\"value\":\"nan\"},\"bottom\":{\"type\":\"number\",\"value\":\"nan\"},\"editable\":true,\"line_color\":\"black\",\"line_alpha\":1.0,\"line_width\":2,\"line_dash\":[4,4],\"fill_color\":\"lightgrey\",\"fill_alpha\":0.5}}}}]}},\"toolbar_location\":null,\"left\":[{\"type\":\"object\",\"name\":\"LinearAxis\",\"id\":\"03f60f58-6293-40b5-a804-1e766d25aaa9\",\"attributes\":{\"ticker\":{\"type\":\"object\",\"name\":\"BasicTicker\",\"id\":\"6a655de4-a007-4b89-ac1b-fefeeb1726f5\",\"attributes\":{\"mantissas\":[1,2,5]}},\"formatter\":{\"type\":\"object\",\"name\":\"BasicTickFormatter\",\"id\":\"6d9e368e-b268-4d07-bc3b-fc0de83e0fb9\"},\"axis_label\":\"y\",\"axis_label_standoff\":10,\"axis_label_text_color\":\"#FFFFFF\",\"axis_label_text_font\":\"Josefin Sans\",\"axis_label_text_font_size\":\"1.9em\",\"axis_label_text_font_style\":\"bold\",\"major_label_policy\":{\"type\":\"object\",\"name\":\"AllLabels\",\"id\":\"d5aba566-3066-4966-817a-3f899942a29e\"},\"major_label_text_color\":\"#E0E0E0\",\"major_label_text_font\":\"Josefin Sans\",\"major_label_text_font_size\":\"1.15em\",\"axis_line_color\":\"#E0E0E0\",\"axis_line_alpha\":0.4,\"major_tick_line_color\":\"#E0E0E0\",\"major_tick_line_alpha\":0.4,\"minor_tick_line_color\":\"#E0E0E0\",\"minor_tick_line_alpha\":0.4}}],\"below\":[{\"type\":\"object\",\"name\":\"LinearAxis\",\"id\":\"832ef628-1e61-437b-8ede-38aea6c85871\",\"attributes\":{\"ticker\":{\"type\":\"object\",\"name\":\"BasicTicker\",\"id\":\"4c8d59a5-9337-429f-8d78-e5464d304a13\",\"attributes\":{\"mantissas\":[1,2,5]}},\"formatter\":{\"type\":\"object\",\"name\":\"BasicTickFormatter\",\"id\":\"f916699b-2630-4748-9942-97a081d3a6a1\"},\"axis_label\":\"x\",\"axis_label_standoff\":10,\"axis_label_text_color\":\"#FFFFFF\",\"axis_label_text_font\":\"Josefin Sans\",\"axis_label_text_font_size\":\"1.9em\",\"axis_label_text_font_style\":\"bold\",\"major_label_policy\":{\"type\":\"object\",\"name\":\"AllLabels\",\"id\":\"24cb2699-ea79-4251-87c4-1540c6df5711\"},\"major_label_text_color\":\"#E0E0E0\",\"major_label_text_font\":\"Josefin Sans\",\"major_label_text_font_size\":\"1.15em\",\"axis_line_color\":\"#E0E0E0\",\"axis_line_alpha\":0.4,\"major_tick_line_color\":\"#E0E0E0\",\"major_tick_line_alpha\":0.4,\"minor_tick_line_color\":\"#E0E0E0\",\"minor_tick_line_alpha\":0.4}}],\"center\":[{\"type\":\"object\",\"name\":\"Grid\",\"id\":\"867b1cc0-e138-43b3-bfb2-6b5c7de7b105\",\"attributes\":{\"axis\":{\"id\":\"832ef628-1e61-437b-8ede-38aea6c85871\"},\"grid_line_color\":\"#E0E0E0\",\"grid_line_alpha\":0.15}},{\"type\":\"object\",\"name\":\"Grid\",\"id\":\"74ef53d5-cdc0-4feb-ae70-8b3a21ae0689\",\"attributes\":{\"dimension\":1,\"axis\":{\"id\":\"03f60f58-6293-40b5-a804-1e766d25aaa9\"},\"grid_line_color\":\"#E0E0E0\",\"grid_line_alpha\":0.15}},{\"type\":\"object\",\"name\":\"Legend\",\"id\":\"dee7a4d4-c55d-4f4e-abc3-4869366d0b47\",\"attributes\":{\"border_line_alpha\":0.25,\"background_fill_color\":\"#505050\",\"background_fill_alpha\":0.25,\"label_text_color\":\"#E0E0E0\",\"label_text_font\":\"Josefin Sans\",\"label_text_font_size\":\"1.15em\",\"label_standoff\":8,\"glyph_width\":15,\"spacing\":8,\"items\":[{\"type\":\"object\",\"name\":\"LegendItem\",\"id\":\"7b3c0ac0-2e19-49aa-b345-5671955353ae\",\"attributes\":{\"label\":{\"type\":\"value\",\"value\":\"Observations\"},\"renderers\":[{\"id\":\"fa885ed3-8f1b-4a02-b039-8c717d1cece9\"}]}},{\"type\":\"object\",\"name\":\"LegendItem\",\"id\":\"b0f92e36-f4cb-4783-9a47-4e8005a0d081\",\"attributes\":{\"label\":{\"type\":\"value\",\"value\":\"Classification curve\"},\"renderers\":[{\"id\":\"84e17861-ccca-459a-ab9d-ee7e9c36f3cf\"}]}}]}}],\"background_fill_color\":\"#0f0f0f\",\"background_fill_alpha\":0.9,\"border_fill_color\":\"#111111\",\"border_fill_alpha\":0.8}}]}}],\"defs\":[{\"type\":\"model\",\"name\":\"ReactiveHTML1\"},{\"type\":\"model\",\"name\":\"FlexBox1\",\"properties\":[{\"name\":\"align_content\",\"kind\":\"Any\",\"default\":\"flex-start\"},{\"name\":\"align_items\",\"kind\":\"Any\",\"default\":\"flex-start\"},{\"name\":\"flex_direction\",\"kind\":\"Any\",\"default\":\"row\"},{\"name\":\"flex_wrap\",\"kind\":\"Any\",\"default\":\"wrap\"},{\"name\":\"gap\",\"kind\":\"Any\",\"default\":\"\"},{\"name\":\"justify_content\",\"kind\":\"Any\",\"default\":\"flex-start\"}]},{\"type\":\"model\",\"name\":\"FloatPanel1\",\"properties\":[{\"name\":\"config\",\"kind\":\"Any\",\"default\":{\"type\":\"map\"}},{\"name\":\"contained\",\"kind\":\"Any\",\"default\":true},{\"name\":\"position\",\"kind\":\"Any\",\"default\":\"right-top\"},{\"name\":\"offsetx\",\"kind\":\"Any\",\"default\":null},{\"name\":\"offsety\",\"kind\":\"Any\",\"default\":null},{\"name\":\"theme\",\"kind\":\"Any\",\"default\":\"primary\"},{\"name\":\"status\",\"kind\":\"Any\",\"default\":\"normalized\"}]},{\"type\":\"model\",\"name\":\"GridStack1\",\"properties\":[{\"name\":\"mode\",\"kind\":\"Any\",\"default\":\"warn\"},{\"name\":\"ncols\",\"kind\":\"Any\",\"default\":null},{\"name\":\"nrows\",\"kind\":\"Any\",\"default\":null},{\"name\":\"allow_resize\",\"kind\":\"Any\",\"default\":true},{\"name\":\"allow_drag\",\"kind\":\"Any\",\"default\":true},{\"name\":\"state\",\"kind\":\"Any\",\"default\":[]}]},{\"type\":\"model\",\"name\":\"drag1\",\"properties\":[{\"name\":\"slider_width\",\"kind\":\"Any\",\"default\":5},{\"name\":\"slider_color\",\"kind\":\"Any\",\"default\":\"black\"},{\"name\":\"value\",\"kind\":\"Any\",\"default\":50}]},{\"type\":\"model\",\"name\":\"click1\",\"properties\":[{\"name\":\"terminal_output\",\"kind\":\"Any\",\"default\":\"\"},{\"name\":\"debug_name\",\"kind\":\"Any\",\"default\":\"\"},{\"name\":\"clears\",\"kind\":\"Any\",\"default\":0}]},{\"type\":\"model\",\"name\":\"FastWrapper1\",\"properties\":[{\"name\":\"object\",\"kind\":\"Any\",\"default\":null},{\"name\":\"style\",\"kind\":\"Any\",\"default\":null}]},{\"type\":\"model\",\"name\":\"NotificationAreaBase1\",\"properties\":[{\"name\":\"js_events\",\"kind\":\"Any\",\"default\":{\"type\":\"map\"}},{\"name\":\"position\",\"kind\":\"Any\",\"default\":\"bottom-right\"},{\"name\":\"_clear\",\"kind\":\"Any\",\"default\":0}]},{\"type\":\"model\",\"name\":\"NotificationArea1\",\"properties\":[{\"name\":\"js_events\",\"kind\":\"Any\",\"default\":{\"type\":\"map\"}},{\"name\":\"notifications\",\"kind\":\"Any\",\"default\":[]},{\"name\":\"position\",\"kind\":\"Any\",\"default\":\"bottom-right\"},{\"name\":\"_clear\",\"kind\":\"Any\",\"default\":0},{\"name\":\"types\",\"kind\":\"Any\",\"default\":[{\"type\":\"map\",\"entries\":[[\"type\",\"warning\"],[\"background\",\"#ffc107\"],[\"icon\",{\"type\":\"map\",\"entries\":[[\"className\",\"fas fa-exclamation-triangle\"],[\"tagName\",\"i\"],[\"color\",\"white\"]]}]]},{\"type\":\"map\",\"entries\":[[\"type\",\"info\"],[\"background\",\"#007bff\"],[\"icon\",{\"type\":\"map\",\"entries\":[[\"className\",\"fas fa-info-circle\"],[\"tagName\",\"i\"],[\"color\",\"white\"]]}]]}]}]},{\"type\":\"model\",\"name\":\"Notification\",\"properties\":[{\"name\":\"background\",\"kind\":\"Any\",\"default\":null},{\"name\":\"duration\",\"kind\":\"Any\",\"default\":3000},{\"name\":\"icon\",\"kind\":\"Any\",\"default\":null},{\"name\":\"message\",\"kind\":\"Any\",\"default\":\"\"},{\"name\":\"notification_type\",\"kind\":\"Any\",\"default\":null},{\"name\":\"_destroyed\",\"kind\":\"Any\",\"default\":false}]},{\"type\":\"model\",\"name\":\"TemplateActions1\",\"properties\":[{\"name\":\"open_modal\",\"kind\":\"Any\",\"default\":0},{\"name\":\"close_modal\",\"kind\":\"Any\",\"default\":0}]},{\"type\":\"model\",\"name\":\"BootstrapTemplateActions1\",\"properties\":[{\"name\":\"open_modal\",\"kind\":\"Any\",\"default\":0},{\"name\":\"close_modal\",\"kind\":\"Any\",\"default\":0}]},{\"type\":\"model\",\"name\":\"TemplateEditor1\",\"properties\":[{\"name\":\"layout\",\"kind\":\"Any\",\"default\":[]}]},{\"type\":\"model\",\"name\":\"MaterialTemplateActions1\",\"properties\":[{\"name\":\"open_modal\",\"kind\":\"Any\",\"default\":0},{\"name\":\"close_modal\",\"kind\":\"Any\",\"default\":0}]},{\"type\":\"model\",\"name\":\"copy_to_clipboard1\",\"properties\":[{\"name\":\"fill\",\"kind\":\"Any\",\"default\":\"none\"},{\"name\":\"value\",\"kind\":\"Any\",\"default\":null}]}]}};\n  const render_items = [{\"docid\":\"c48a09c2-f868-4ee3-9426-115785ac55d7\",\"roots\":{\"7bc795c8-2b38-4b2d-bbba-d749dbf3ea24\":\"eb15fd04-76a7-4e7c-b93e-49f8c5b5fcf8\"},\"root_ids\":[\"7bc795c8-2b38-4b2d-bbba-d749dbf3ea24\"]}];\n  void root.Bokeh.embed.embed_items_notebook(docs_json, render_items);\n  }\n  if (root.Bokeh !== undefined) {\n    embed_document(root);\n  } else {\n    let attempts = 0;\n    const timer = setInterval(function(root) {\n      if (root.Bokeh !== undefined) {\n        clearInterval(timer);\n        embed_document(root);\n      } else {\n        attempts++;\n        if (attempts > 100) {\n          clearInterval(timer);\n          console.log(\"Bokeh: ERROR: Unable to run BokehJS code because BokehJS library is missing\");\n        }\n      }\n    }, 10, root)\n  }\n})(window);",
      "application/vnd.bokehjs_exec.v0+json": ""
     },
     "metadata": {
      "application/vnd.bokehjs_exec.v0+json": {
       "id": "7bc795c8-2b38-4b2d-bbba-d749dbf3ea24"
      }
     },
     "output_type": "display_data"
    }
   ],
   "source": [
    "from bokeh.layouts import row\n",
    "from bokeh.models import Spacer\n",
    "from bokeh.io import show\n",
    "\n",
    "# Plot results Numpy\n",
    "curve1 = -(w[0] * x_data[:, 0] +  w[2]) / w[1]\n",
    "p1 = scatter(x_data[:, 0], x_data[:, 1], title=\"Ex1.1 - Linear Classification With Numpy\")\n",
    "p1.line(x_data[:, 0], curve1, line_width=6, line_alpha=0.6, color=\"green\", legend_label=r\"Classification curve\")\n",
    "plot1 = (center_plot(p))\n",
    "\n",
    "# Plot results Jax\n",
    "curve2 = -(w1 * x_data[:, 0] +  b) / w2\n",
    "p2 = scatter(x_data[:, 0], x_data[:, 1], title=\"Ex1.2 - Linear Classification With Jax\")\n",
    "p2.line(x_data[:, 0], curve2, line_width=6, line_alpha=0.6, color=\"green\", legend_label=r\"Classification curve\")\n",
    "plot2 = (center_plot(p))\n",
    "\n",
    "spacer = Spacer(width=20, height=600)\n",
    "double_plot = row(p1, spacer, p2)\n",
    "show(double_plot)"
   ]
  },
  {
   "cell_type": "code",
   "execution_count": 54,
   "metadata": {},
   "outputs": [],
   "source": [
    "# Lets increase the number of epochs to see what is the faster\n",
    "epochs = 100000"
   ]
  },
  {
   "cell_type": "code",
   "execution_count": 55,
   "metadata": {},
   "outputs": [
    {
     "name": "stdout",
     "output_type": "stream",
     "text": [
      "CPU times: user 6.01 s, sys: 44.8 ms, total: 6.06 s\n",
      "Wall time: 6.07 s\n"
     ]
    }
   ],
   "source": [
    "%%time\n",
    "# Numpy training loop\n",
    "for i in range(epochs):\n",
    "    y_bar = linear(x, w)\n",
    "    loss = hinge_loss(y_bar, y_classes)\n",
    "    losses.append(loss)\n",
    "    update_weights(x, y_classes, w, lr)"
   ]
  },
  {
   "cell_type": "code",
   "execution_count": 56,
   "metadata": {},
   "outputs": [
    {
     "name": "stdout",
     "output_type": "stream",
     "text": [
      "CPU times: user 4.56 s, sys: 21.5 ms, total: 4.58 s\n",
      "Wall time: 4.59 s\n"
     ]
    }
   ],
   "source": [
    "%%time\n",
    "# Jax training loop\n",
    "for i in range(epochs):\n",
    "    gradients = grad_loss_function(x_j, y_j, w1, w2, b)\n",
    "\n",
    "    w1 -= lr * gradients[0]\n",
    "    w2 -= lr * gradients[1]\n",
    "    b -= lr * gradients[2]"
   ]
  },
  {
   "cell_type": "markdown",
   "metadata": {},
   "source": [
    "The accuracy is 1 for both technics because the loss is 0."
   ]
  },
  {
   "cell_type": "markdown",
   "metadata": {},
   "source": [
    "<div class=\"alert alert-success\" markdown=\"1\" style=\"color:white; background-color: #192841; border-color: #779ecb\">\n",
    "\n",
    "> ### Going further (optional)\n",
    "> Implement a more complex dataset and compare the results of the NumPy and JAX implementations.\n",
    "\n",
    "</div>"
   ]
  },
  {
   "cell_type": "code",
   "execution_count": 57,
   "metadata": {},
   "outputs": [],
   "source": [
    "######################\n",
    "# YOUR CODE GOES HERE\n",
    "######################"
   ]
  },
  {
   "cell_type": "markdown",
   "metadata": {},
   "source": [
    "## Exercise 2 - Polynomial regression"
   ]
  },
  {
   "cell_type": "markdown",
   "metadata": {},
   "source": [
    "<div class=\"alert alert-success\" markdown=\"1\" style=\"color:white; background-color: #013220; border-color: #03C03C\">\n",
    "\n",
    "> In this exercise, you will implement polynomial regression using NumPy and JAX. This should be a quite straightforward extension of what we have seen until now. We deliberately removed details of the implementation (list of points to adress) so that you can start defining your first entire machine learning setup by yourself.\n",
    "\n",
    "</div>"
   ]
  },
  {
   "cell_type": "code",
   "execution_count": 58,
   "metadata": {},
   "outputs": [],
   "source": [
    "from sklearn.datasets import make_regression\n",
    "from cml.plot import center_plot, scatter\n",
    "from sklearn.preprocessing import PolynomialFeatures\n",
    "\n",
    "# The dataset\n",
    "n = 100 # 100 data points\n",
    "X = 6 * np.random.rand(n,1)-4\n",
    "y = -2 * X**3 + 3 * X**2 + 10 * X + 3 + np.random.rand(n,1)\n",
    "\n",
    "X = np.squeeze(X)\n",
    "y = np.squeeze(y)"
   ]
  },
  {
   "cell_type": "code",
   "execution_count": 59,
   "metadata": {},
   "outputs": [
    {
     "name": "stdout",
     "output_type": "stream",
     "text": [
      "Launching server at http://localhost:51125\n"
     ]
    },
    {
     "name": "stderr",
     "output_type": "stream",
     "text": [
      "BokehDeprecationWarning: 'circle() method with size value' was deprecated in Bokeh 3.4.0 and will be removed, use 'scatter(size=...) instead' instead.\n"
     ]
    },
    {
     "data": {
      "text/plain": [
       "<panel.io.server.Server at 0x304384b10>"
      ]
     },
     "execution_count": 59,
     "metadata": {},
     "output_type": "execute_result"
    },
    {
     "name": "stderr",
     "output_type": "stream",
     "text": [
      "WARNING:tornado.access:404 GET /cml/cml.css (::1) 0.16ms\n"
     ]
    }
   ],
   "source": [
    "plot = (center_plot(scatter(X, y, title=\"Simple quadratic problem\", toolbar_location=\"left\")))\n",
    "plot.show()"
   ]
  },
  {
   "cell_type": "code",
   "execution_count": 60,
   "metadata": {},
   "outputs": [
    {
     "data": {
      "text/plain": [
       "((100, 4), (100,))"
      ]
     },
     "execution_count": 60,
     "metadata": {},
     "output_type": "execute_result"
    }
   ],
   "source": [
    "poly_features = PolynomialFeatures(degree=3) # decide the maximal degree of the polynomial feature\n",
    "X_poly = poly_features.fit_transform(X.reshape(-1,1))\n",
    "X_poly.shape, y.shape"
   ]
  },
  {
   "cell_type": "markdown",
   "metadata": {},
   "source": [
    "<div class=\"alert alert-success\" markdown=\"1\" style=\"color:white; background-color: #013220; border-color: #03C03C\">\n",
    "\n",
    "> ### Question 2.1 - Implement polynomial regression using NumPy with gradient descent.\n",
    "\n",
    "</div>"
   ]
  },
  {
   "cell_type": "code",
   "execution_count": 62,
   "metadata": {},
   "outputs": [
    {
     "name": "stdout",
     "output_type": "stream",
     "text": [
      "[ 3.53761836  9.9827244   2.97821008 -2.00485973]\n"
     ]
    }
   ],
   "source": [
    "lr = 0.000001\n",
    "epochs = 100000\n",
    "losses = []\n",
    "# 2. Initialize w = (b, w1, w2, w3)\n",
    "w = np.random.rand(4)\n",
    "\n",
    "# 3. Forward pass\n",
    "def poly(X, w):\n",
    "    return np.squeeze(X @ w[np.newaxis].T)\n",
    "# 4. Hinge loss\n",
    "def MSE_loss(y_bar, y):\n",
    "    return np.sum((y - y_bar)**2)\n",
    "# 5 Backward pass\n",
    "def update_weights(X, y, y_bar, w, lr):\n",
    "    dLdb = -2 * np.sum((y - y_bar))\n",
    "    dLdw1 = -2 * np.sum((y - y_bar) * X[:, 1])\n",
    "    dLdw2 = -2 * np.sum((y - y_bar) * X[:, 2])\n",
    "    dLdw3 = -2 * np.sum((y - y_bar) * X[:, 3])\n",
    "\n",
    "    w[0] -= lr * dLdb\n",
    "    w[1] -= lr * dLdw1\n",
    "    w[2] -= lr * dLdw2\n",
    "    w[3] -= lr * dLdw3\n",
    "\n",
    "for i in range(epochs):\n",
    "    y_bar = poly(X_poly, w)\n",
    "    # print(y_bar)\n",
    "    loss = MSE_loss(y_bar, y)\n",
    "    losses.append(loss)\n",
    "    update_weights(X_poly, y, y_bar, w, lr)\n",
    "\n",
    "print(w)"
   ]
  },
  {
   "cell_type": "markdown",
   "metadata": {},
   "source": [
    "<div class=\"alert alert-success\" markdown=\"1\" style=\"color:white; background-color: #013220; border-color: #03C03C\">\n",
    "\n",
    "> ### Question 2.2. Implement polynomial regression using JAX with gradient descent.\n",
    "\n",
    "</div>"
   ]
  },
  {
   "cell_type": "code",
   "execution_count": 63,
   "metadata": {},
   "outputs": [
    {
     "name": "stdout",
     "output_type": "stream",
     "text": [
      "[ 3.530284   9.979906   2.9808898 -2.0040486]\n"
     ]
    }
   ],
   "source": [
    "key = random.PRNGKey(42)\n",
    "\n",
    "# Convert np data to jnp\n",
    "x_j = jnp.array(X_poly)\n",
    "y_j = np.array(y, dtype=\"float32\")\n",
    "\n",
    "lr = 0.000001\n",
    "epochs = 100000\n",
    "\n",
    "losses = []\n",
    "# 2. Initialize w = (b, w1, w2, w3)\n",
    "k_0, k_1, k_2, k_3 = random.split(key, 4)\n",
    "b = random.normal(k_0, (1,))\n",
    "w1 = random.normal(k_1, (1,))\n",
    "w2 = random.normal(k_2, (1,))\n",
    "w3 = random.normal(k_3, (1,))\n",
    "\n",
    "# 3. Forward pass\n",
    "def poly(X, w):\n",
    "    return np.squeeze(X @ w[np.newaxis].T)\n",
    "\n",
    "# 4. Creating a loss funcion\n",
    "def MSE_loss_j(X, y, b, w1, w2, w3):\n",
    "    w = jnp.concatenate([b, w1, w2, w3])\n",
    "    y_bar_j = poly(X, w)\n",
    "    return np.sum((y - y_bar_j)**2)\n",
    "grad_loss_function = jit(grad(MSE_loss_j, argnums=[2, 3, 4, 5]))\n",
    "\n",
    "\n",
    "\n",
    "for i in range(epochs):\n",
    "    gradients = grad_loss_function(x_j, y_j, b, w1, w2, w3)\n",
    "\n",
    "    b -= lr * gradients[0]\n",
    "    w1 -= lr * gradients[1]\n",
    "    w2 -= lr * gradients[2]\n",
    "    w3 -= lr * gradients[3]\n",
    "\n",
    "print(jnp.concatenate([b, w1, w2, w3]))"
   ]
  },
  {
   "cell_type": "markdown",
   "metadata": {},
   "source": [
    "<div class=\"alert alert-success\" markdown=\"1\" style=\"color:white; background-color: #013220; border-color: #03C03C\">\n",
    "\n",
    "> ### Question 2.3 - Compare the results of both implementations and the speed of the optimization algorithm.\n",
    "\n",
    "</div>"
   ]
  },
  {
   "cell_type": "code",
   "execution_count": 64,
   "metadata": {},
   "outputs": [
    {
     "name": "stderr",
     "output_type": "stream",
     "text": [
      "BokehDeprecationWarning: 'circle() method with size value' was deprecated in Bokeh 3.4.0 and will be removed, use 'scatter(size=...) instead' instead.\n",
      "BokehDeprecationWarning: 'circle() method with size value' was deprecated in Bokeh 3.4.0 and will be removed, use 'scatter(size=...) instead' instead.\n"
     ]
    },
    {
     "data": {
      "text/html": [
       "\n",
       "  <div id=\"ad8769d2-1a31-4afd-bc20-8d0e01c3a4e5\" data-root-id=\"5b4d1042-8d6f-4697-8185-5bfe0b1d192b\" style=\"display: contents;\"></div>\n"
      ]
     },
     "metadata": {},
     "output_type": "display_data"
    },
    {
     "data": {
      "application/javascript": "(function(root) {\n  function embed_document(root) {\n  const docs_json = {\"b70c8d58-a008-414d-804a-3885cc87a81e\":{\"version\":\"3.4.1\",\"title\":\"Bokeh Application\",\"roots\":[{\"type\":\"object\",\"name\":\"Row\",\"id\":\"5b4d1042-8d6f-4697-8185-5bfe0b1d192b\",\"attributes\":{\"children\":[{\"type\":\"object\",\"name\":\"Figure\",\"id\":\"381696ed-5676-43d7-989e-b14565e4961f\",\"attributes\":{\"height\":450,\"x_range\":{\"type\":\"object\",\"name\":\"DataRange1d\",\"id\":\"87bdaf25-f4f6-494c-9878-9de83cea6e8f\"},\"y_range\":{\"type\":\"object\",\"name\":\"DataRange1d\",\"id\":\"493656d4-26e9-479a-b261-247c400f2f6e\"},\"x_scale\":{\"type\":\"object\",\"name\":\"LinearScale\",\"id\":\"f4a777a2-1819-4363-a798-7638eab4b440\"},\"y_scale\":{\"type\":\"object\",\"name\":\"LinearScale\",\"id\":\"e67b32e7-b1e4-4534-b1d3-4ce27845dbd9\"},\"title\":{\"type\":\"object\",\"name\":\"Title\",\"id\":\"00a9a71b-c6f4-4211-aedb-49353f13e1d9\",\"attributes\":{\"text\":\"Ex2.1 - Polynomial Regeression With Numpy\",\"text_color\":\"#E0E0E0\",\"text_font\":\"Josefin Sans\",\"text_font_size\":\"2.1em\"}},\"outline_line_color\":\"#E0E0E0\",\"outline_line_alpha\":0.25,\"outline_line_width\":3,\"renderers\":[{\"type\":\"object\",\"name\":\"GlyphRenderer\",\"id\":\"074ad593-6a62-4c98-abe3-057ebdc93e77\",\"attributes\":{\"data_source\":{\"type\":\"object\",\"name\":\"ColumnDataSource\",\"id\":\"315dea40-a6a0-4592-a5fc-a25b06788f06\",\"attributes\":{\"selected\":{\"type\":\"object\",\"name\":\"Selection\",\"id\":\"735f4b69-b19d-404c-acb3-95cae0d62197\",\"attributes\":{\"indices\":[],\"line_indices\":[]}},\"selection_policy\":{\"type\":\"object\",\"name\":\"UnionRenderers\",\"id\":\"45703721-7ae9-4e59-a477-ad4f54f088c9\"},\"data\":{\"type\":\"map\",\"entries\":[[\"x\",{\"type\":\"ndarray\",\"array\":{\"type\":\"bytes\",\"data\":\"sFyiVCg54L+AEU73k8v+v7AnalyFkdG/7LDiAOzNDcBcvOF346rzPyDVHAR3dP0/4PtZZSQD/T+AYhUPxt3fPwsCbxKAwQnA6Ok0ESeW4T/AMps/4NEOwPgnElMl8A7AHN3ERXp3AMDGsCzeGhfxv+hpD74Q6+M/wJkywKyKuT/cvRe+fjH1v9BSMO+s3QLAmOZU61S5/z+sD8YWKxb3vxzev2W2qvS/sn3W9mMlCMAIddKbeproP6DZpJx5v8Q/Vtf12C5nBcC58VyjswsMwECZK6w2P7U/wJ3I5rersr8oq8raL+ICwCAQj0NsSPs/b+vP9cy/CMDUiTmf8H72vywP6gpOlvo/mDC2Dci097/g8WfDsJzFv7L94Fa41Pm/DqFYj3HWAsAEUb4TPHb+P6itJhw1tPi/KG2xzGHV9T/1ZIZbUfYEwJU/zJBexQXAOpDKpGyBDsDADbx2LQq3vyw7P7kYn/y/NIyo5Xf68j9YMHuxZJLyv/Az6VlS8vw/ah3HMEMYB8CsDhhxSGPzPzATsNtJG+U/YH7julkE5D+oP12CZBnxP1C+bejZHeI/gOWBMxMQz79zKDxQQ7MJwHxrh3xRcA7A0DGct8Fm+D/YFBm3zjTTvzAgF6Nm7+g/QDf8TxvG8b8m+GhYhF4KwGQtW4y3/QnAgBWHbz0HvT9ojkxlzbD2vwOSpcDzXwbAtvERipLO8L8gRBcmAOsMwJiDLRDxQuC/x1p16psWA8A43mX6nyHpP0gJGLJFGgHAAH00doJM9L9mYDbxNHEPwJLR6svFhQzAsOJADxRS+r/cuE3wBe3xv+hxWX2Ul9m/cN8O3AwAAsAAfa2o/77FP1yJbjdekvI/QKPJXTy75T9uf6fzKRkOwFKTAq8P3/G/HN0fM572CsBiHGI3wGEEwJDR2Uo4uP4/jsnjxwMpCcCEMzYiUxvwv3A555XRoNK/ALQ3oTt+yz+sdGHdJYzkv1xCWpLvhw/AxMSQhXFUAMCwnS3zb5nsv7httORLyAvApogCF/5W/r/iiw0NAGgOwMlq2mttOgzAbIYirDbl+b8=\"},\"shape\":[100],\"dtype\":\"float64\",\"order\":\"little\"}],[\"y\",{\"type\":\"ndarray\",\"array\":{\"type\":\"bytes\",\"data\":\"pqCbucL47L9o09MLUWMjQNK5bFOmY/M/NipfmZvmW0DW3fxlhk8wQNqhsAcVRDNAu8lZLV8tM0DGQJBdjTkiQJ4fXfM3VlFAry3wMPgzIkBmXkuhjxJfQN3Mlcv5Ol9AxpZx+RY4KkBujXBkuMvxv66cgHYCjSVAJjlbbHD1EkBCV0saMevdPxKA4puxqzZAQevI3b7YM0BHcH7E1ffsP+YxKAt4yNI/WshpouDXS0BcbPpulr0oQKzBCZAAkxRAh4CjGrVUQkC7jg3Io+BWQP4hO8sDUxJAuv4pScnzAkBwlsZDbHk2QPznAQQRGzNACMRxdW8TTkBillExKNH0P8JOG0928TJA/+NX+LcAAkAiHnwrzuX7P0epEJtwLgpAnRUuyhj9NkCle2X/AsUzQDe3MUuFkgRAWXFf66G0MUBPJFj+HAxBQIQscsEwRUNAUbR+oSAYXkBu9WV38s0IQGLSV46lPRtAmXXLymvjL0Ba+Y6tAD3ov2+z9RXXIzNAtYqIXvyjR0DExkrpuTgwQFZDzKtQlCVAURxdJ6idJUA/nEdSeMwuQLwXespsASRA6JW1vXpD8z98IuzrZR9RQIk2182zul1AOi+/pS8fM0DQ5gmgQEHXP1unR3eyESlAZEYtvENh8b/haiIPZqxSQPvYARU431FAuYxUP/6fEkAKHH3ZQOD2P5c7utTjk0VA/oaHYKxE979KlODQrjJZQFzLJFK18Ny/KR0mBsNMOED6JJ/QO+QnQMzfZb9N/i5AgEo1HIhAwr/87vlZNoZgQC6p/LVAEFhA9GxYvz0mEUApMpqPWuzmv4Cd6EFfEsu/6IqlFwa1MkAEZ5Q7Bf0WQEsXDT2vZy9AxsMXMiPOJkAn9kqe7rVcQAwv/j7XR/a/72aTZ3c0VEBq/6BV2oM+QHrGBAZGnjNAbDiyJDvmT0DShaAX+0r2v1KKsCWQzeE/tCaQyVihFkCQNTnNwu3lv3jNdUfbnGBAaqqVkUKCKUD4pOagGZz8v6NmyTmLP1ZARP4EjEYvIUBB9l1fI8ddQM5fNqGUWFdAnCpDSrIbC0A=\"},\"shape\":[100],\"dtype\":\"float64\",\"order\":\"little\"}]]}}},\"view\":{\"type\":\"object\",\"name\":\"CDSView\",\"id\":\"7087e35a-2bc8-4476-9e08-7b94594cc7b3\",\"attributes\":{\"filter\":{\"type\":\"object\",\"name\":\"AllIndices\",\"id\":\"569a3f50-9856-40e7-bef3-2de7c13fdd84\"}}},\"glyph\":{\"type\":\"object\",\"name\":\"Scatter\",\"id\":\"6d55e2e3-383a-44e1-8159-1c2ad750e266\",\"attributes\":{\"x\":{\"type\":\"field\",\"field\":\"x\"},\"y\":{\"type\":\"field\",\"field\":\"y\"},\"size\":{\"type\":\"value\",\"value\":10},\"line_color\":{\"type\":\"value\",\"value\":\"white\"},\"line_alpha\":{\"type\":\"value\",\"value\":0.25},\"fill_color\":{\"type\":\"value\",\"value\":\"midnightblue\"},\"fill_alpha\":{\"type\":\"value\",\"value\":0.25},\"hatch_alpha\":{\"type\":\"value\",\"value\":0.25}}},\"selection_glyph\":{\"type\":\"object\",\"name\":\"Circle\",\"id\":\"401f55e1-d59b-439f-8d5f-e1aea4210812\",\"attributes\":{\"line_color\":{\"type\":\"value\",\"value\":\"white\"},\"fill_color\":{\"type\":\"value\",\"value\":\"red\"},\"fill_alpha\":{\"type\":\"value\",\"value\":0.8}}},\"nonselection_glyph\":{\"type\":\"object\",\"name\":\"Circle\",\"id\":\"4e9db1d6-fa8d-453d-bbfe-11edb5308a5b\",\"attributes\":{\"line_color\":{\"type\":\"value\",\"value\":\"white\"},\"fill_color\":{\"type\":\"value\",\"value\":\"midnightblue\"},\"fill_alpha\":{\"type\":\"value\",\"value\":0.5}}},\"hover_glyph\":{\"type\":\"object\",\"name\":\"Scatter\",\"id\":\"0931d149-f62a-4e63-9fcb-0fff746c5b7a\",\"attributes\":{\"x\":{\"type\":\"field\",\"field\":\"x\"},\"y\":{\"type\":\"field\",\"field\":\"y\"},\"size\":{\"type\":\"value\",\"value\":10},\"line_color\":{\"type\":\"value\",\"value\":\"white\"},\"line_alpha\":{\"type\":\"value\",\"value\":0.5},\"fill_color\":{\"type\":\"value\",\"value\":\"red\"},\"fill_alpha\":{\"type\":\"value\",\"value\":0.5},\"hatch_alpha\":{\"type\":\"value\",\"value\":0.5}}},\"muted_glyph\":{\"type\":\"object\",\"name\":\"Scatter\",\"id\":\"c784fb55-3b3f-4f37-8ace-c63ffd3f8a38\",\"attributes\":{\"x\":{\"type\":\"field\",\"field\":\"x\"},\"y\":{\"type\":\"field\",\"field\":\"y\"},\"size\":{\"type\":\"value\",\"value\":10},\"line_color\":{\"type\":\"value\",\"value\":\"white\"},\"line_alpha\":{\"type\":\"value\",\"value\":0.2},\"fill_color\":{\"type\":\"value\",\"value\":\"midnightblue\"},\"fill_alpha\":{\"type\":\"value\",\"value\":0.2},\"hatch_alpha\":{\"type\":\"value\",\"value\":0.2}}}}},{\"type\":\"object\",\"name\":\"GlyphRenderer\",\"id\":\"6761cf95-669d-4def-8b75-29bd3c1e1d9d\",\"attributes\":{\"data_source\":{\"type\":\"object\",\"name\":\"ColumnDataSource\",\"id\":\"26e65a13-5a4d-46ea-89e1-c0589fe587e1\",\"attributes\":{\"selected\":{\"type\":\"object\",\"name\":\"Selection\",\"id\":\"aca036ad-2fd1-43fc-a945-e69df735f4d6\",\"attributes\":{\"indices\":[],\"line_indices\":[]}},\"selection_policy\":{\"type\":\"object\",\"name\":\"UnionRenderers\",\"id\":\"c5b03433-b3da-4505-8774-ece589448c68\"},\"data\":{\"type\":\"map\",\"entries\":[[\"x\",{\"type\":\"ndarray\",\"array\":{\"type\":\"bytes\",\"data\":\"sFyiVCg54L+AEU73k8v+v7AnalyFkdG/7LDiAOzNDcBcvOF346rzPyDVHAR3dP0/4PtZZSQD/T+AYhUPxt3fPwsCbxKAwQnA6Ok0ESeW4T/AMps/4NEOwPgnElMl8A7AHN3ERXp3AMDGsCzeGhfxv+hpD74Q6+M/wJkywKyKuT/cvRe+fjH1v9BSMO+s3QLAmOZU61S5/z+sD8YWKxb3vxzev2W2qvS/sn3W9mMlCMAIddKbeproP6DZpJx5v8Q/Vtf12C5nBcC58VyjswsMwECZK6w2P7U/wJ3I5rersr8oq8raL+ICwCAQj0NsSPs/b+vP9cy/CMDUiTmf8H72vywP6gpOlvo/mDC2Dci097/g8WfDsJzFv7L94Fa41Pm/DqFYj3HWAsAEUb4TPHb+P6itJhw1tPi/KG2xzGHV9T/1ZIZbUfYEwJU/zJBexQXAOpDKpGyBDsDADbx2LQq3vyw7P7kYn/y/NIyo5Xf68j9YMHuxZJLyv/Az6VlS8vw/ah3HMEMYB8CsDhhxSGPzPzATsNtJG+U/YH7julkE5D+oP12CZBnxP1C+bejZHeI/gOWBMxMQz79zKDxQQ7MJwHxrh3xRcA7A0DGct8Fm+D/YFBm3zjTTvzAgF6Nm7+g/QDf8TxvG8b8m+GhYhF4KwGQtW4y3/QnAgBWHbz0HvT9ojkxlzbD2vwOSpcDzXwbAtvERipLO8L8gRBcmAOsMwJiDLRDxQuC/x1p16psWA8A43mX6nyHpP0gJGLJFGgHAAH00doJM9L9mYDbxNHEPwJLR6svFhQzAsOJADxRS+r/cuE3wBe3xv+hxWX2Ul9m/cN8O3AwAAsAAfa2o/77FP1yJbjdekvI/QKPJXTy75T9uf6fzKRkOwFKTAq8P3/G/HN0fM572CsBiHGI3wGEEwJDR2Uo4uP4/jsnjxwMpCcCEMzYiUxvwv3A555XRoNK/ALQ3oTt+yz+sdGHdJYzkv1xCWpLvhw/AxMSQhXFUAMCwnS3zb5nsv7httORLyAvApogCF/5W/r/iiw0NAGgOwMlq2mttOgzAbIYirDbl+b8=\"},\"shape\":[100],\"dtype\":\"float64\",\"order\":\"little\"}],[\"y\",{\"type\":\"ndarray\",\"array\":{\"type\":\"bytes\",\"data\":\"EAU3K3zJ37/Dx8m2bk0jQOTxM+/LAvE/Skevr5/WW0BgqCnCvZUwQG09tVIHgDNAtx0+mHR6M0Bui2vDe/8hQJgnQj/lSlFA/CNZCmouI0Bi3C97ZfpeQKK0Txl3W19A+VG/KNguKkAMQ0mY74v0vwIW/e3n1yRAmTXZR74+EkCAaWwrM4PJP9gLwfMl2jZATinwh2JpM0CAJ3pc7rX1P4DnDaRDObG/zzm6ZfjUS0BcHFN/3R8oQEClB+Pf5hRALTqBTQJFQkApBly6fuFWQBhcrHrDihFAyenzUf+bBkAt0q/yUu82QMKuaGOCRzNA1XH10GRCTkCgNL0DmMXuP5QC0X+DJjNAgPiC0gjk/D9TmgvFdiX/Pw7NZv4w9QxANi0gsUq4NkCIhLK9yYAzQBgIqoIi1ARA7ELTkYGcMUBS5hO8tPJAQOCeQYCpakNAuO2K/PP7XUBVlipxcVEFQCW+dAj3vhpAuDBicRY5MEBwsdfDO9vsv0xUVaFceTNA/ln4hvviR0Al2TxsoHAwQFSO8qZPryVARw/kyNrpJEA07/EyMFIuQKYfg4ZijyNACHC9ovEa9T/ft24jIytRQKpmpGaDxl1AdAufk9iTMkCA7coesafrP6bBkqcxWihAsF6UBa4N8r/qhza3XbJSQPhCEou/0lFAostGg93REkD4cBlsa2rxP/he/DxkY0VAHE0ZjAlr9b9WtCei1kNZQPDHJ1CsGeC/UgJHh4XoN0AyLogxmnwoQAVnRFXWyi5AgBB/RrKwzr8EhKuzzIBgQKmBewKNKlhAd2P5TaFmEECQCVCWP2zxv0BCQmPTOMM/e0Ojlrn9MkAP5inDKD0VQDTxgUOMADBANl04jQUgJkDmfBo80blcQGRR/CX9pvG/hP3RWPAeVECmdmBOHpc+QHFHLUxAfjNAa1N+J8j7T0D09uuThyz3vzDB8j0y4e0/Btkfq4UyF0AI8CLrmdHxvzds5iurpmBAYrG/9wA+KUBoLVMv1S/5v4iiqCJ/MFZATm6JsSb5IUBEGn1enKxdQBiKz9glXldAmmE9qt5zDUA=\"},\"shape\":[100],\"dtype\":\"float64\",\"order\":\"little\"}]]}}},\"view\":{\"type\":\"object\",\"name\":\"CDSView\",\"id\":\"db72cd2e-a665-4058-b3ad-fbbf7c4f55e3\",\"attributes\":{\"filter\":{\"type\":\"object\",\"name\":\"AllIndices\",\"id\":\"759e9fef-aab8-4bc4-b403-9c74d696984c\"}}},\"glyph\":{\"type\":\"object\",\"name\":\"Scatter\",\"id\":\"2c84222e-4871-477b-8ccf-2007cbe01e71\",\"attributes\":{\"x\":{\"type\":\"field\",\"field\":\"x\"},\"y\":{\"type\":\"field\",\"field\":\"y\"},\"line_color\":{\"type\":\"value\",\"value\":\"green\"},\"line_alpha\":{\"type\":\"value\",\"value\":0.6},\"line_width\":{\"type\":\"value\",\"value\":6},\"fill_color\":{\"type\":\"value\",\"value\":\"green\"},\"hatch_color\":{\"type\":\"value\",\"value\":\"green\"}}},\"nonselection_glyph\":{\"type\":\"object\",\"name\":\"Scatter\",\"id\":\"0d31467f-6fbc-48c4-a134-d7f721d4478b\",\"attributes\":{\"x\":{\"type\":\"field\",\"field\":\"x\"},\"y\":{\"type\":\"field\",\"field\":\"y\"},\"line_color\":{\"type\":\"value\",\"value\":\"green\"},\"line_alpha\":{\"type\":\"value\",\"value\":0.1},\"line_width\":{\"type\":\"value\",\"value\":6},\"fill_color\":{\"type\":\"value\",\"value\":\"green\"},\"fill_alpha\":{\"type\":\"value\",\"value\":0.1},\"hatch_color\":{\"type\":\"value\",\"value\":\"green\"},\"hatch_alpha\":{\"type\":\"value\",\"value\":0.1}}},\"muted_glyph\":{\"type\":\"object\",\"name\":\"Scatter\",\"id\":\"84e34f25-87af-4057-a3c4-754f1de39551\",\"attributes\":{\"x\":{\"type\":\"field\",\"field\":\"x\"},\"y\":{\"type\":\"field\",\"field\":\"y\"},\"line_color\":{\"type\":\"value\",\"value\":\"green\"},\"line_alpha\":{\"type\":\"value\",\"value\":0.2},\"line_width\":{\"type\":\"value\",\"value\":6},\"fill_color\":{\"type\":\"value\",\"value\":\"green\"},\"fill_alpha\":{\"type\":\"value\",\"value\":0.2},\"hatch_color\":{\"type\":\"value\",\"value\":\"green\"},\"hatch_alpha\":{\"type\":\"value\",\"value\":0.2}}}}}],\"toolbar\":{\"type\":\"object\",\"name\":\"Toolbar\",\"id\":\"0d30bbe6-df5c-437a-8611-16e84018c29c\",\"attributes\":{\"tools\":[{\"type\":\"object\",\"name\":\"PanTool\",\"id\":\"29fc2152-6996-4bd2-8463-cbcdd7146a00\"},{\"type\":\"object\",\"name\":\"WheelZoomTool\",\"id\":\"ed028b71-b774-46f1-a1d1-264d737a4db4\",\"attributes\":{\"renderers\":\"auto\"}},{\"type\":\"object\",\"name\":\"BoxZoomTool\",\"id\":\"95d95827-16b9-4c00-8e0c-699e95af9b70\",\"attributes\":{\"overlay\":{\"type\":\"object\",\"name\":\"BoxAnnotation\",\"id\":\"381ab281-8831-4ceb-b5a1-476fea9c110c\",\"attributes\":{\"syncable\":false,\"level\":\"overlay\",\"visible\":false,\"left\":{\"type\":\"number\",\"value\":\"nan\"},\"right\":{\"type\":\"number\",\"value\":\"nan\"},\"top\":{\"type\":\"number\",\"value\":\"nan\"},\"bottom\":{\"type\":\"number\",\"value\":\"nan\"},\"left_units\":\"canvas\",\"right_units\":\"canvas\",\"top_units\":\"canvas\",\"bottom_units\":\"canvas\",\"line_color\":\"black\",\"line_alpha\":1.0,\"line_width\":2,\"line_dash\":[4,4],\"fill_color\":\"lightgrey\",\"fill_alpha\":0.5}}}},{\"type\":\"object\",\"name\":\"SaveTool\",\"id\":\"35ae63ee-4a63-4f70-9ad5-547a8c44443a\"},{\"type\":\"object\",\"name\":\"ResetTool\",\"id\":\"6eab6c7b-b4ed-4712-9632-4f29b0387af9\"},{\"type\":\"object\",\"name\":\"HelpTool\",\"id\":\"1e81ee43-06a8-4ac9-b6a4-c63ae27666b7\"},{\"type\":\"object\",\"name\":\"HoverTool\",\"id\":\"a8e4ea02-f4e9-4f8c-9d5d-914bf2771297\",\"attributes\":{\"renderers\":[{\"id\":\"074ad593-6a62-4c98-abe3-057ebdc93e77\"}],\"tooltips\":null,\"mode\":\"vline\"}},{\"type\":\"object\",\"name\":\"BoxSelectTool\",\"id\":\"f2ebc4aa-bc98-4ef7-85e5-c8ad2b5dbb13\",\"attributes\":{\"renderers\":[{\"id\":\"074ad593-6a62-4c98-abe3-057ebdc93e77\"}],\"mode\":\"append\",\"overlay\":{\"type\":\"object\",\"name\":\"BoxAnnotation\",\"id\":\"ef2ca19e-ed42-4fbe-bad5-bb11e87c2646\",\"attributes\":{\"syncable\":false,\"level\":\"overlay\",\"visible\":false,\"left\":{\"type\":\"number\",\"value\":\"nan\"},\"right\":{\"type\":\"number\",\"value\":\"nan\"},\"top\":{\"type\":\"number\",\"value\":\"nan\"},\"bottom\":{\"type\":\"number\",\"value\":\"nan\"},\"editable\":true,\"line_color\":\"black\",\"line_alpha\":1.0,\"line_width\":2,\"line_dash\":[4,4],\"fill_color\":\"lightgrey\",\"fill_alpha\":0.5}}}}]}},\"toolbar_location\":null,\"left\":[{\"type\":\"object\",\"name\":\"LinearAxis\",\"id\":\"2820a86f-ce64-43da-979f-40454efa4ac0\",\"attributes\":{\"ticker\":{\"type\":\"object\",\"name\":\"BasicTicker\",\"id\":\"80af89d5-bb8c-46bd-a7a1-1d63d8d5832a\",\"attributes\":{\"mantissas\":[1,2,5]}},\"formatter\":{\"type\":\"object\",\"name\":\"BasicTickFormatter\",\"id\":\"ef9443e3-c6e4-4d04-aeb6-3993090d86b4\"},\"axis_label\":\"y\",\"axis_label_standoff\":10,\"axis_label_text_color\":\"#FFFFFF\",\"axis_label_text_font\":\"Josefin Sans\",\"axis_label_text_font_size\":\"1.9em\",\"axis_label_text_font_style\":\"bold\",\"major_label_policy\":{\"type\":\"object\",\"name\":\"AllLabels\",\"id\":\"e6c9ae9f-0838-4923-8b30-5a08d09008ab\"},\"major_label_text_color\":\"#E0E0E0\",\"major_label_text_font\":\"Josefin Sans\",\"major_label_text_font_size\":\"1.15em\",\"axis_line_color\":\"#E0E0E0\",\"axis_line_alpha\":0.4,\"major_tick_line_color\":\"#E0E0E0\",\"major_tick_line_alpha\":0.4,\"minor_tick_line_color\":\"#E0E0E0\",\"minor_tick_line_alpha\":0.4}}],\"below\":[{\"type\":\"object\",\"name\":\"LinearAxis\",\"id\":\"caa61cd9-6606-4266-8904-e06ca9d5b552\",\"attributes\":{\"ticker\":{\"type\":\"object\",\"name\":\"BasicTicker\",\"id\":\"9579c625-dec8-421c-8842-66fa61c33d2b\",\"attributes\":{\"mantissas\":[1,2,5]}},\"formatter\":{\"type\":\"object\",\"name\":\"BasicTickFormatter\",\"id\":\"9eaeb376-2db7-4db1-b294-825a98743c40\"},\"axis_label\":\"x\",\"axis_label_standoff\":10,\"axis_label_text_color\":\"#FFFFFF\",\"axis_label_text_font\":\"Josefin Sans\",\"axis_label_text_font_size\":\"1.9em\",\"axis_label_text_font_style\":\"bold\",\"major_label_policy\":{\"type\":\"object\",\"name\":\"AllLabels\",\"id\":\"7133e824-5bb7-412d-9221-2fe6cddde56d\"},\"major_label_text_color\":\"#E0E0E0\",\"major_label_text_font\":\"Josefin Sans\",\"major_label_text_font_size\":\"1.15em\",\"axis_line_color\":\"#E0E0E0\",\"axis_line_alpha\":0.4,\"major_tick_line_color\":\"#E0E0E0\",\"major_tick_line_alpha\":0.4,\"minor_tick_line_color\":\"#E0E0E0\",\"minor_tick_line_alpha\":0.4}}],\"center\":[{\"type\":\"object\",\"name\":\"Grid\",\"id\":\"590960c4-e8ee-47b3-a3d8-c89134e2b4b5\",\"attributes\":{\"axis\":{\"id\":\"caa61cd9-6606-4266-8904-e06ca9d5b552\"},\"grid_line_color\":\"#E0E0E0\",\"grid_line_alpha\":0.15}},{\"type\":\"object\",\"name\":\"Grid\",\"id\":\"8351b80d-d226-4048-8e77-43d8b80ce0ac\",\"attributes\":{\"dimension\":1,\"axis\":{\"id\":\"2820a86f-ce64-43da-979f-40454efa4ac0\"},\"grid_line_color\":\"#E0E0E0\",\"grid_line_alpha\":0.15}},{\"type\":\"object\",\"name\":\"Legend\",\"id\":\"2986d58e-230a-4cf7-a8ba-b0cc9dc7f446\",\"attributes\":{\"border_line_alpha\":0.25,\"background_fill_color\":\"#505050\",\"background_fill_alpha\":0.25,\"label_text_color\":\"#E0E0E0\",\"label_text_font\":\"Josefin Sans\",\"label_text_font_size\":\"1.15em\",\"label_standoff\":8,\"glyph_width\":15,\"spacing\":8,\"items\":[{\"type\":\"object\",\"name\":\"LegendItem\",\"id\":\"a6dc0d14-639d-4923-a2f1-d0dc636af11a\",\"attributes\":{\"label\":{\"type\":\"value\",\"value\":\"Observations\"},\"renderers\":[{\"id\":\"074ad593-6a62-4c98-abe3-057ebdc93e77\"}]}},{\"type\":\"object\",\"name\":\"LegendItem\",\"id\":\"ea0d27e5-42d1-4477-9ad5-0ea01bfbfd8f\",\"attributes\":{\"label\":{\"type\":\"value\",\"value\":\"Regression curve\"},\"renderers\":[{\"id\":\"6761cf95-669d-4def-8b75-29bd3c1e1d9d\"}]}}]}}],\"background_fill_color\":\"#0f0f0f\",\"background_fill_alpha\":0.9,\"border_fill_color\":\"#111111\",\"border_fill_alpha\":0.8}},{\"type\":\"object\",\"name\":\"Spacer\",\"id\":\"f6ff0020-ce59-40d3-9d66-9b3fab7d596a\",\"attributes\":{\"width\":20,\"height\":600}},{\"type\":\"object\",\"name\":\"Figure\",\"id\":\"ebb45dfd-6c64-462c-a4b3-0657b97c44de\",\"attributes\":{\"height\":450,\"x_range\":{\"type\":\"object\",\"name\":\"DataRange1d\",\"id\":\"6d560e6e-cfe5-4ba0-be53-60e99fd03878\"},\"y_range\":{\"type\":\"object\",\"name\":\"DataRange1d\",\"id\":\"e9b48865-1161-4053-a09a-0a0d415f4647\"},\"x_scale\":{\"type\":\"object\",\"name\":\"LinearScale\",\"id\":\"e5dbf9e6-73de-41f0-bc67-82706b1c6342\"},\"y_scale\":{\"type\":\"object\",\"name\":\"LinearScale\",\"id\":\"db54daf8-8222-4a75-af8b-3c4738131fee\"},\"title\":{\"type\":\"object\",\"name\":\"Title\",\"id\":\"2cf1cc20-aa69-460a-a2a2-05b08f41f42e\",\"attributes\":{\"text\":\"Ex2.2 - Polynomial Regeression With Jax\",\"text_color\":\"#E0E0E0\",\"text_font\":\"Josefin Sans\",\"text_font_size\":\"2.1em\"}},\"outline_line_color\":\"#E0E0E0\",\"outline_line_alpha\":0.25,\"outline_line_width\":3,\"renderers\":[{\"type\":\"object\",\"name\":\"GlyphRenderer\",\"id\":\"e2c9b0f4-9059-4113-8c17-9d2b82dfc382\",\"attributes\":{\"data_source\":{\"type\":\"object\",\"name\":\"ColumnDataSource\",\"id\":\"d110336e-a9d8-4da4-9e41-0e98716a7bc6\",\"attributes\":{\"selected\":{\"type\":\"object\",\"name\":\"Selection\",\"id\":\"554c07fa-00f7-41c3-83e0-f3d7813f7d9c\",\"attributes\":{\"indices\":[],\"line_indices\":[]}},\"selection_policy\":{\"type\":\"object\",\"name\":\"UnionRenderers\",\"id\":\"ab6bb7c5-5e41-4c5b-b615-8ea07c54ff48\"},\"data\":{\"type\":\"map\",\"entries\":[[\"x\",{\"type\":\"ndarray\",\"array\":{\"type\":\"bytes\",\"data\":\"sFyiVCg54L+AEU73k8v+v7AnalyFkdG/7LDiAOzNDcBcvOF346rzPyDVHAR3dP0/4PtZZSQD/T+AYhUPxt3fPwsCbxKAwQnA6Ok0ESeW4T/AMps/4NEOwPgnElMl8A7AHN3ERXp3AMDGsCzeGhfxv+hpD74Q6+M/wJkywKyKuT/cvRe+fjH1v9BSMO+s3QLAmOZU61S5/z+sD8YWKxb3vxzev2W2qvS/sn3W9mMlCMAIddKbeproP6DZpJx5v8Q/Vtf12C5nBcC58VyjswsMwECZK6w2P7U/wJ3I5rersr8oq8raL+ICwCAQj0NsSPs/b+vP9cy/CMDUiTmf8H72vywP6gpOlvo/mDC2Dci097/g8WfDsJzFv7L94Fa41Pm/DqFYj3HWAsAEUb4TPHb+P6itJhw1tPi/KG2xzGHV9T/1ZIZbUfYEwJU/zJBexQXAOpDKpGyBDsDADbx2LQq3vyw7P7kYn/y/NIyo5Xf68j9YMHuxZJLyv/Az6VlS8vw/ah3HMEMYB8CsDhhxSGPzPzATsNtJG+U/YH7julkE5D+oP12CZBnxP1C+bejZHeI/gOWBMxMQz79zKDxQQ7MJwHxrh3xRcA7A0DGct8Fm+D/YFBm3zjTTvzAgF6Nm7+g/QDf8TxvG8b8m+GhYhF4KwGQtW4y3/QnAgBWHbz0HvT9ojkxlzbD2vwOSpcDzXwbAtvERipLO8L8gRBcmAOsMwJiDLRDxQuC/x1p16psWA8A43mX6nyHpP0gJGLJFGgHAAH00doJM9L9mYDbxNHEPwJLR6svFhQzAsOJADxRS+r/cuE3wBe3xv+hxWX2Ul9m/cN8O3AwAAsAAfa2o/77FP1yJbjdekvI/QKPJXTy75T9uf6fzKRkOwFKTAq8P3/G/HN0fM572CsBiHGI3wGEEwJDR2Uo4uP4/jsnjxwMpCcCEMzYiUxvwv3A555XRoNK/ALQ3oTt+yz+sdGHdJYzkv1xCWpLvhw/AxMSQhXFUAMCwnS3zb5nsv7httORLyAvApogCF/5W/r/iiw0NAGgOwMlq2mttOgzAbIYirDbl+b8=\"},\"shape\":[100],\"dtype\":\"float64\",\"order\":\"little\"}],[\"y\",{\"type\":\"ndarray\",\"array\":{\"type\":\"bytes\",\"data\":\"pqCbucL47L9o09MLUWMjQNK5bFOmY/M/NipfmZvmW0DW3fxlhk8wQNqhsAcVRDNAu8lZLV8tM0DGQJBdjTkiQJ4fXfM3VlFAry3wMPgzIkBmXkuhjxJfQN3Mlcv5Ol9AxpZx+RY4KkBujXBkuMvxv66cgHYCjSVAJjlbbHD1EkBCV0saMevdPxKA4puxqzZAQevI3b7YM0BHcH7E1ffsP+YxKAt4yNI/WshpouDXS0BcbPpulr0oQKzBCZAAkxRAh4CjGrVUQkC7jg3Io+BWQP4hO8sDUxJAuv4pScnzAkBwlsZDbHk2QPznAQQRGzNACMRxdW8TTkBillExKNH0P8JOG0928TJA/+NX+LcAAkAiHnwrzuX7P0epEJtwLgpAnRUuyhj9NkCle2X/AsUzQDe3MUuFkgRAWXFf66G0MUBPJFj+HAxBQIQscsEwRUNAUbR+oSAYXkBu9WV38s0IQGLSV46lPRtAmXXLymvjL0Ba+Y6tAD3ov2+z9RXXIzNAtYqIXvyjR0DExkrpuTgwQFZDzKtQlCVAURxdJ6idJUA/nEdSeMwuQLwXespsASRA6JW1vXpD8z98IuzrZR9RQIk2182zul1AOi+/pS8fM0DQ5gmgQEHXP1unR3eyESlAZEYtvENh8b/haiIPZqxSQPvYARU431FAuYxUP/6fEkAKHH3ZQOD2P5c7utTjk0VA/oaHYKxE979KlODQrjJZQFzLJFK18Ny/KR0mBsNMOED6JJ/QO+QnQMzfZb9N/i5AgEo1HIhAwr/87vlZNoZgQC6p/LVAEFhA9GxYvz0mEUApMpqPWuzmv4Cd6EFfEsu/6IqlFwa1MkAEZ5Q7Bf0WQEsXDT2vZy9AxsMXMiPOJkAn9kqe7rVcQAwv/j7XR/a/72aTZ3c0VEBq/6BV2oM+QHrGBAZGnjNAbDiyJDvmT0DShaAX+0r2v1KKsCWQzeE/tCaQyVihFkCQNTnNwu3lv3jNdUfbnGBAaqqVkUKCKUD4pOagGZz8v6NmyTmLP1ZARP4EjEYvIUBB9l1fI8ddQM5fNqGUWFdAnCpDSrIbC0A=\"},\"shape\":[100],\"dtype\":\"float64\",\"order\":\"little\"}]]}}},\"view\":{\"type\":\"object\",\"name\":\"CDSView\",\"id\":\"b914d7ea-fd8e-46c0-a99c-6dfc06549104\",\"attributes\":{\"filter\":{\"type\":\"object\",\"name\":\"AllIndices\",\"id\":\"fab69083-61cf-4b4f-9ba0-666afdb97f07\"}}},\"glyph\":{\"type\":\"object\",\"name\":\"Scatter\",\"id\":\"74496251-6450-4c2b-8246-1df73860b270\",\"attributes\":{\"x\":{\"type\":\"field\",\"field\":\"x\"},\"y\":{\"type\":\"field\",\"field\":\"y\"},\"size\":{\"type\":\"value\",\"value\":10},\"line_color\":{\"type\":\"value\",\"value\":\"white\"},\"line_alpha\":{\"type\":\"value\",\"value\":0.25},\"fill_color\":{\"type\":\"value\",\"value\":\"midnightblue\"},\"fill_alpha\":{\"type\":\"value\",\"value\":0.25},\"hatch_alpha\":{\"type\":\"value\",\"value\":0.25}}},\"selection_glyph\":{\"type\":\"object\",\"name\":\"Circle\",\"id\":\"1fc066e2-bd4d-43df-9e5b-a8caac490fce\",\"attributes\":{\"line_color\":{\"type\":\"value\",\"value\":\"white\"},\"fill_color\":{\"type\":\"value\",\"value\":\"red\"},\"fill_alpha\":{\"type\":\"value\",\"value\":0.8}}},\"nonselection_glyph\":{\"type\":\"object\",\"name\":\"Circle\",\"id\":\"f501bf14-c707-43fb-848f-fbf6da8b13a7\",\"attributes\":{\"line_color\":{\"type\":\"value\",\"value\":\"white\"},\"fill_color\":{\"type\":\"value\",\"value\":\"midnightblue\"},\"fill_alpha\":{\"type\":\"value\",\"value\":0.5}}},\"hover_glyph\":{\"type\":\"object\",\"name\":\"Scatter\",\"id\":\"a84f44c4-5775-4fcd-8958-7c88b6202078\",\"attributes\":{\"x\":{\"type\":\"field\",\"field\":\"x\"},\"y\":{\"type\":\"field\",\"field\":\"y\"},\"size\":{\"type\":\"value\",\"value\":10},\"line_color\":{\"type\":\"value\",\"value\":\"white\"},\"line_alpha\":{\"type\":\"value\",\"value\":0.5},\"fill_color\":{\"type\":\"value\",\"value\":\"red\"},\"fill_alpha\":{\"type\":\"value\",\"value\":0.5},\"hatch_alpha\":{\"type\":\"value\",\"value\":0.5}}},\"muted_glyph\":{\"type\":\"object\",\"name\":\"Scatter\",\"id\":\"216c1ac8-e179-411a-aa68-860abc2c82a7\",\"attributes\":{\"x\":{\"type\":\"field\",\"field\":\"x\"},\"y\":{\"type\":\"field\",\"field\":\"y\"},\"size\":{\"type\":\"value\",\"value\":10},\"line_color\":{\"type\":\"value\",\"value\":\"white\"},\"line_alpha\":{\"type\":\"value\",\"value\":0.2},\"fill_color\":{\"type\":\"value\",\"value\":\"midnightblue\"},\"fill_alpha\":{\"type\":\"value\",\"value\":0.2},\"hatch_alpha\":{\"type\":\"value\",\"value\":0.2}}}}},{\"type\":\"object\",\"name\":\"GlyphRenderer\",\"id\":\"540bd942-18f1-42a6-916e-fa60c04cab52\",\"attributes\":{\"data_source\":{\"type\":\"object\",\"name\":\"ColumnDataSource\",\"id\":\"7af4688a-6855-4e5a-93bb-5ca8c36e13bc\",\"attributes\":{\"selected\":{\"type\":\"object\",\"name\":\"Selection\",\"id\":\"7c10cf70-293c-4f18-9d22-882e96a71b41\",\"attributes\":{\"indices\":[],\"line_indices\":[]}},\"selection_policy\":{\"type\":\"object\",\"name\":\"UnionRenderers\",\"id\":\"ec589046-d6d3-4062-9c81-b7a7be99f169\"},\"data\":{\"type\":\"map\",\"entries\":[[\"x\",{\"type\":\"ndarray\",\"array\":{\"type\":\"bytes\",\"data\":\"sFyiVCg54L+AEU73k8v+v7AnalyFkdG/7LDiAOzNDcBcvOF346rzPyDVHAR3dP0/4PtZZSQD/T+AYhUPxt3fPwsCbxKAwQnA6Ok0ESeW4T/AMps/4NEOwPgnElMl8A7AHN3ERXp3AMDGsCzeGhfxv+hpD74Q6+M/wJkywKyKuT/cvRe+fjH1v9BSMO+s3QLAmOZU61S5/z+sD8YWKxb3vxzev2W2qvS/sn3W9mMlCMAIddKbeproP6DZpJx5v8Q/Vtf12C5nBcC58VyjswsMwECZK6w2P7U/wJ3I5rersr8oq8raL+ICwCAQj0NsSPs/b+vP9cy/CMDUiTmf8H72vywP6gpOlvo/mDC2Dci097/g8WfDsJzFv7L94Fa41Pm/DqFYj3HWAsAEUb4TPHb+P6itJhw1tPi/KG2xzGHV9T/1ZIZbUfYEwJU/zJBexQXAOpDKpGyBDsDADbx2LQq3vyw7P7kYn/y/NIyo5Xf68j9YMHuxZJLyv/Az6VlS8vw/ah3HMEMYB8CsDhhxSGPzPzATsNtJG+U/YH7julkE5D+oP12CZBnxP1C+bejZHeI/gOWBMxMQz79zKDxQQ7MJwHxrh3xRcA7A0DGct8Fm+D/YFBm3zjTTvzAgF6Nm7+g/QDf8TxvG8b8m+GhYhF4KwGQtW4y3/QnAgBWHbz0HvT9ojkxlzbD2vwOSpcDzXwbAtvERipLO8L8gRBcmAOsMwJiDLRDxQuC/x1p16psWA8A43mX6nyHpP0gJGLJFGgHAAH00doJM9L9mYDbxNHEPwJLR6svFhQzAsOJADxRS+r/cuE3wBe3xv+hxWX2Ul9m/cN8O3AwAAsAAfa2o/77FP1yJbjdekvI/QKPJXTy75T9uf6fzKRkOwFKTAq8P3/G/HN0fM572CsBiHGI3wGEEwJDR2Uo4uP4/jsnjxwMpCcCEMzYiUxvwv3A555XRoNK/ALQ3oTt+yz+sdGHdJYzkv1xCWpLvhw/AxMSQhXFUAMCwnS3zb5nsv7httORLyAvApogCF/5W/r/iiw0NAGgOwMlq2mttOgzAbIYirDbl+b8=\"},\"shape\":[100],\"dtype\":\"float64\",\"order\":\"little\"}],[\"y\",{\"type\":\"ndarray\",\"array\":{\"type\":\"bytes\",\"data\":\"EAU3K3zJ37/Dx8m2bk0jQOTxM+/LAvE/Skevr5/WW0BgqCnCvZUwQG09tVIHgDNAtx0+mHR6M0Bui2vDe/8hQJgnQj/lSlFA/CNZCmouI0Bi3C97ZfpeQKK0Txl3W19A+VG/KNguKkAMQ0mY74v0vwIW/e3n1yRAmTXZR74+EkCAaWwrM4PJP9gLwfMl2jZATinwh2JpM0CAJ3pc7rX1P4DnDaRDObG/zzm6ZfjUS0BcHFN/3R8oQEClB+Pf5hRALTqBTQJFQkApBly6fuFWQBhcrHrDihFAyenzUf+bBkAt0q/yUu82QMKuaGOCRzNA1XH10GRCTkCgNL0DmMXuP5QC0X+DJjNAgPiC0gjk/D9TmgvFdiX/Pw7NZv4w9QxANi0gsUq4NkCIhLK9yYAzQBgIqoIi1ARA7ELTkYGcMUBS5hO8tPJAQOCeQYCpakNAuO2K/PP7XUBVlipxcVEFQCW+dAj3vhpAuDBicRY5MEBwsdfDO9vsv0xUVaFceTNA/ln4hvviR0Al2TxsoHAwQFSO8qZPryVARw/kyNrpJEA07/EyMFIuQKYfg4ZijyNACHC9ovEa9T/ft24jIytRQKpmpGaDxl1AdAufk9iTMkCA7coesafrP6bBkqcxWihAsF6UBa4N8r/qhza3XbJSQPhCEou/0lFAostGg93REkD4cBlsa2rxP/he/DxkY0VAHE0ZjAlr9b9WtCei1kNZQPDHJ1CsGeC/UgJHh4XoN0AyLogxmnwoQAVnRFXWyi5AgBB/RrKwzr8EhKuzzIBgQKmBewKNKlhAd2P5TaFmEECQCVCWP2zxv0BCQmPTOMM/e0Ojlrn9MkAP5inDKD0VQDTxgUOMADBANl04jQUgJkDmfBo80blcQGRR/CX9pvG/hP3RWPAeVECmdmBOHpc+QHFHLUxAfjNAa1N+J8j7T0D09uuThyz3vzDB8j0y4e0/Btkfq4UyF0AI8CLrmdHxvzds5iurpmBAYrG/9wA+KUBoLVMv1S/5v4iiqCJ/MFZATm6JsSb5IUBEGn1enKxdQBiKz9glXldAmmE9qt5zDUA=\"},\"shape\":[100],\"dtype\":\"float64\",\"order\":\"little\"}]]}}},\"view\":{\"type\":\"object\",\"name\":\"CDSView\",\"id\":\"c29131b5-c2c6-44a9-97bd-6118cc3c58f8\",\"attributes\":{\"filter\":{\"type\":\"object\",\"name\":\"AllIndices\",\"id\":\"667f3b9d-3235-4a49-b15e-bfed193b096a\"}}},\"glyph\":{\"type\":\"object\",\"name\":\"Scatter\",\"id\":\"fc1fa43f-f223-49b7-919c-df5b43a5c9ee\",\"attributes\":{\"x\":{\"type\":\"field\",\"field\":\"x\"},\"y\":{\"type\":\"field\",\"field\":\"y\"},\"line_color\":{\"type\":\"value\",\"value\":\"green\"},\"line_alpha\":{\"type\":\"value\",\"value\":0.6},\"line_width\":{\"type\":\"value\",\"value\":6},\"fill_color\":{\"type\":\"value\",\"value\":\"green\"},\"hatch_color\":{\"type\":\"value\",\"value\":\"green\"}}},\"nonselection_glyph\":{\"type\":\"object\",\"name\":\"Scatter\",\"id\":\"16c43447-97e9-4fc6-a560-94590b054c0f\",\"attributes\":{\"x\":{\"type\":\"field\",\"field\":\"x\"},\"y\":{\"type\":\"field\",\"field\":\"y\"},\"line_color\":{\"type\":\"value\",\"value\":\"green\"},\"line_alpha\":{\"type\":\"value\",\"value\":0.1},\"line_width\":{\"type\":\"value\",\"value\":6},\"fill_color\":{\"type\":\"value\",\"value\":\"green\"},\"fill_alpha\":{\"type\":\"value\",\"value\":0.1},\"hatch_color\":{\"type\":\"value\",\"value\":\"green\"},\"hatch_alpha\":{\"type\":\"value\",\"value\":0.1}}},\"muted_glyph\":{\"type\":\"object\",\"name\":\"Scatter\",\"id\":\"e6d9e292-a64a-46f4-9dd8-76b46b28ae39\",\"attributes\":{\"x\":{\"type\":\"field\",\"field\":\"x\"},\"y\":{\"type\":\"field\",\"field\":\"y\"},\"line_color\":{\"type\":\"value\",\"value\":\"green\"},\"line_alpha\":{\"type\":\"value\",\"value\":0.2},\"line_width\":{\"type\":\"value\",\"value\":6},\"fill_color\":{\"type\":\"value\",\"value\":\"green\"},\"fill_alpha\":{\"type\":\"value\",\"value\":0.2},\"hatch_color\":{\"type\":\"value\",\"value\":\"green\"},\"hatch_alpha\":{\"type\":\"value\",\"value\":0.2}}}}}],\"toolbar\":{\"type\":\"object\",\"name\":\"Toolbar\",\"id\":\"11fd3346-0a63-4b50-bace-18f4f6a90df8\",\"attributes\":{\"tools\":[{\"type\":\"object\",\"name\":\"PanTool\",\"id\":\"182dcb60-fd5f-4505-9697-6c3ca5c18cf9\"},{\"type\":\"object\",\"name\":\"WheelZoomTool\",\"id\":\"23a5e59a-8978-43da-b3fc-13109e09b974\",\"attributes\":{\"renderers\":\"auto\"}},{\"type\":\"object\",\"name\":\"BoxZoomTool\",\"id\":\"150e8929-8ff0-48b3-b412-d4e256f59b6a\",\"attributes\":{\"overlay\":{\"type\":\"object\",\"name\":\"BoxAnnotation\",\"id\":\"8dc5213b-c413-48f3-8ba6-2183c7b2b3e7\",\"attributes\":{\"syncable\":false,\"level\":\"overlay\",\"visible\":false,\"left\":{\"type\":\"number\",\"value\":\"nan\"},\"right\":{\"type\":\"number\",\"value\":\"nan\"},\"top\":{\"type\":\"number\",\"value\":\"nan\"},\"bottom\":{\"type\":\"number\",\"value\":\"nan\"},\"left_units\":\"canvas\",\"right_units\":\"canvas\",\"top_units\":\"canvas\",\"bottom_units\":\"canvas\",\"line_color\":\"black\",\"line_alpha\":1.0,\"line_width\":2,\"line_dash\":[4,4],\"fill_color\":\"lightgrey\",\"fill_alpha\":0.5}}}},{\"type\":\"object\",\"name\":\"SaveTool\",\"id\":\"d6e1c457-ef73-40fc-ac55-818ce42bf758\"},{\"type\":\"object\",\"name\":\"ResetTool\",\"id\":\"d1d636b3-b235-41ee-a067-b9f44e4d0f0f\"},{\"type\":\"object\",\"name\":\"HelpTool\",\"id\":\"566a3f76-59fe-4f0b-9c53-fc5e61ddb7a3\"},{\"type\":\"object\",\"name\":\"HoverTool\",\"id\":\"1bb5572e-ade9-4ca6-8651-b9095c4747e9\",\"attributes\":{\"renderers\":[{\"id\":\"e2c9b0f4-9059-4113-8c17-9d2b82dfc382\"}],\"tooltips\":null,\"mode\":\"vline\"}},{\"type\":\"object\",\"name\":\"BoxSelectTool\",\"id\":\"1d9d9263-2181-4803-9b6c-97ba75e878c1\",\"attributes\":{\"renderers\":[{\"id\":\"e2c9b0f4-9059-4113-8c17-9d2b82dfc382\"}],\"mode\":\"append\",\"overlay\":{\"type\":\"object\",\"name\":\"BoxAnnotation\",\"id\":\"176eef3f-2238-4a66-a033-0f0a57451011\",\"attributes\":{\"syncable\":false,\"level\":\"overlay\",\"visible\":false,\"left\":{\"type\":\"number\",\"value\":\"nan\"},\"right\":{\"type\":\"number\",\"value\":\"nan\"},\"top\":{\"type\":\"number\",\"value\":\"nan\"},\"bottom\":{\"type\":\"number\",\"value\":\"nan\"},\"editable\":true,\"line_color\":\"black\",\"line_alpha\":1.0,\"line_width\":2,\"line_dash\":[4,4],\"fill_color\":\"lightgrey\",\"fill_alpha\":0.5}}}}]}},\"toolbar_location\":null,\"left\":[{\"type\":\"object\",\"name\":\"LinearAxis\",\"id\":\"4ee77896-e0ba-4aa5-8085-04bedd310a9c\",\"attributes\":{\"ticker\":{\"type\":\"object\",\"name\":\"BasicTicker\",\"id\":\"de297af7-60ab-488c-a2eb-e47f02b3d0c9\",\"attributes\":{\"mantissas\":[1,2,5]}},\"formatter\":{\"type\":\"object\",\"name\":\"BasicTickFormatter\",\"id\":\"89b29bd6-1c25-4f40-8ec6-bde0dced367c\"},\"axis_label\":\"y\",\"axis_label_standoff\":10,\"axis_label_text_color\":\"#FFFFFF\",\"axis_label_text_font\":\"Josefin Sans\",\"axis_label_text_font_size\":\"1.9em\",\"axis_label_text_font_style\":\"bold\",\"major_label_policy\":{\"type\":\"object\",\"name\":\"AllLabels\",\"id\":\"17712e5c-c561-40fa-ba82-c4f3ddc307dc\"},\"major_label_text_color\":\"#E0E0E0\",\"major_label_text_font\":\"Josefin Sans\",\"major_label_text_font_size\":\"1.15em\",\"axis_line_color\":\"#E0E0E0\",\"axis_line_alpha\":0.4,\"major_tick_line_color\":\"#E0E0E0\",\"major_tick_line_alpha\":0.4,\"minor_tick_line_color\":\"#E0E0E0\",\"minor_tick_line_alpha\":0.4}}],\"below\":[{\"type\":\"object\",\"name\":\"LinearAxis\",\"id\":\"ccd0d60f-1529-46ce-9b74-b640f4ebdeb7\",\"attributes\":{\"ticker\":{\"type\":\"object\",\"name\":\"BasicTicker\",\"id\":\"3775256a-d5ac-4c12-8f3c-1193254e0b00\",\"attributes\":{\"mantissas\":[1,2,5]}},\"formatter\":{\"type\":\"object\",\"name\":\"BasicTickFormatter\",\"id\":\"8bce75a3-faf7-49b4-9877-d602eff017ba\"},\"axis_label\":\"x\",\"axis_label_standoff\":10,\"axis_label_text_color\":\"#FFFFFF\",\"axis_label_text_font\":\"Josefin Sans\",\"axis_label_text_font_size\":\"1.9em\",\"axis_label_text_font_style\":\"bold\",\"major_label_policy\":{\"type\":\"object\",\"name\":\"AllLabels\",\"id\":\"a895596b-98d8-41a8-925c-e4dcb7c388f0\"},\"major_label_text_color\":\"#E0E0E0\",\"major_label_text_font\":\"Josefin Sans\",\"major_label_text_font_size\":\"1.15em\",\"axis_line_color\":\"#E0E0E0\",\"axis_line_alpha\":0.4,\"major_tick_line_color\":\"#E0E0E0\",\"major_tick_line_alpha\":0.4,\"minor_tick_line_color\":\"#E0E0E0\",\"minor_tick_line_alpha\":0.4}}],\"center\":[{\"type\":\"object\",\"name\":\"Grid\",\"id\":\"26a0182c-aac7-4545-a688-2362629d60aa\",\"attributes\":{\"axis\":{\"id\":\"ccd0d60f-1529-46ce-9b74-b640f4ebdeb7\"},\"grid_line_color\":\"#E0E0E0\",\"grid_line_alpha\":0.15}},{\"type\":\"object\",\"name\":\"Grid\",\"id\":\"960a18c6-7031-4f16-87fc-59e509c94e25\",\"attributes\":{\"dimension\":1,\"axis\":{\"id\":\"4ee77896-e0ba-4aa5-8085-04bedd310a9c\"},\"grid_line_color\":\"#E0E0E0\",\"grid_line_alpha\":0.15}},{\"type\":\"object\",\"name\":\"Legend\",\"id\":\"44096e42-29d1-486a-9cd0-3d75111d99a5\",\"attributes\":{\"border_line_alpha\":0.25,\"background_fill_color\":\"#505050\",\"background_fill_alpha\":0.25,\"label_text_color\":\"#E0E0E0\",\"label_text_font\":\"Josefin Sans\",\"label_text_font_size\":\"1.15em\",\"label_standoff\":8,\"glyph_width\":15,\"spacing\":8,\"items\":[{\"type\":\"object\",\"name\":\"LegendItem\",\"id\":\"3a150d3e-afde-4783-9498-9369a5d40ee9\",\"attributes\":{\"label\":{\"type\":\"value\",\"value\":\"Observations\"},\"renderers\":[{\"id\":\"e2c9b0f4-9059-4113-8c17-9d2b82dfc382\"}]}},{\"type\":\"object\",\"name\":\"LegendItem\",\"id\":\"fe21b320-a7e3-49aa-ab4c-51e8815a97c2\",\"attributes\":{\"label\":{\"type\":\"value\",\"value\":\"Regression curve\"},\"renderers\":[{\"id\":\"540bd942-18f1-42a6-916e-fa60c04cab52\"}]}}]}}],\"background_fill_color\":\"#0f0f0f\",\"background_fill_alpha\":0.9,\"border_fill_color\":\"#111111\",\"border_fill_alpha\":0.8}}]}}],\"defs\":[{\"type\":\"model\",\"name\":\"ReactiveHTML1\"},{\"type\":\"model\",\"name\":\"FlexBox1\",\"properties\":[{\"name\":\"align_content\",\"kind\":\"Any\",\"default\":\"flex-start\"},{\"name\":\"align_items\",\"kind\":\"Any\",\"default\":\"flex-start\"},{\"name\":\"flex_direction\",\"kind\":\"Any\",\"default\":\"row\"},{\"name\":\"flex_wrap\",\"kind\":\"Any\",\"default\":\"wrap\"},{\"name\":\"gap\",\"kind\":\"Any\",\"default\":\"\"},{\"name\":\"justify_content\",\"kind\":\"Any\",\"default\":\"flex-start\"}]},{\"type\":\"model\",\"name\":\"FloatPanel1\",\"properties\":[{\"name\":\"config\",\"kind\":\"Any\",\"default\":{\"type\":\"map\"}},{\"name\":\"contained\",\"kind\":\"Any\",\"default\":true},{\"name\":\"position\",\"kind\":\"Any\",\"default\":\"right-top\"},{\"name\":\"offsetx\",\"kind\":\"Any\",\"default\":null},{\"name\":\"offsety\",\"kind\":\"Any\",\"default\":null},{\"name\":\"theme\",\"kind\":\"Any\",\"default\":\"primary\"},{\"name\":\"status\",\"kind\":\"Any\",\"default\":\"normalized\"}]},{\"type\":\"model\",\"name\":\"GridStack1\",\"properties\":[{\"name\":\"mode\",\"kind\":\"Any\",\"default\":\"warn\"},{\"name\":\"ncols\",\"kind\":\"Any\",\"default\":null},{\"name\":\"nrows\",\"kind\":\"Any\",\"default\":null},{\"name\":\"allow_resize\",\"kind\":\"Any\",\"default\":true},{\"name\":\"allow_drag\",\"kind\":\"Any\",\"default\":true},{\"name\":\"state\",\"kind\":\"Any\",\"default\":[]}]},{\"type\":\"model\",\"name\":\"drag1\",\"properties\":[{\"name\":\"slider_width\",\"kind\":\"Any\",\"default\":5},{\"name\":\"slider_color\",\"kind\":\"Any\",\"default\":\"black\"},{\"name\":\"value\",\"kind\":\"Any\",\"default\":50}]},{\"type\":\"model\",\"name\":\"click1\",\"properties\":[{\"name\":\"terminal_output\",\"kind\":\"Any\",\"default\":\"\"},{\"name\":\"debug_name\",\"kind\":\"Any\",\"default\":\"\"},{\"name\":\"clears\",\"kind\":\"Any\",\"default\":0}]},{\"type\":\"model\",\"name\":\"FastWrapper1\",\"properties\":[{\"name\":\"object\",\"kind\":\"Any\",\"default\":null},{\"name\":\"style\",\"kind\":\"Any\",\"default\":null}]},{\"type\":\"model\",\"name\":\"NotificationAreaBase1\",\"properties\":[{\"name\":\"js_events\",\"kind\":\"Any\",\"default\":{\"type\":\"map\"}},{\"name\":\"position\",\"kind\":\"Any\",\"default\":\"bottom-right\"},{\"name\":\"_clear\",\"kind\":\"Any\",\"default\":0}]},{\"type\":\"model\",\"name\":\"NotificationArea1\",\"properties\":[{\"name\":\"js_events\",\"kind\":\"Any\",\"default\":{\"type\":\"map\"}},{\"name\":\"notifications\",\"kind\":\"Any\",\"default\":[]},{\"name\":\"position\",\"kind\":\"Any\",\"default\":\"bottom-right\"},{\"name\":\"_clear\",\"kind\":\"Any\",\"default\":0},{\"name\":\"types\",\"kind\":\"Any\",\"default\":[{\"type\":\"map\",\"entries\":[[\"type\",\"warning\"],[\"background\",\"#ffc107\"],[\"icon\",{\"type\":\"map\",\"entries\":[[\"className\",\"fas fa-exclamation-triangle\"],[\"tagName\",\"i\"],[\"color\",\"white\"]]}]]},{\"type\":\"map\",\"entries\":[[\"type\",\"info\"],[\"background\",\"#007bff\"],[\"icon\",{\"type\":\"map\",\"entries\":[[\"className\",\"fas fa-info-circle\"],[\"tagName\",\"i\"],[\"color\",\"white\"]]}]]}]}]},{\"type\":\"model\",\"name\":\"Notification\",\"properties\":[{\"name\":\"background\",\"kind\":\"Any\",\"default\":null},{\"name\":\"duration\",\"kind\":\"Any\",\"default\":3000},{\"name\":\"icon\",\"kind\":\"Any\",\"default\":null},{\"name\":\"message\",\"kind\":\"Any\",\"default\":\"\"},{\"name\":\"notification_type\",\"kind\":\"Any\",\"default\":null},{\"name\":\"_destroyed\",\"kind\":\"Any\",\"default\":false}]},{\"type\":\"model\",\"name\":\"TemplateActions1\",\"properties\":[{\"name\":\"open_modal\",\"kind\":\"Any\",\"default\":0},{\"name\":\"close_modal\",\"kind\":\"Any\",\"default\":0}]},{\"type\":\"model\",\"name\":\"BootstrapTemplateActions1\",\"properties\":[{\"name\":\"open_modal\",\"kind\":\"Any\",\"default\":0},{\"name\":\"close_modal\",\"kind\":\"Any\",\"default\":0}]},{\"type\":\"model\",\"name\":\"TemplateEditor1\",\"properties\":[{\"name\":\"layout\",\"kind\":\"Any\",\"default\":[]}]},{\"type\":\"model\",\"name\":\"MaterialTemplateActions1\",\"properties\":[{\"name\":\"open_modal\",\"kind\":\"Any\",\"default\":0},{\"name\":\"close_modal\",\"kind\":\"Any\",\"default\":0}]},{\"type\":\"model\",\"name\":\"copy_to_clipboard1\",\"properties\":[{\"name\":\"fill\",\"kind\":\"Any\",\"default\":\"none\"},{\"name\":\"value\",\"kind\":\"Any\",\"default\":null}]}]}};\n  const render_items = [{\"docid\":\"b70c8d58-a008-414d-804a-3885cc87a81e\",\"roots\":{\"5b4d1042-8d6f-4697-8185-5bfe0b1d192b\":\"ad8769d2-1a31-4afd-bc20-8d0e01c3a4e5\"},\"root_ids\":[\"5b4d1042-8d6f-4697-8185-5bfe0b1d192b\"]}];\n  void root.Bokeh.embed.embed_items_notebook(docs_json, render_items);\n  }\n  if (root.Bokeh !== undefined) {\n    embed_document(root);\n  } else {\n    let attempts = 0;\n    const timer = setInterval(function(root) {\n      if (root.Bokeh !== undefined) {\n        clearInterval(timer);\n        embed_document(root);\n      } else {\n        attempts++;\n        if (attempts > 100) {\n          clearInterval(timer);\n          console.log(\"Bokeh: ERROR: Unable to run BokehJS code because BokehJS library is missing\");\n        }\n      }\n    }, 10, root)\n  }\n})(window);",
      "application/vnd.bokehjs_exec.v0+json": ""
     },
     "metadata": {
      "application/vnd.bokehjs_exec.v0+json": {
       "id": "5b4d1042-8d6f-4697-8185-5bfe0b1d192b"
      }
     },
     "output_type": "display_data"
    }
   ],
   "source": [
    "# Plot results Numpy\n",
    "curve = poly(X_poly, w)\n",
    "p1 = scatter(X, y, title = \"Ex2.1 - Polynomial Regeression With Numpy\")\n",
    "p1.scatter(X, curve, line_width=6, line_alpha=0.6, color=\"green\", legend_label=\"Regression curve\")\n",
    "plot1 = (center_plot(p1))\n",
    "\n",
    "# Plot results Jax\n",
    "curve2 = poly(X_poly, jnp.concatenate([b, w1, w2, w3]))\n",
    "p2 = scatter(X, y, title = \"Ex2.2 - Polynomial Regeression With Jax\")\n",
    "p2.scatter(X, curve, line_width=6, line_alpha=0.6, color=\"green\", legend_label=\"Regression curve\")\n",
    "plot2 = (center_plot(p2))\n",
    "\n",
    "spacer = Spacer(width=20, height=600)\n",
    "double_plot = row(p1, spacer, p2)\n",
    "show(double_plot)\n",
    "\n",
    "# plot1.show()\n",
    "# plot2.show()"
   ]
  },
  {
   "cell_type": "code",
   "execution_count": 66,
   "metadata": {},
   "outputs": [
    {
     "name": "stdout",
     "output_type": "stream",
     "text": [
      "MSE_loss = 8.26314956747439\n",
      "CPU times: user 1.09 s, sys: 7.55 ms, total: 1.1 s\n",
      "Wall time: 1.1 s\n"
     ]
    }
   ],
   "source": [
    "%%time\n",
    "# Numpy training time\n",
    "for i in range(epochs):\n",
    "    y_bar = poly(X_poly, w)\n",
    "    loss = MSE_loss(y_bar, y)\n",
    "    losses.append(loss)\n",
    "    update_weights(X_poly, y, y_bar, w, lr)\n",
    "y_bar = poly(X_poly, w)\n",
    "print(f\"MSE_loss = {MSE_loss(y_bar, y)}\")"
   ]
  },
  {
   "cell_type": "code",
   "execution_count": 68,
   "metadata": {},
   "outputs": [
    {
     "name": "stdout",
     "output_type": "stream",
     "text": [
      "MSE_loss = 8.264328002929688\n",
      "CPU times: user 5.81 s, sys: 26.4 ms, total: 5.84 s\n",
      "Wall time: 5.84 s\n"
     ]
    }
   ],
   "source": [
    "%%time\n",
    "# Jax training time\n",
    "for i in range(epochs):\n",
    "    gradients = grad_loss_function(x_j, y_j, b, w1, w2, w3)\n",
    "\n",
    "    b -= lr * gradients[0]\n",
    "    w1 -= lr * gradients[1]\n",
    "    w2 -= lr * gradients[2]\n",
    "    w3 -= lr * gradients[3]\n",
    "print(f\"MSE_loss = {MSE_loss_j(x_j, y_j, b, w1, w2, w3)}\")"
   ]
  },
  {
   "cell_type": "markdown",
   "metadata": {},
   "source": [
    "<a id=\"audio\"></a>\n",
    "# Audio applications\n",
    "\n",
    "In order to test our algorithms on audio and music data, we will work with several datasets. We will both be using well-known state-of-art datasets (through the TF dataset system). But first, we will rely on a simple dataset (`Musclefish`) that should be downloaded on your local computer first from this [link](https://nubo.ircam.fr/index.php/s/ByK4QL7nE4Mq5MA)\n",
    "\n",
    "**The following set of instructions will perform that automatically for you :)**"
   ]
  },
  {
   "cell_type": "code",
   "execution_count": null,
   "metadata": {},
   "outputs": [],
   "source": [
    "!curl https://nubo.ircam.fr/index.php/s/ByK4QL7nE4Mq5MA/download/musclefish.zip --output musclefish.zip\n",
    "!unzip musclefish.zip\n",
    "!mkdir data\n",
    "!mv musclefish data/"
   ]
  },
  {
   "cell_type": "markdown",
   "metadata": {},
   "source": [
    "## Dataset details\n",
    "\n",
    "  |**Type**|*Origin*|\n",
    "  |-------:|:---------|\n",
    "  |**Classification**|[*MuscleFish*](http://knight.cis.temple.edu/~vasilis/Courses/CIS750/Papers/muscle_fish.pdf) dataset|\n",
    "  |**Music-speech**|[*MIREX Recognition*](http://www.music-ir.org/mirex/wiki/2015:Music/Speech_Classification_and_Detection) set|\n",
    "  |**Source separation**|[*SMC Mirum*](http://smc.inesctec.pt/research/data-2/) dataset|\n",
    "  |**Speech recognition**|[*CMU Arctic*](http://festvox.org/cmu_arctic/) dataset|\n",
    "\n",
    "**Unzip the file and place the `musclefish` folder inside a `data` folder in the root of this notebook**\n",
    "For the first parts of the tutorial, we will mostly rely solely on the classification dataset. In order to facilitate the interactions, we provide a dataset class called `AudioSupervisedDataset` that will allow to import all audio datasets along the tutorials. This class also contains a set of holders and will allow us to perform batch-wise gradient descent.\n",
    "\n",
    "```Python\n",
    "class AudioSupervisedDataset():\n",
    "    \"\"\"\n",
    "    Helper class to import datasets\n",
    "    % class_path  : Path to the dataset (string)\n",
    "    % type       : Type of dataset (string: 'classify', 'plain', 'metadata')\n",
    "    \"\"\" \n",
    "    audio_files\n",
    "    labels\n",
    "    labels_names\n",
    "    num_examples \n",
    "    num_classes \n",
    "```\n",
    "\n",
    "We also provide a simplified function `import_dataset` that is demonstrated below.\n",
    "\n",
    "***\n",
    "<div class=\"alert alert-success\" markdown=\"1\" style=\"color:white; background-color: #192841; border-color: #779ecb\">\n",
    "\n",
    "**_Exercise_**  \n",
    "\n",
    "  1. Launch the import procedure and check the corresponding structure\n",
    "  2. Code a count function that prints the name and number of examples for each classes \n",
    "\n",
    "</div>\n",
    "\n",
    "***"
   ]
  },
  {
   "cell_type": "code",
   "execution_count": 1,
   "metadata": {},
   "outputs": [
    {
     "name": "stdout",
     "output_type": "stream",
     "text": [
      "Recursive search in /tmp/data//musclefish\n",
      "Metal device set to: Apple M1 Pro\n",
      "(16, 44100)\n",
      "(16,)\n"
     ]
    }
   ],
   "source": [
    "from cml.data import import_dataset, AudioSupervisedDataset\n",
    "data_path = \"data/\"\n",
    "batch_size = 16\n",
    "# Instantiate the dataset class\n",
    "train_dataset = import_dataset(data_path, \"musclefish\", 'train', batch_size=batch_size)\n",
    "# Generate a batch of data from the train dataset\n",
    "batch_x, batch_y = next(train_dataset)\n",
    "# Print the shape of the input and output batch tensors\n",
    "print(batch_x.shape)  # (16, 44100)\n",
    "print(batch_y.shape)  # (16,)"
   ]
  },
  {
   "cell_type": "code",
   "execution_count": 2,
   "metadata": {},
   "outputs": [
    {
     "name": "stdout",
     "output_type": "stream",
     "text": [
      "52\n"
     ]
    }
   ],
   "source": [
    "#%% Q-0.1.2 - Count function to print the number of examples in each class along with class label\n",
    "\n",
    "n_batch = 0\n",
    "train_dataset._reset_generator()\n",
    "for batch_x, batch_y in iter(train_dataset):\n",
    "    n_batch += 1\n",
    "    ######################\n",
    "    # YOUR CODE GOES HERE\n",
    "    ######################\n",
    "\n",
    "print(n_batch)"
   ]
  },
  {
   "cell_type": "markdown",
   "metadata": {},
   "source": [
    "### Preprocessing\n",
    "\n",
    "We will rely on a set of spectral transforms that allow to obtain a more descriptive view over the audio information. As most of these are out of the scope of the machine learning course, we redirect you to a [signal processing course](https://ccrma.stanford.edu/~jos/sasp/) proposed by [Julius O. Smith](https://ccrma.stanford.edu/~jos/).  \n",
    "\n",
    "The following functions to compute various types of transforms are given as part of the basic audio dataset class, in the `cml.data.audio` package\n",
    "\n",
    "  |**Name**|*Transform*|\n",
    "  |-------:|:----------|\n",
    "  |`stft`       |[Short-term Fourier transform](https://en.wikipedia.org/wiki/Short-time_Fourier_transform)|\n",
    "  |`mel`  |[Mel scale](https://en.wikipedia.org/wiki/Mel_scale) transform|\n",
    "  |`chroma` |[Chromas vector](https://en.wikipedia.org/wiki/Harmonic_pitch_class_profiles)|\n",
    "  |`cqt`        |[Constant-Q](https://en.wikipedia.org/wiki/Constant_Q_transform) transform|\n",
    "\n",
    "In order to perform the various computations, we provide the following function, in the `AudioSupervisedDataset` which performs the different transforms on a complete dataset.  \n",
    "\n",
    "``` Python\n",
    "dataset.transform(index, name)\n",
    "    \"\"\" index   : Specific index in our dataset \"\"\"\n",
    "    \"\"\" name    : Name of the transform to apply \"\"\"\n",
    "\n",
    "# The name can be selected in \n",
    "\"stft\"      # Power spectrum (STFT)\n",
    "\"mel\"       # Spectrum in Mel scale\n",
    "\"chroma\"    # Chroma vectors\n",
    "\"cqt\"       # Constant-Q transform\n",
    "```\n"
   ]
  },
  {
   "cell_type": "markdown",
   "metadata": {},
   "source": [
    "***\n",
    "<div class=\"alert alert-success\" markdown=\"1\" style=\"color:white; background-color: #192841; border-color: #779ecb\">\n",
    "\n",
    "**Exercise**  \n",
    "\n",
    "  1. Launch the transform computation procedure and check the corresponding structure\n",
    "  2. For each class, select a random element and plot its various transforms on a single plot. You should obtain plots similar to those shown afterwards.\n",
    "  3. For each transform, try to spot major pros and cons of their representation.\n",
    "  \n",
    "</div>\n",
    "\n",
    "***"
   ]
  },
  {
   "cell_type": "code",
   "execution_count": 3,
   "metadata": {},
   "outputs": [],
   "source": [
    "# 0.2 - Pre-process the audio to obtain spectral transforms \n",
    "power_spec = train_dataset.transform(0, \"stft\")"
   ]
  },
  {
   "cell_type": "code",
   "execution_count": 4,
   "metadata": {},
   "outputs": [],
   "source": [
    "#%% Q-0.2.2 - Plot the various transforms \n",
    "\n",
    "######################\n",
    "# YOUR CODE GOES HERE\n",
    "######################\n"
   ]
  },
  {
   "cell_type": "markdown",
   "metadata": {},
   "source": [
    "### Features\n",
    "\n",
    "<div markdown = \"1\">\n",
    "\n",
    "As you might have noted from the previous exercice, most spectral transforms have a very high dimensionality, and might not be suited to exhibit the relevant structure of different classes. To that end, we provide a set of functions for computing several spectral features in the `cml.data` package, we redirect interested readers to this [exhaustive article](http://recherche.ircam.fr/anasyn/peeters/ARTICLES/Peeters_2003_cuidadoaudiofeatures.pdf) on spectral features computation.\n",
    "\n",
    "  |**File**|*Transform*|\n",
    "  |-------:|:----------|\n",
    "  |`spectral_centroid`|Spectral centroid|\n",
    "  |`spectral_bandwidth`|Spectral bandwidth|\n",
    "  |`spectral_contrast`|Spectral contrast|\n",
    "  |`spectral_flatness`|Spectral flatness|\n",
    "  |`spectral_rolloff`|Spectral rolloff|\n",
    "\n",
    "Once again, we provide a function to perform the computation of different features on a complete set. Note that for each feature, we obtain the temporal evolution in a vector. Therefore, for further learning tasks, if you wish to obtain simplified spaces, you might need to compute the mean and standard deviation of each feature.\n",
    "\n",
    "``` Python\n",
    "dataset.feature(index, name)\n",
    "    \"\"\" index   : Specific index in our dataset \"\"\"\n",
    "    \"\"\" name    : Name of the feature to obtain \"\"\"\n",
    "\n",
    "# Name can be chosen inside the following\n",
    "\"loudness\"    # Loudness\n",
    "\"centroid\"    # Spectral centroid\n",
    "\"bandwidth\"   # Spectral bandwidth\n",
    "\"contrast\"    # Spectral contrast\n",
    "\"flatness\"    # Spectral flatness\n",
    "\"rolloff\"     # Spectral rolloff\n",
    "\n",
    "```"
   ]
  },
  {
   "cell_type": "markdown",
   "metadata": {},
   "source": [
    "***\n",
    "<div class=\"alert alert-success\" markdown=\"1\" style=\"color:white; background-color: #192841; border-color: #779ecb\">\n",
    "\n",
    "**Exercise**\n",
    "\n",
    "  1. Launch the feature computation procedure and check the corresponding structure\n",
    "  2. This time for each class, superimpose the plots of various features on a single plot, along with a boxplot of mean and standard deviations. You should obtain plots similar to those shown afterwards.\n",
    "  3. What conclusions can you make on the discriminative power of each feature ?\n",
    "  4. Perform scatter plots of the mean features for all the dataset, while coloring different classes.\n",
    "  5. What conclusions can you make on the discriminative power of mean features ?\n",
    "\n",
    "</div>\n",
    "\n",
    "***"
   ]
  },
  {
   "cell_type": "code",
   "execution_count": 5,
   "metadata": {},
   "outputs": [],
   "source": [
    "# 0.3 - Compute temporal spectral features\n",
    "power_spec = train_dataset.feature(0, \"centroid\")"
   ]
  },
  {
   "cell_type": "code",
   "execution_count": 14,
   "metadata": {},
   "outputs": [],
   "source": [
    "#%% Q-0.3.2 - Plot the various features \n",
    "\n",
    "# Use these styles for boxplot\n",
    "boxprops=dict(linewidth=3, color='white')\n",
    "whiskerprops=dict(linewidth=3, color='white')\n",
    "medianprops=dict(linewidth=2.5, color='firebrick')\n",
    "flierprops = dict(markeredgecolor='white', markerfacecolor='firebrick')\n",
    "\n",
    "######################\n",
    "# YOUR CODE GOES HERE\n",
    "######################\n"
   ]
  },
  {
   "cell_type": "code",
   "execution_count": null,
   "metadata": {},
   "outputs": [],
   "source": [
    "#%% Q-0.3.4 - Observe the distribution of classes for different features\n",
    "\n",
    "# This allows to use 3D rendering in matplotlib\n",
    "from mpl_toolkits.mplot3d import Axes3D\n",
    "plt.figure(figsize=(12,8))\n",
    "# Create a vector of random colors for each class\n",
    "colorVect = np.zeros((3, len(data_struct[\"class_names\"])));\n",
    "for c in range(len(data_struct[\"class_names\"])):\n",
    "    colorVect[:,c] = np.random.rand(3);\n",
    "\n",
    "######################\n",
    "# YOUR CODE GOES HERE\n",
    "######################\n"
   ]
  },
  {
   "cell_type": "markdown",
   "metadata": {},
   "source": [
    "That's it for this tutorial, now remember that we can use any form of description (features) as a basis for learning algorithms. We will see in the next tutorial what we an do with these features."
   ]
  }
 ],
 "metadata": {
  "kernelspec": {
   "display_name": "Python 3 (ipykernel)",
   "language": "python",
   "name": "python3"
  },
  "language_info": {
   "codemirror_mode": {
    "name": "ipython",
    "version": 3
   },
   "file_extension": ".py",
   "mimetype": "text/x-python",
   "name": "python",
   "nbconvert_exporter": "python",
   "pygments_lexer": "ipython3",
   "version": "3.11.9"
  },
  "latex_envs": {
   "LaTeX_envs_menu_present": true,
   "autoclose": false,
   "autocomplete": true,
   "bibliofile": "biblio.bib",
   "cite_by": "apalike",
   "current_citInitial": 1,
   "eqLabelWithNumbers": true,
   "eqNumInitial": 1,
   "hotkeys": {
    "equation": "Ctrl-E",
    "itemize": "Ctrl-I"
   },
   "labels_anchors": false,
   "latex_user_defs": false,
   "report_style_numbering": false,
   "user_envs_cfg": false
  }
 },
 "nbformat": 4,
 "nbformat_minor": 4
}
